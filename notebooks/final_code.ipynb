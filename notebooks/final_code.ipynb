{
 "cells": [
  {
   "cell_type": "markdown",
   "id": "5e880d85",
   "metadata": {},
   "source": [
    "# MAST30034 Group23 Project 2: Buy Now, Pay Later project"
   ]
  },
  {
   "cell_type": "code",
   "execution_count": 1,
   "id": "6ff9c25f-100b-4a63-8fd0-d66aed34efd6",
   "metadata": {},
   "outputs": [
    {
     "name": "stderr",
     "output_type": "stream",
     "text": [
      "d:\\anaconda\\lib\\site-packages\\pandas\\compat\\_optional.py:138: UserWarning: Pandas requires version '2.7.0' or newer of 'numexpr' (version '2.6.9' currently installed).\n",
      "  warnings.warn(msg, UserWarning)\n"
     ]
    }
   ],
   "source": [
    "from pyspark.sql import SparkSession\n",
    "from pyspark.sql import functions as F\n",
    "from pyspark.sql.functions import col, regexp_replace, regexp_extract\n",
    "from pyspark.sql.functions import sum, max\n",
    "from pyspark.sql.functions import split\n",
    "from pyspark.sql.window import Window\n",
    "import matplotlib.pyplot as plt\n",
    "import pandas as pd\n",
    "from pyspark.sql import types as T\n",
    "\n",
    "spark = SparkSession.builder\\\n",
    "    .appName(\"project_2\")\\\n",
    "    .config(\"spark.executor.memory\", \"8g\") \\\n",
    "    .config(\"spark.driver.memory\", \"4g\") \\\n",
    "    .getOrCreate()"
   ]
  },
  {
   "cell_type": "code",
   "execution_count": 2,
   "id": "efd11e22",
   "metadata": {},
   "outputs": [],
   "source": [
    "from pyspark.sql.functions import col, sum, max"
   ]
  },
  {
   "cell_type": "code",
   "execution_count": 3,
   "id": "062a18cd",
   "metadata": {},
   "outputs": [],
   "source": [
    "import os\n",
    "import sys\n",
    "from pyspark.ml.feature import Word2Vec\n",
    "from pyspark.ml.clustering import KMeans\n",
    "from pyspark.ml.feature import Tokenizer\n",
    "\n",
    "import seaborn as sns\n",
    "from pyspark.sql.functions import when, count, lower, trim, monotonically_increasing_id"
   ]
  },
  {
   "cell_type": "code",
   "execution_count": 4,
   "id": "2b8dbeb2",
   "metadata": {},
   "outputs": [],
   "source": [
    "folder_path1 = '../data/tables/transactions_20210228_20210827_snapshot'\n",
    "df1 = spark.read.parquet(folder_path1)\n",
    "\n",
    "folder_path2 = '../data/tables/transactions_20210828_20220227_snapshot'\n",
    "df2 = spark.read.parquet(folder_path2)\n",
    "\n",
    "folder_path3 = '../data/tables/transactions_20220228_20220828_snapshot'\n",
    "df3 = spark.read.parquet(folder_path3)\n",
    "transaction = df1.union(df2).union(df3).drop(\"order_id\")\n",
    "\n",
    "# Loading the dataset\n",
    "\n",
    "c_match = spark.read.parquet(\"../data/tables/consumer_user_details.parquet\")\n",
    "c_raw_detail = spark.read.csv(\"../data/tables/tbl_consumer.csv\", header=True, sep = '|')\n",
    "m_detail = spark.read.parquet('../data/tables/tbl_merchants.parquet')\n",
    "m_fraud = spark.read.csv(\"../data/tables/merchant_fraud_probability.csv\", header=True)\n",
    "c_fraud = spark.read.csv(\"../data/tables/consumer_fraud_probability.csv\", header=True)\n",
    "c_detail = c_raw_detail.join(c_match, c_raw_detail[\"consumer_id\"]==c_match[\"consumer_id\"]).drop(\"consumer_id\",\"name\",\"address\",\"gender\")\n"
   ]
  },
  {
   "cell_type": "code",
   "execution_count": 5,
   "id": "b8872ec9",
   "metadata": {},
   "outputs": [
    {
     "name": "stdout",
     "output_type": "stream",
     "text": [
      "+-------+------------+------------+--------------+\n",
      "|user_id|merchant_abn|dollar_value|order_datetime|\n",
      "+-------+------------+------------+--------------+\n",
      "|      0|           0|           0|             0|\n",
      "+-------+------------+------------+--------------+\n",
      "\n",
      "+----+----+------------+\n",
      "|name|tags|merchant_abn|\n",
      "+----+----+------------+\n",
      "|   0|   0|           0|\n",
      "+----+----+------------+\n",
      "\n",
      "+-----+--------+-------+\n",
      "|state|postcode|user_id|\n",
      "+-----+--------+-------+\n",
      "|    0|       0|      0|\n",
      "+-----+--------+-------+\n",
      "\n",
      "+------------+--------------+-----------------+\n",
      "|merchant_abn|order_datetime|fraud_probability|\n",
      "+------------+--------------+-----------------+\n",
      "|           0|             0|                0|\n",
      "+------------+--------------+-----------------+\n",
      "\n",
      "+-------+--------------+-----------------+\n",
      "|user_id|order_datetime|fraud_probability|\n",
      "+-------+--------------+-----------------+\n",
      "|      0|             0|                0|\n",
      "+-------+--------------+-----------------+\n",
      "\n"
     ]
    }
   ],
   "source": [
    "#check for missing values\n",
    "transaction_has_nulls = transaction.select([max(col(c).isNull().cast(\"int\")).alias(c) for c in transaction.columns])\n",
    "transaction_has_nulls.show()\n",
    "m_detail_has_nulls = m_detail.select([max(col(c).isNull().cast(\"int\")).alias(c) for c in m_detail.columns])\n",
    "m_detail_has_nulls.show()\n",
    "c_detail_has_nulls = c_detail.select([max(col(c).isNull().cast(\"int\")).alias(c) for c in c_detail.columns])\n",
    "c_detail_has_nulls.show()\n",
    "m_fraud_has_nulls = m_fraud.select([max(col(c).isNull().cast(\"int\")).alias(c) for c in m_fraud.columns])\n",
    "m_fraud_has_nulls.show()\n",
    "c_fraud_has_nulls = c_fraud.select([max(col(c).isNull().cast(\"int\")).alias(c) for c in c_fraud.columns])\n",
    "c_fraud_has_nulls.show()"
   ]
  },
  {
   "cell_type": "code",
   "execution_count": 6,
   "id": "3bda8c94",
   "metadata": {},
   "outputs": [
    {
     "data": {
      "text/plain": [
       "(14195505, 114, 4026, 34864, 499999)"
      ]
     },
     "execution_count": 6,
     "metadata": {},
     "output_type": "execute_result"
    }
   ],
   "source": [
    "#check dimensions of datasets\n",
    "transaction.count(), m_fraud.count(), m_detail.count(), c_fraud.count(), c_detail.count()"
   ]
  },
  {
   "cell_type": "code",
   "execution_count": 7,
   "id": "a52f1afc",
   "metadata": {},
   "outputs": [],
   "source": [
    "#seperate information in m_detail\n",
    "split_col = split(col(\"tags\"), \"\\\\|\")\n",
    "m_detail = m_detail.withColumn(\"tag\", split_col.getItem(0))\n",
    "\n",
    "m_detail = m_detail.withColumn(\"tags\", regexp_replace(col(\"tags\"), \"\\\\[\", \"(\"))\n",
    "m_detail = m_detail.withColumn(\"tags\", regexp_replace(col(\"tags\"), \"\\\\]\", \")\"))\n",
    "\n",
    "pattern = \"\\\\(([a-e])\\\\)\"\n",
    "m_detail = m_detail.withColumn(\"revenue_level\", regexp_extract(col(\"tags\"), pattern, 1))\n",
    "\n",
    "pattern_take_rate = \"take rate: (\\d+\\.\\d+)\"\n",
    "\n",
    "m_detail = m_detail.withColumn(\"take_rate\", regexp_extract(col(\"tags\"), pattern_take_rate, 1))\n",
    "\n",
    "m_detail_final = m_detail"
   ]
  },
  {
   "cell_type": "code",
   "execution_count": 8,
   "id": "dd018807",
   "metadata": {},
   "outputs": [
    {
     "name": "stdout",
     "output_type": "stream",
     "text": [
      "  revenue_level  min_take_rate  max_take_rate\n",
      "0             e           0.10           0.48\n",
      "1             d           0.52           1.40\n",
      "2             c           1.40           3.10\n",
      "3             b           3.10           5.10\n",
      "4             a           5.50           7.00\n"
     ]
    }
   ],
   "source": [
    "#check the relationship between revenue level and take rate of a merchant\n",
    "from pyspark.sql import functions as F\n",
    "\n",
    "m_detail = m_detail.withColumn(\"take_rate\", m_detail[\"take_rate\"].cast(\"float\"))\n",
    "\n",
    "stats_df = m_detail.groupBy(\"revenue_level\").agg(\n",
    "    F.min(\"take_rate\").alias(\"min_take_rate\"),\n",
    "    F.max(\"take_rate\").alias(\"max_take_rate\")\n",
    ")\n",
    "\n",
    "pd_stats_df = stats_df.toPandas()\n",
    "print(pd_stats_df)"
   ]
  },
  {
   "cell_type": "code",
   "execution_count": 9,
   "id": "c89c76bd",
   "metadata": {},
   "outputs": [],
   "source": [
    "#combine m_detail with m_fraud\n",
    "m_detail_fraud = m_detail.join(m_fraud, on='merchant_abn', how='left')\n",
    "\n",
    "m_detail_fraud = m_detail_fraud.drop('tags')"
   ]
  },
  {
   "cell_type": "code",
   "execution_count": 10,
   "id": "5cf276b3",
   "metadata": {},
   "outputs": [],
   "source": [
    "#generate a statistical dataframe based on m_fraud\n",
    "m_detail_fraud = m_detail_fraud.drop('order_datetime')\n",
    "\n",
    "df_filtered = m_detail_fraud.filter(m_detail_fraud['fraud_probability'].isNotNull())\n",
    "\n",
    "df_avg_fraud = df_filtered.groupBy('merchant_abn').agg({'fraud_probability': 'avg'})\n",
    "\n",
    "df_avg_fraud = df_avg_fraud.withColumnRenamed('avg(fraud_probability)', 'avg_fraud_probability')\n",
    "\n",
    "df_fraud_stats = df_filtered.groupBy('merchant_abn') \\\n",
    "    .agg({'fraud_probability': 'avg', '*': 'count'}) \\\n",
    "    .withColumnRenamed('avg(fraud_probability)', 'avg_fraud_probability') \\\n",
    "    .withColumnRenamed('count(1)', 'fraud_count')"
   ]
  },
  {
   "cell_type": "code",
   "execution_count": 11,
   "id": "1f80631a",
   "metadata": {},
   "outputs": [],
   "source": [
    "#update m_detail with average fraud probability and fraud counts\n",
    "m_detail_fraud1 = m_detail.join(df_fraud_stats, on='merchant_abn', how='left')\n",
    "\n",
    "m_detail_fraud1 = m_detail_fraud1.drop('tags')\n",
    "\n",
    "#attach c_detail to c_fraud\n",
    "c_fraud_detail = c_fraud.join(c_detail, on='user_id', how='inner')\n",
    "\n",
    "c_fraud_detail_tsn = c_fraud_detail.join(transaction, on=['user_id', 'order_datetime'], how='inner')\n",
    "\n",
    "#find number of fraud consumers for each merchant\n",
    "m_fraud_consumer_count = c_fraud_detail_tsn.groupBy('merchant_abn') \\\n",
    "    .agg(F.countDistinct('user_id').alias('fraud_consumer_count'))\n",
    "\n",
    "#find average fraud probability of consumers for each merchant\n",
    "m_avg_c_fraud = c_fraud_detail_tsn.groupBy('merchant_abn') \\\n",
    "    .agg({'fraud_probability': 'avg'}) \\\n",
    "    .withColumnRenamed('avg(fraud_probability)', 'avg_fraud_probability')"
   ]
  },
  {
   "cell_type": "code",
   "execution_count": 12,
   "id": "38c4cc5e",
   "metadata": {},
   "outputs": [],
   "source": [
    "#find the fraud amount of consumers for each merchant\n",
    "c_fraud_detail_tsn = c_fraud_detail_tsn.withColumn(\n",
    "    'expected_fraud_amount', \n",
    "    c_fraud_detail_tsn['dollar_value'] * c_fraud_detail_tsn['fraud_probability'] / 100)\n",
    "\n",
    "c_fraud_final = c_fraud_detail_tsn.drop('dollar_value', 'fraud_probability')\n",
    "\n",
    "m_tot_c_fraud_amount = c_fraud_detail_tsn.groupBy('merchant_abn') \\\n",
    "    .agg({'expected_fraud_amount': 'sum'}) \\\n",
    "    .withColumnRenamed('sum(expected_fraud_amount)', 'total_fraud_amount')\n"
   ]
  },
  {
   "cell_type": "markdown",
   "id": "3dc76ec3",
   "metadata": {},
   "source": [
    "Develop an ETL pipeline"
   ]
  },
  {
   "cell_type": "code",
   "execution_count": 56,
   "id": "203c8fc7",
   "metadata": {},
   "outputs": [],
   "source": [
    "def etl_pipeline(merchant_path, transaction_path1, transaction_path2, transaction_path3, consumer_path1, consumer_path2):\n",
    "    # loading\n",
    "    df1 = spark.read.parquet(transaction_path1)\n",
    "    df2 = spark.read.parquet(transaction_path2)\n",
    "    df3 = spark.read.parquet(transaction_path3)\n",
    "    transaction = df1.union(df2).union(df3).drop(\"order_id\")\n",
    "    \n",
    "    m_detail = spark.read.parquet(merchant_path)\n",
    "    c_match = spark.read.parquet(consumer_path2)\n",
    "    c_raw_detail = spark.read.csv(consumer_path1, header=True, sep = '|')\n",
    "    c_detail = c_raw_detail.join(c_match, c_raw_detail[\"consumer_id\"]==c_match[\"consumer_id\"]).drop(\"consumer_id\",\"name\",\"address\",\"gender\")\n",
    "    \n",
    "    \n",
    "    # Calculate total revenue for each merchant\n",
    "    merchant_revenue = transaction.groupBy(\"merchant_abn\").agg({\"dollar_value\": \"sum\"})\n",
    "\n",
    "    # Rename the aggregated column to 'total_revenue'\n",
    "    merchant_revenue = merchant_revenue.withColumnRenamed(\"sum(dollar_value)\", \"total_revenue\")\n",
    "    \n",
    "    # Step 1: Calculate customer count by counting distinct 'user_id' from `transaction`\n",
    "    customer_count_df = transaction.groupBy(\"merchant_abn\").agg(F.countDistinct(\"user_id\").alias(\"customer_count\"))\n",
    "\n",
    "    # Step 2: Calculate total revenue by summing 'dollar_value' for each 'merchant_abn'\n",
    "    merchant_revenue = transaction.groupBy(\"merchant_abn\").agg(F.sum(\"dollar_value\").alias(\"total_revenue\"))\n",
    "\n",
    "    # Step 3: Join the customer_count and total_revenue back to the `merchants` DataFrame (m_detail)\n",
    "    # Ensure `merchant_abn` column types match in `customer_count_df` and `merchant_revenue`\n",
    "    m_detail = m_detail.withColumn(\"merchant_abn\", m_detail[\"merchant_abn\"].cast(\"long\"))\n",
    "    merchants = m_detail.join(customer_count_df, on=\"merchant_abn\", how=\"left\").join(merchant_revenue, on=\"merchant_abn\", how=\"left\")\n",
    "\n",
    "    # Step 4: Fill any missing values for `customer_count` and `total_revenue`\n",
    "    merchants = merchants.fillna({\"customer_count\": 0, \"total_revenue\": 0.0})\n",
    "\n",
    "    # Step 5: Calculate new feature: revenue per customer\n",
    "    merchants = merchants.withColumn(\"revenue_per_customer\", merchants[\"total_revenue\"] / merchants[\"customer_count\"])\n",
    "\n",
    "    # Handle division by zero (when customer_count is zero, set revenue_per_customer to 0)\n",
    "    merchants = merchants.withColumn(\"revenue_per_customer\", F.when(F.col(\"customer_count\") == 0, 0).otherwise(F.col(\"revenue_per_customer\")))\n",
    "    \n",
    "    merchants = merchants.fillna({'total_revenue': merchants.agg(F.mean('total_revenue')).first()[0]})\n",
    "    transaction = transaction.dropna(subset=[\"dollar_value\"])\n",
    "    c_detail = c_detail.fillna('Unknown')\n",
    "\n",
    "\n",
    "    merged_data = transaction.join(merchants, on='merchant_abn', how='left')\n",
    "    merged_data = merged_data.join(c_detail,on='user_id' , how='left') \n",
    "    merged_data = merged_data.drop(\"consumer_id\")\n",
    "    merged_data = merged_data.drop(\"tag\")\n",
    "    \n",
    "    \n",
    "\n",
    "    \n",
    "    # save data\n",
    "    # merged_data.write.mode(\"overwrite\").parquet('../data/curated/cleaned_merged_data.parquet')\n",
    "    return merged_data\n",
    "\n",
    "# Execute the ETL pipeline\n",
    "cleaned_data = etl_pipeline('../data/tables/tbl_merchants.parquet', '../data/tables/transactions_20210228_20210827_snapshot','../data/tables/transactions_20210828_20220227_snapshot','../data/tables/transactions_20220228_20220828_snapshot' ,\"../data/tables/tbl_consumer.csv\",\"../data/tables/consumer_user_details.parquet\")"
   ]
  },
  {
   "cell_type": "markdown",
   "id": "099689de",
   "metadata": {},
   "source": [
    "Anomaly detection"
   ]
  },
  {
   "cell_type": "code",
   "execution_count": 57,
   "id": "0dbd835f",
   "metadata": {},
   "outputs": [
    {
     "name": "stderr",
     "output_type": "stream",
     "text": [
      "d:\\anaconda\\lib\\site-packages\\sklearn\\base.py:451: UserWarning: X does not have valid feature names, but IsolationForest was fitted with feature names\n",
      "  \"X does not have valid feature names, but\"\n"
     ]
    },
    {
     "name": "stdout",
     "output_type": "stream",
     "text": [
      "+------------+------------------+----------------+-------------------------+-------+\n",
      "|merchant_abn|     total_revenue|unique_customers|average_transaction_value|anomaly|\n",
      "+------------+------------------+----------------+-------------------------+-------+\n",
      "| 38700038932| 9546185.360697305|            6170|       1338.5004712138677|     -1|\n",
      "| 99989036621| 56552.39444305644|               1|        56552.39444305644|     -1|\n",
      "| 90568944804| 9618324.530454507|            8698|        896.2285250143968|     -1|\n",
      "| 98518649381|3821722.4316547546|            3504|       1007.5724839585432|     -1|\n",
      "| 43127814599| 5160928.759876952|            3564|       1332.1963758071636|     -1|\n",
      "| 58729395250|2957138.7910835817|            2013|       1408.8322015643553|     -1|\n",
      "| 29674997261|142066.08582788712|               6|        23677.68097131452|     -1|\n",
      "| 46916077029|1040034.6932008725|              81|        12839.93448396139|     -1|\n",
      "| 21319642626| 181291.0566193992|               8|         22661.3820774249|     -1|\n",
      "| 27093785141| 9753403.834746333|           15836|       376.17262553017326|     -1|\n",
      "| 49891706470| 7171594.313784172|           24078|       28.973095003289238|     -1|\n",
      "| 27326652377| 6479939.749639607|            5607|       1011.7001951037638|     -1|\n",
      "| 15560455575| 2569885.655949388|           16886|        87.87135526052754|     -1|\n",
      "| 52959528548|7251987.9501492055|           19984|       170.60691062999518|     -1|\n",
      "| 53126107676|  2690513.07318191|            6218|       376.71703628982215|     -1|\n",
      "| 71528203369| 1879794.002348788|           17897|        58.01117153279805|     -1|\n",
      "| 67202032418| 6847856.830166542|           15751|         268.501287255589|     -1|\n",
      "| 80551528183| 8853615.718828905|            6729|       1127.1312181831834|     -1|\n",
      "| 39150153670| 38089.93927161727|               1|        38089.93927161727|     -1|\n",
      "| 12771097467| 4932394.026652825|            1297|       3680.8910646662875|     -1|\n",
      "+------------+------------------+----------------+-------------------------+-------+\n",
      "only showing top 20 rows\n",
      "\n"
     ]
    }
   ],
   "source": [
    "from pyspark.sql import SparkSession\n",
    "from pyspark.sql.functions import col, sum, countDistinct, avg\n",
    "from sklearn.ensemble import IsolationForest\n",
    "\n",
    "# Step 2: Feature Engineering for Merchant Anomaly Detection\n",
    "# Calculate total revenue, number of unique customers, and average transaction value for each merchant\n",
    "merchant_features = transaction.groupBy(\"merchant_abn\").agg(\n",
    "    F.sum(\"dollar_value\").alias(\"total_revenue\"),  \n",
    "    F.countDistinct(\"user_id\").alias(\"unique_customers\"), \n",
    "    F.avg(\"dollar_value\").alias(\"average_transaction_value\") \n",
    ")\n",
    "\n",
    "# Convert to Pandas DataFrame for use with Scikit-learn\n",
    "merchant_features_pd = merchant_features.toPandas()\n",
    "\n",
    "# Step 3: Handle missing or infinite values (if any)\n",
    "merchant_features_pd = merchant_features_pd.fillna(0)\n",
    "merchant_features_pd = merchant_features_pd.replace([float('inf'), -float('inf')], 0)\n",
    "\n",
    "# Step 4: Anomaly Detection using Isolation Forest\n",
    "# Initialize and fit the Isolation Forest model\n",
    "merchant_model = IsolationForest(contamination=0.05, random_state=42)\n",
    "merchant_features_pd['anomaly'] = merchant_model.fit_predict(\n",
    "    merchant_features_pd[[\"total_revenue\", \"unique_customers\", \"average_transaction_value\"]]\n",
    ")\n",
    "\n",
    "# Convert predictions back to Spark DataFrame\n",
    "merchant_anomalies = spark.createDataFrame(merchant_features_pd)\n",
    "\n",
    "# Step 5: Show the results\n",
    "# Display the merchants classified as anomalies\n",
    "merchant_anomalies.filter(merchant_anomalies['anomaly'] == -1).show()\n",
    "\n",
    "# Optional: Save the results to a CSV or Parquet file for further analysis\n",
    "# merchant_anomalies.write.parquet(\"merchant_anomalies.parquet\", mode='overwrite')"
   ]
  },
  {
   "cell_type": "code",
   "execution_count": 58,
   "id": "4b7cf77b",
   "metadata": {},
   "outputs": [
    {
     "name": "stdout",
     "output_type": "stream",
     "text": [
      "   user_id    total_spent  transaction_count  average_transaction_value\n",
      "0       26   94290.066114                588                 160.357255\n",
      "1    18730   96322.244891                581                 165.786996\n",
      "2      474  114137.088671                597                 191.184403\n",
      "3    19141  109441.631247                597                 183.319315\n",
      "4    19158   96380.828902                582                 165.602799\n"
     ]
    },
    {
     "name": "stderr",
     "output_type": "stream",
     "text": [
      "d:\\anaconda\\lib\\site-packages\\sklearn\\base.py:451: UserWarning: X does not have valid feature names, but IsolationForest was fitted with feature names\n",
      "  \"X does not have valid feature names, but\"\n"
     ]
    },
    {
     "name": "stdout",
     "output_type": "stream",
     "text": [
      "Number of anomalies detected: 1203\n",
      "     user_id    total_spent  transaction_count  average_transaction_value  \\\n",
      "34      9233  130188.477242                614                 212.033351   \n",
      "54     13518  130256.147651                577                 225.747223   \n",
      "81     22429  131325.785761                585                 224.488523   \n",
      "89     13460   87575.309156                615                 142.398877   \n",
      "112       65  157215.941439                581                 270.595424   \n",
      "\n",
      "     anomaly  \n",
      "34        -1  \n",
      "54        -1  \n",
      "81        -1  \n",
      "89        -1  \n",
      "112       -1  \n",
      "+-------+------------------+-----------------+-------------------------+-------+\n",
      "|user_id|       total_spent|transaction_count|average_transaction_value|anomaly|\n",
      "+-------+------------------+-----------------+-------------------------+-------+\n",
      "|   9233| 130188.4772423228|              614|         212.033350557529|     -1|\n",
      "|  13518| 130256.1476507151|              577|       225.74722296484418|     -1|\n",
      "|  22429|  131325.785760757|              585|       224.48852266796067|     -1|\n",
      "|  13460| 87575.30915556761|              615|        142.3988766757197|     -1|\n",
      "|     65|157215.94143866043|              581|       270.59542416292675|     -1|\n",
      "|  19838| 75926.27469153976|              597|        127.1796896005691|     -1|\n",
      "|  23030|118959.98453919482|              616|       193.11685801817342|     -1|\n",
      "|  23870| 74594.96411184249|              571|       130.63916657065235|     -1|\n",
      "|  22932|124453.60480152772|              608|        204.6934289498811|     -1|\n",
      "|   9068|127700.92011133589|              579|       220.55426616811033|     -1|\n",
      "+-------+------------------+-----------------+-------------------------+-------+\n",
      "only showing top 10 rows\n",
      "\n"
     ]
    }
   ],
   "source": [
    "customer_features = transaction.groupBy(\"user_id\").agg(\n",
    "    F.sum(\"dollar_value\").alias(\"total_spent\"),           # Total spending by the customer\n",
    "    F.count(\"dollar_value\").alias(\"transaction_count\"),   # Number of transactions\n",
    "    F.avg(\"dollar_value\").alias(\"average_transaction_value\")  # Average value of each transaction\n",
    ")\n",
    "\n",
    "# Convert the customer features Spark DataFrame to a Pandas DataFrame for use with Scikit-learn\n",
    "customer_features_pd = customer_features.toPandas()\n",
    "\n",
    "# Handle any missing or infinite values (if present)\n",
    "customer_features_pd = customer_features_pd.fillna(0)\n",
    "customer_features_pd = customer_features_pd.replace([float('inf'), -float('inf')], 0)\n",
    "\n",
    "# Display the first few rows to ensure proper conversion and handling\n",
    "print(customer_features_pd.head())\n",
    "\n",
    "# Initialize the Isolation Forest model\n",
    "customer_model = IsolationForest(contamination=0.05, random_state=42)\n",
    "\n",
    "# Train the Isolation Forest model on the customer features\n",
    "# We use total_spent, transaction_count, and average_transaction_value as the features\n",
    "customer_model.fit(customer_features_pd[[\"total_spent\", \"transaction_count\", \"average_transaction_value\"]])\n",
    "\n",
    "# Predict anomalies: -1 for outliers, 1 for inliers\n",
    "customer_features_pd[\"anomaly\"] = customer_model.predict(\n",
    "    customer_features_pd[[\"total_spent\", \"transaction_count\", \"average_transaction_value\"]]\n",
    ")\n",
    "\n",
    "# Display the number of anomalies detected\n",
    "print(\"Number of anomalies detected:\", (customer_features_pd[\"anomaly\"] == -1).sum())\n",
    "\n",
    "# Display a sample of the customers classified as anomalies\n",
    "print(customer_features_pd[customer_features_pd[\"anomaly\"] == -1].head())\n",
    "\n",
    "# Convert the Pandas DataFrame back to a Spark DataFrame for further processing or saving\n",
    "customer_anomalies = spark.createDataFrame(customer_features_pd)\n",
    "\n",
    "# Show the anomalies in the Spark DataFrame\n",
    "customer_anomalies.filter(customer_anomalies[\"anomaly\"] == -1).show(10)\n",
    "\n",
    "# Save the anomalies to a Parquet file for future analysis or reporting\n",
    "# customer_anomalies.write.parquet(\"customer_anomalies.parquet\", mode='overwrite')"
   ]
  },
  {
   "cell_type": "code",
   "execution_count": 60,
   "id": "d7a7a931",
   "metadata": {},
   "outputs": [
    {
     "name": "stdout",
     "output_type": "stream",
     "text": [
      "Number of outliers: 1534230\n"
     ]
    }
   ],
   "source": [
    "# Outlier analysis (example: using IQR method to identify outliers)\n",
    "# Convert the column to a Pandas Series\n",
    "dollar_value_pd = cleaned_data.select('dollar_value').toPandas()\n",
    "\n",
    "# Calculate the quantiles using Pandas\n",
    "Q1 = dollar_value_pd['dollar_value'].quantile(0.25)\n",
    "Q3 = dollar_value_pd['dollar_value'].quantile(0.75)\n",
    "IQR = Q3 - Q1\n",
    "\n",
    "# Filter out the outliers in the Spark DataFrame\n",
    "outliers = cleaned_data.filter(\n",
    "    (cleaned_data['dollar_value'] < (Q1 - 1.5 * IQR)) | \n",
    "    (cleaned_data['dollar_value'] > (Q3 + 1.5 * IQR))\n",
    ")\n",
    "\n",
    "print(f\"Number of outliers: {outliers.count()}\")"
   ]
  },
  {
   "cell_type": "code",
   "execution_count": 62,
   "id": "7534c14a",
   "metadata": {},
   "outputs": [
    {
     "name": "stdout",
     "output_type": "stream",
     "text": [
      "+-------+------------+-----------------+--------------+--------------------+--------------------+--------------+------------------+--------------------+-----+--------+\n",
      "|user_id|merchant_abn|     dollar_value|order_datetime|                name|                tags|customer_count|     total_revenue|revenue_per_customer|state|postcode|\n",
      "+-------+------------+-----------------+--------------+--------------------+--------------------+--------------+------------------+--------------------+-----+--------+\n",
      "|     26| 83412691377|  51.124963532657|    2021-12-06|Suspendisse Sagit...|([watch, clock, a...|         10770| 498536.5816973136|  46.289376202164675|  VIC|    3469|\n",
      "|     26| 83412691377|37.59252664573718|    2022-06-15|Suspendisse Sagit...|([watch, clock, a...|         10770| 498536.5816973136|  46.289376202164675|  VIC|    3469|\n",
      "|     26| 10648956813|86.58263842410851|    2022-09-06|Proin Nisl Institute|[(computeRs, comp...|         14380|1419600.2971491965|   98.72046572664787|  VIC|    3469|\n",
      "+-------+------------+-----------------+--------------+--------------------+--------------------+--------------+------------------+--------------------+-----+--------+\n",
      "only showing top 3 rows\n",
      "\n"
     ]
    }
   ],
   "source": [
    "cleaned_data.show(3)"
   ]
  },
  {
   "cell_type": "code",
   "execution_count": 63,
   "id": "941db39a",
   "metadata": {},
   "outputs": [
    {
     "name": "stdout",
     "output_type": "stream",
     "text": [
      "+-------+------------+-----------------+--------------+--------------------+--------------------+--------------+------------------+--------------------+-----+--------+\n",
      "|user_id|merchant_abn|     dollar_value|order_datetime|                name|                tags|customer_count|     total_revenue|revenue_per_customer|state|postcode|\n",
      "+-------+------------+-----------------+--------------+--------------------+--------------------+--------------+------------------+--------------------+-----+--------+\n",
      "|     26| 83412691377|  51.124963532657|    2021-12-06|Suspendisse Sagit...|([watch, clock, a...|         10770| 498536.5816973136|  46.289376202164675|  VIC|    3469|\n",
      "|     26| 83412691377|37.59252664573718|    2022-06-15|Suspendisse Sagit...|([watch, clock, a...|         10770| 498536.5816973136|  46.289376202164675|  VIC|    3469|\n",
      "|     26| 10648956813|86.58263842410851|    2022-09-06|Proin Nisl Institute|[(computeRs, comp...|         14380|1419600.2971491965|   98.72046572664787|  VIC|    3469|\n",
      "|     26| 18303734841|297.3395616122317|    2021-08-22|Sollicitudin Orci...|[(health and beau...|          3457|1049286.5383955822|  303.52517743580626|  VIC|    3469|\n",
      "|     26| 45899477665|69.42521614881571|    2021-08-22|     At Incorporated|((books, periodic...|          5104|1413218.7581436625|  276.88455292783357|  VIC|    3469|\n",
      "+-------+------------+-----------------+--------------+--------------------+--------------------+--------------+------------------+--------------------+-----+--------+\n",
      "only showing top 5 rows\n",
      "\n"
     ]
    }
   ],
   "source": [
    "# Handling missing values\n",
    "\n",
    "# Calculate the mean value for `dollar_value` column\n",
    "mean_dollar_value = cleaned_data.agg({\"dollar_value\": \"mean\"}).collect()[0][0]\n",
    "\n",
    "# Fill missing `dollar_value` with the mean value\n",
    "merged_data_filled = cleaned_data.fillna({\"dollar_value\": mean_dollar_value})\n",
    "\n",
    "\n",
    "merged_data_filled = merged_data_filled.fillna({\"name\": \"Unknown\"})\n",
    "\n",
    "merged_data_filled.show(5)"
   ]
  },
  {
   "cell_type": "code",
   "execution_count": 64,
   "id": "29494b05",
   "metadata": {},
   "outputs": [
    {
     "name": "stdout",
     "output_type": "stream",
     "text": [
      "Number of missing values in dollar_value column: 0\n"
     ]
    }
   ],
   "source": [
    "print(\"Number of missing values in dollar_value column:\", merged_data_filled.filter(merged_data_filled['dollar_value'].isNull()).count())"
   ]
  },
  {
   "cell_type": "code",
   "execution_count": 65,
   "id": "08a0edd6",
   "metadata": {},
   "outputs": [
    {
     "data": {
      "image/png": "[encoded data removed]",
      "text/plain": [
       "<Figure size 640x480 with 1 Axes>"
      ]
     },
     "metadata": {},
     "output_type": "display_data"
    }
   ],
   "source": [
    "# Initialize Spark Session\n",
    "spark = SparkSession.builder.appName(\"Data Distribution\").getOrCreate()\n",
    "\n",
    "# Assuming `merged_data_filled` is your initial DataFrame\n",
    "# Step 1: Select the necessary column(s)\n",
    "merged_data_filled_reduced = merged_data_filled.select('dollar_value')\n",
    "\n",
    "# Step 2: Remove outliers using Spark transformations (assuming you have a filtering condition)\n",
    "# Example: Remove rows where dollar_value is greater than a threshold (e.g., > 1000000)\n",
    "outlier_removed_df = merged_data_filled_reduced.filter(col('dollar_value') <= 1000000)\n",
    "\n",
    "# Step 3: Convert a sample to Pandas if required (using a very small sample)\n",
    "sample_size = 1000000  # Adjust sample size as needed based on memory capacity\n",
    "sample_df = outlier_removed_df.limit(sample_size).toPandas()\n",
    "\n",
    "# Step 4: Plot using Seaborn or Matplotlib with the sampled data\n",
    "sns.boxplot(x=sample_df['dollar_value'])\n",
    "plt.title('Transaction Amount Distribution After Outlier Removal')\n",
    "plt.show()"
   ]
  },
  {
   "cell_type": "code",
   "execution_count": 66,
   "id": "e19fa3af",
   "metadata": {},
   "outputs": [
    {
     "data": {
      "image/png": "[encoded data removed]",
      "text/plain": [
       "<Figure size 640x480 with 1 Axes>"
      ]
     },
     "metadata": {},
     "output_type": "display_data"
    }
   ],
   "source": [
    "# Convert the necessary column to Pandas\n",
    "sample_size = 1000000  # Adjust based on memory capacity\n",
    "merged_data_sample = merged_data_filled.select(\"total_revenue\").limit(sample_size).toPandas()\n",
    "\n",
    "# Use seaborn to plot\n",
    "sns.histplot(merged_data_sample['total_revenue'], bins=30)\n",
    "plt.title('Merchant Total Revenue Distribution')\n",
    "plt.show()"
   ]
  },
  {
   "cell_type": "code",
   "execution_count": 67,
   "id": "f173f007",
   "metadata": {},
   "outputs": [
    {
     "name": "stdout",
     "output_type": "stream",
     "text": [
      "Correlation Matrix:\n",
      " [[ 1.         -0.04207247  0.53569056]\n",
      " [-0.04207247  1.          0.46023653]\n",
      " [ 0.53569056  0.46023653  1.        ]]\n",
      "Correlation Matrix (Pandas):\n",
      " Empty DataFrame\n",
      "Columns: []\n",
      "Index: []\n"
     ]
    }
   ],
   "source": [
    "from pyspark.ml.feature import VectorAssembler\n",
    "from pyspark.ml.stat import Correlation\n",
    "from pyspark.sql import SparkSession\n",
    "from pyspark.sql.functions import col\n",
    "\n",
    "# Step 1: Set up a Spark session with increased memory limits to handle large datasets\n",
    "spark = SparkSession.builder \\\n",
    "    .appName(\"CorrelationAnalysis\") \\\n",
    "    .config(\"spark.driver.memory\", \"4g\") \\\n",
    "    .config(\"spark.executor.memory\", \"4g\") \\\n",
    "    .getOrCreate()\n",
    "\n",
    "# Step 2: Ensure columns contain numeric data only\n",
    "numeric_columns = ['dollar_value', 'total_revenue', 'revenue_per_customer']  # Update with your numeric column names\n",
    "\n",
    "# Step 3: Cast columns to double to ensure compatibility with correlation calculations\n",
    "for column in numeric_columns:\n",
    "    merged_data_filled = merged_data_filled.withColumn(column, col(column).cast(\"double\"))\n",
    "\n",
    "# Step 4: Remove or fill null and NaN values in the numeric columns\n",
    "merged_data_filled = merged_data_filled.na.fill(0, subset=numeric_columns)\n",
    "\n",
    "# Step 5: Create a feature vector for correlation\n",
    "assembler = VectorAssembler(inputCols=numeric_columns, outputCol=\"features\")\n",
    "vector_df = assembler.transform(merged_data_filled).select(\"features\")\n",
    "\n",
    "# Step 6: Limit the dataset size if necessary to prevent memory overflow\n",
    "vector_df_limited = vector_df.limit(1000)  # Adjust the limit based on your available memory\n",
    "\n",
    "# Step 7: Compute the correlation matrix using the limited dataset\n",
    "correlation_matrix = Correlation.corr(vector_df_limited, \"features\").head()[0]\n",
    "\n",
    "# Step 8: Convert the correlation matrix to a numpy array for visualization or further processing\n",
    "correlation_matrix_array = correlation_matrix.toArray()\n",
    "\n",
    "# Step 9: Print the correlation matrix\n",
    "print(\"Correlation Matrix:\\n\", correlation_matrix_array)\n",
    "\n",
    "# Optional: If you want to use Pandas for visualization, you can convert the Spark DataFrame to a Pandas DataFrame (only for small datasets)\n",
    "vector_df_limited_pd = vector_df_limited.limit(100).toPandas()  # Further reduce the limit if needed\n",
    "correlation_matrix_pd = vector_df_limited_pd.corr()\n",
    "print(\"Correlation Matrix (Pandas):\\n\", correlation_matrix_pd)"
   ]
  },
  {
   "cell_type": "code",
   "execution_count": 68,
   "id": "5f85cff5",
   "metadata": {},
   "outputs": [
    {
     "data": {
      "image/png": "[encoded data removed]",
      "text/plain": [
       "<Figure size 1000x800 with 2 Axes>"
      ]
     },
     "metadata": {},
     "output_type": "display_data"
    }
   ],
   "source": [
    "numeric_columns = ['dollar_value', 'total_revenue',  'revenue_per_customer']  # Update with your numeric column names\n",
    "\n",
    "# Create a Pandas DataFrame using the numpy correlation matrix array\n",
    "correlation_matrix_df = pd.DataFrame(data=correlation_matrix_array, columns=numeric_columns, index=numeric_columns)\n",
    "\n",
    "# Step 2: Plot the heatmap using Seaborn\n",
    "plt.figure(figsize=(10, 8))\n",
    "sns.heatmap(correlation_matrix_df, annot=True, fmt='.2f', cmap='coolwarm', square=True)\n",
    "plt.title('Correlation Matrix Heatmap')\n",
    "plt.show()"
   ]
  },
  {
   "cell_type": "markdown",
   "id": "a05acbde",
   "metadata": {},
   "source": [
    "### Use K-means to categorise the merchants"
   ]
  },
  {
   "cell_type": "code",
   "execution_count": 13,
   "id": "046b5232",
   "metadata": {},
   "outputs": [],
   "source": [
    "#extract tags without revenue level and take rate\n",
    "m_detail = m_detail.withColumn(\"tag\", regexp_replace(col(\"tag\"), \"\\\\[\", \"(\"))\n",
    "m_detail = m_detail.withColumn(\"tag\", regexp_replace(col(\"tag\"), \"\\\\]\", \")\"))\n",
    "m_detail = m_detail.withColumn(\"extracted_tags\", regexp_extract(col(\"tag\"), r'\\(\\(([^)]+)\\)', 1))\n",
    "m_detail = m_detail.withColumn(\"tags_lower\", lower(trim(col(\"extracted_tags\"))))"
   ]
  },
  {
   "cell_type": "code",
   "execution_count": 14,
   "id": "a9949ca8",
   "metadata": {},
   "outputs": [],
   "source": [
    "#check random tags\n",
    "m_detail_with_index = m_detail.withColumn(\"row_number\", monotonically_increasing_id())\n",
    "m_detail_filtered = m_detail_with_index.filter((m_detail_with_index[\"row_number\"] >= 20) & (m_detail_with_index[\"row_number\"] <= 51))"
   ]
  },
  {
   "cell_type": "code",
   "execution_count": 15,
   "id": "357b5c66",
   "metadata": {},
   "outputs": [],
   "source": [
    "#K-means clustering the categories\n",
    "tokenizer = Tokenizer(inputCol=\"tags_lower\", outputCol=\"words\")\n",
    "m_detail_words = tokenizer.transform(m_detail)\n",
    "\n",
    "word2vec = Word2Vec(vectorSize=300, minCount=1, inputCol=\"words\", outputCol=\"features\")\n",
    "model = word2vec.fit(m_detail_words)\n",
    "m_detail_vectors = model.transform(m_detail_words)\n",
    "\n",
    "kmeans = KMeans(k=25, featuresCol=\"features\", predictionCol=\"cluster\", seed = 42)\n",
    "kmeans_model = kmeans.fit(m_detail_vectors)\n",
    "\n",
    "m_detail_clustered = kmeans_model.transform(m_detail_vectors)"
   ]
  },
  {
   "cell_type": "code",
   "execution_count": 16,
   "id": "84abcc7a",
   "metadata": {},
   "outputs": [],
   "source": [
    "m_detail_1 = m_detail_clustered.filter(m_detail_clustered[\"cluster\"] == 0).select('tags_lower', 'cluster').toPandas()\n",
    "m_detail_2 = m_detail_clustered.filter(m_detail_clustered[\"cluster\"] == 1).select('tags_lower', 'cluster').toPandas()\n",
    "m_detail_3 = m_detail_clustered.filter(m_detail_clustered[\"cluster\"] == 2).select('tags_lower', 'cluster').toPandas()\n",
    "m_detail_4 = m_detail_clustered.filter(m_detail_clustered[\"cluster\"] == 3).select('tags_lower', 'cluster').toPandas()\n",
    "m_detail_5 = m_detail_clustered.filter(m_detail_clustered[\"cluster\"] == 4).select('tags_lower', 'cluster').toPandas()\n",
    "m_detail_6 = m_detail_clustered.filter(m_detail_clustered[\"cluster\"] == 5).select('tags_lower', 'cluster').toPandas()\n",
    "m_detail_7 = m_detail_clustered.filter(m_detail_clustered[\"cluster\"] == 6).select('tags_lower', 'cluster').toPandas()\n",
    "m_detail_8 = m_detail_clustered.filter(m_detail_clustered[\"cluster\"] == 7).select('tags_lower', 'cluster').toPandas()\n",
    "m_detail_9 = m_detail_clustered.filter(m_detail_clustered[\"cluster\"] == 8).select('tags_lower', 'cluster').toPandas()\n",
    "m_detail_10 = m_detail_clustered.filter(m_detail_clustered[\"cluster\"] == 9).select('tags_lower', 'cluster').toPandas()\n",
    "m_detail_11 = m_detail_clustered.filter(m_detail_clustered[\"cluster\"] == 10).select('tags_lower', 'cluster').toPandas()\n",
    "m_detail_12 = m_detail_clustered.filter(m_detail_clustered[\"cluster\"] == 11).select('tags_lower', 'cluster').toPandas()\n",
    "m_detail_13 = m_detail_clustered.filter(m_detail_clustered[\"cluster\"] == 12).select('tags_lower', 'cluster').toPandas()\n",
    "m_detail_14 = m_detail_clustered.filter(m_detail_clustered[\"cluster\"] == 13).select('tags_lower', 'cluster').toPandas()\n",
    "m_detail_15 = m_detail_clustered.filter(m_detail_clustered[\"cluster\"] == 14).select('tags_lower', 'cluster').toPandas()\n",
    "m_detail_16 = m_detail_clustered.filter(m_detail_clustered[\"cluster\"] == 15).select('tags_lower', 'cluster').toPandas()\n",
    "m_detail_17 = m_detail_clustered.filter(m_detail_clustered[\"cluster\"] == 16).select('tags_lower', 'cluster').toPandas()\n",
    "m_detail_18 = m_detail_clustered.filter(m_detail_clustered[\"cluster\"] == 17).select('tags_lower', 'cluster').toPandas()\n",
    "m_detail_19 = m_detail_clustered.filter(m_detail_clustered[\"cluster\"] == 18).select('tags_lower', 'cluster').toPandas()\n",
    "m_detail_20 = m_detail_clustered.filter(m_detail_clustered[\"cluster\"] == 19).select('tags_lower', 'cluster').toPandas()\n",
    "m_detail_21 = m_detail_clustered.filter(m_detail_clustered[\"cluster\"] == 20).select('tags_lower', 'cluster').toPandas()\n",
    "m_detail_22 = m_detail_clustered.filter(m_detail_clustered[\"cluster\"] == 21).select('tags_lower', 'cluster').toPandas()\n",
    "m_detail_23 = m_detail_clustered.filter(m_detail_clustered[\"cluster\"] == 22).select('tags_lower', 'cluster').toPandas()\n",
    "m_detail_24 = m_detail_clustered.filter(m_detail_clustered[\"cluster\"] == 23).select('tags_lower', 'cluster').toPandas()\n",
    "m_detail_25 = m_detail_clustered.filter(m_detail_clustered[\"cluster\"] == 24).select('tags_lower', 'cluster').toPandas()"
   ]
  },
  {
   "cell_type": "code",
   "execution_count": 17,
   "id": "4cfdb36a",
   "metadata": {},
   "outputs": [],
   "source": [
    "m_detail_modified = m_detail_clustered.withColumn(\"cluster\", \n",
    "                when(col(\"cluster\") == 0, \"Jewelry\")\n",
    "                .when(col(\"cluster\") == 1, \"Garden and Florist Retail\")\n",
    "                .when(col(\"cluster\") == 2, \"Bicycles\")\n",
    "                .when(col(\"cluster\") == 3, \"Digital Goods\")\n",
    "                .when(col(\"cluster\") == 4, \"Stationery and Office Supplies\")\n",
    "                .when(col(\"cluster\") == 5, \"Optical Goods\")\n",
    "                .when(col(\"cluster\") == 6, \"Books\")\n",
    "                .when(col(\"cluster\") == 7, \"Telecommunications\")\n",
    "                .when(col(\"cluster\") == 8, \"Telecommunications\")\n",
    "                .when(col(\"cluster\") == 9, \"Antique\")\n",
    "                .when(col(\"cluster\") == 10, \"Technology\")\n",
    "                .when(col(\"cluster\") == 11, \"Technology\")\n",
    "                .when(col(\"cluster\") == 12, \"Gift\")\n",
    "                .when(col(\"cluster\") == 13, \"Shoes\")\n",
    "                .when(col(\"cluster\") == 14, \"Furniture\")\n",
    "                .when(col(\"cluster\") == 15, \"Art and Craft Supplies\")\n",
    "                .when(col(\"cluster\") == 16, \"Garden and Florist Retail\")\n",
    "                .when(col(\"cluster\") == 17, \"Outdoor Equipment and Supplies\")\n",
    "                .when(col(\"cluster\") == 18, \"Furniture\")\n",
    "                .when(col(\"cluster\") == 19, \"Art and Craft Supplies\")\n",
    "                .when(col(\"cluster\") == 20, \"Jewelry Repair\")\n",
    "                .when(col(\"cluster\") == 21, \"Health and Beauty\")\n",
    "                .when(col(\"cluster\") == 22, \"Toy and Game Retail\")\n",
    "                .when(col(\"cluster\") == 23, \"Music\")\n",
    "                .when(col(\"cluster\") == 24, \"Automotive Sales\")\n",
    "                .otherwise(col(\"cluster\")))"
   ]
  },
  {
   "cell_type": "code",
   "execution_count": 18,
   "id": "9d65f581",
   "metadata": {},
   "outputs": [],
   "source": [
    "# Count the number of merchants in each category\n",
    "m_detail_counts = m_detail_modified.groupBy(\"cluster\").count().orderBy(\"count\", ascending=False)"
   ]
  },
  {
   "cell_type": "code",
   "execution_count": 19,
   "id": "5ab33774",
   "metadata": {},
   "outputs": [
    {
     "data": {
      "image/png": "[encoded data removed]",
      "text/plain": [
       "<Figure size 1000x600 with 1 Axes>"
      ]
     },
     "metadata": {},
     "output_type": "display_data"
    }
   ],
   "source": [
    "#visualize clueter counts\n",
    "\n",
    "m_detail_pandas = m_detail_counts.toPandas()\n",
    "\n",
    "plt.figure(figsize=(10, 6))\n",
    "plt.bar(m_detail_pandas['cluster'], m_detail_pandas['count'], color='skyblue')\n",
    "\n",
    "plt.title('Cluster Counts', fontsize=14)\n",
    "plt.xlabel('Cluster', fontsize=12)\n",
    "plt.ylabel('Count', fontsize=12)\n",
    "\n",
    "plt.xticks(rotation=90)\n",
    "plt.show()"
   ]
  },
  {
   "cell_type": "code",
   "execution_count": 20,
   "id": "180e4095",
   "metadata": {},
   "outputs": [],
   "source": [
    "m_detail_modified = m_detail_modified.drop(\"tag\", \"extracted_tags\", \"tags_lower\", \"words\", \"features\")"
   ]
  },
  {
   "cell_type": "markdown",
   "id": "742c89d5",
   "metadata": {},
   "source": [
    "## Handling external datasets"
   ]
  },
  {
   "cell_type": "code",
   "execution_count": 24,
   "id": "1aab9722",
   "metadata": {},
   "outputs": [],
   "source": [
    "#local path of external dataset\n",
    "employee = pd.read_csv('../data/external/2021Census_W06B_AUST_POW_SA2.csv')\n",
    "aus_postcode = pd.read_csv('../data/external/australian_postcodes.csv')\n",
    "aus_population = pd.read_csv('../data/external/2021Census_G01_AUST_SA2.csv')\n",
    "aus_income1 = pd.read_csv('../data/external/2021Census_G17B_AUST_SA2.csv')\n",
    "aus_income2 = pd.read_csv('../data/external/2021Census_G17C_AUST_SA2.csv')"
   ]
  },
  {
   "cell_type": "code",
   "execution_count": 25,
   "id": "ce6a28b2",
   "metadata": {},
   "outputs": [],
   "source": [
    "#find the average income level for each suberb\n",
    "aus_income = pd.merge(aus_income1, aus_income2, on='SA2_CODE_2021', how='inner')\n",
    "fixed = 'SA2_CODE_2021'\n",
    "columns_to_keep = ['SA2_CODE_2021'] + [col for col in aus_income.columns if 'Tot' in col and col != fixed]\n",
    "income = aus_income[columns_to_keep]\n",
    "columns_to_keep1 = ['SA2_CODE_2021'] + [col for col in income.columns if 'F' not in col and col != fixed]\n",
    "income1 = income[columns_to_keep1]\n",
    "columns_to_keep2 = ['SA2_CODE_2021'] + [col for col in income1.columns if 'yrs' not in col and col != fixed]\n",
    "income2 = income1[columns_to_keep2]\n",
    "income3 = income2.drop(columns = [\"P_Tot_85ov\",\"P_Tot_Tot\", \"P_PI_NS_ns_Tot\"])\n",
    "\n",
    "\n",
    "medians = {\n",
    "    'P_Neg_Nil_income_Tot': 0,\n",
    "    'P_1_149_Tot': 75,\n",
    "    'P_150_299_Tot': 225,\n",
    "    'P_300_399_Tot': 350,\n",
    "    'P_400_499_Tot': 450,\n",
    "    'P_500_649_Tot': 575,\n",
    "    'P_650_799_Tot': 725,\n",
    "    'P_800_999_Tot': 900,\n",
    "    'P_1000_1249_Tot': 1125,\n",
    "    'P_1250_1499_Tot': 1375,\n",
    "    'P_1500_1749_Tot': 1625,\n",
    "    'P_1750_1999_Tot': 1875,\n",
    "    'P_2000_2999_Tot': 2500,\n",
    "    'P_3000_3499_Tot': 3250,\n",
    "    'P_3500_more_Tot': 3500\n",
    "}\n",
    "\n",
    "weighted_sum = F.lit(0)\n",
    "total_counts = F.lit(0)\n",
    "\n",
    "for col in medians.keys():\n",
    "    if col in income3.columns:\n",
    "        weighted_sum += F.col(col) * medians[col]\n",
    "        total_counts += F.col(col)\n",
    "income3_py = spark.createDataFrame(income3)\n",
    "income3_py = income3_py.withColumn('avg_income', F.when(total_counts != 0, weighted_sum / total_counts).otherwise(0))\n",
    "income4 = income3_py.toPandas()\n",
    "income_final = income4[['SA2_CODE_2021', 'avg_income']]"
   ]
  },
  {
   "cell_type": "code",
   "execution_count": 26,
   "id": "c5664d9c",
   "metadata": {},
   "outputs": [],
   "source": [
    "# Merge the employee dataset and the income dataset\n",
    "employee = employee.rename(columns={'POW_SA2_CODE_2021': 'SA2_CODE_2021'}) # unified column name\n",
    "\n",
    "# keep the columns we need\n",
    "employee = employee[['SA2_CODE_2021', 'P_Tot_E']]\n",
    "population = aus_population[['SA2_CODE_2021', 'Tot_P_P']]\n",
    "\n",
    "#Join two dataframes on their SA2 code\n",
    "aus_info = pd.merge(population, employee, on='SA2_CODE_2021', how='inner')\n",
    "aus_info = pd.merge(aus_info, income_final, on='SA2_CODE_2021', how='inner')"
   ]
  },
  {
   "cell_type": "code",
   "execution_count": 27,
   "id": "08c99704",
   "metadata": {},
   "outputs": [],
   "source": [
    "# Keep sa2 code and postcode in the aus_postcode dataset\n",
    "aus_postcode = aus_postcode[['postcode', 'SA2_CODE_2021']]"
   ]
  },
  {
   "cell_type": "code",
   "execution_count": 28,
   "id": "bc535e1e",
   "metadata": {},
   "outputs": [],
   "source": [
    "# Merge aus_postcode dataset and aus_info dataset on SA2_CODE_2021\n",
    "aus_info_add_postcode = pd.merge(aus_info, aus_postcode, on='SA2_CODE_2021', how='left')"
   ]
  },
  {
   "cell_type": "code",
   "execution_count": 29,
   "id": "a8c9fc77",
   "metadata": {},
   "outputs": [
    {
     "data": {
      "text/plain": [
       "True"
      ]
     },
     "execution_count": 29,
     "metadata": {},
     "output_type": "execute_result"
    }
   ],
   "source": [
    "# Check the rows with null values in postcodes\n",
    "aus_info_add_postcode['postcode'].isna().any()"
   ]
  },
  {
   "cell_type": "code",
   "execution_count": 30,
   "id": "b56fa51d",
   "metadata": {},
   "outputs": [
    {
     "data": {
      "text/plain": [
       "False"
      ]
     },
     "execution_count": 30,
     "metadata": {},
     "output_type": "execute_result"
    }
   ],
   "source": [
    "# Delete the null-value rows\n",
    "aus_info_cleaned = aus_info_add_postcode.dropna(subset=['postcode'])\n",
    "aus_info_cleaned['postcode'].isna().any()"
   ]
  },
  {
   "cell_type": "code",
   "execution_count": 31,
   "id": "105a6d32",
   "metadata": {},
   "outputs": [
    {
     "data": {
      "text/html": [
       "<div>\n",
       "<style scoped>\n",
       "    .dataframe tbody tr th:only-of-type {\n",
       "        vertical-align: middle;\n",
       "    }\n",
       "\n",
       "    .dataframe tbody tr th {\n",
       "        vertical-align: top;\n",
       "    }\n",
       "\n",
       "    .dataframe thead th {\n",
       "        text-align: right;\n",
       "    }\n",
       "</style>\n",
       "<table border=\"1\" class=\"dataframe\">\n",
       "  <thead>\n",
       "    <tr style=\"text-align: right;\">\n",
       "      <th></th>\n",
       "      <th>Tot_P_P</th>\n",
       "      <th>P_Tot_E</th>\n",
       "      <th>avg_income</th>\n",
       "    </tr>\n",
       "    <tr>\n",
       "      <th>postcode</th>\n",
       "      <th></th>\n",
       "      <th></th>\n",
       "      <th></th>\n",
       "    </tr>\n",
       "  </thead>\n",
       "  <tbody>\n",
       "    <tr>\n",
       "      <th>800.0</th>\n",
       "      <td>14298</td>\n",
       "      <td>25058</td>\n",
       "      <td>2787.678883</td>\n",
       "    </tr>\n",
       "    <tr>\n",
       "      <th>810.0</th>\n",
       "      <td>29376</td>\n",
       "      <td>3472</td>\n",
       "      <td>19105.389222</td>\n",
       "    </tr>\n",
       "    <tr>\n",
       "      <th>812.0</th>\n",
       "      <td>27610</td>\n",
       "      <td>1518</td>\n",
       "      <td>13277.799285</td>\n",
       "    </tr>\n",
       "    <tr>\n",
       "      <th>820.0</th>\n",
       "      <td>34240</td>\n",
       "      <td>115140</td>\n",
       "      <td>22480.670103</td>\n",
       "    </tr>\n",
       "    <tr>\n",
       "      <th>822.0</th>\n",
       "      <td>1072038</td>\n",
       "      <td>467976</td>\n",
       "      <td>129985.665192</td>\n",
       "    </tr>\n",
       "  </tbody>\n",
       "</table>\n",
       "</div>"
      ],
      "text/plain": [
       "          Tot_P_P  P_Tot_E     avg_income\n",
       "postcode                                 \n",
       "800.0       14298    25058    2787.678883\n",
       "810.0       29376     3472   19105.389222\n",
       "812.0       27610     1518   13277.799285\n",
       "820.0       34240   115140   22480.670103\n",
       "822.0     1072038   467976  129985.665192"
      ]
     },
     "execution_count": 31,
     "metadata": {},
     "output_type": "execute_result"
    }
   ],
   "source": [
    "# Use postcode as index\n",
    "aus_info_final = aus_info_cleaned.groupby('postcode').sum()\n",
    "aus_info_final = aus_info_final.drop(columns=['SA2_CODE_2021'])\n",
    "aus_info_final.head()"
   ]
  },
  {
   "cell_type": "code",
   "execution_count": 32,
   "id": "6bb81544",
   "metadata": {},
   "outputs": [],
   "source": [
    "#define productivity of a suburb as its employment number multiply average income\n",
    "aus_info_final['productivity'] = aus_info_final['avg_income']*aus_info_final['P_Tot_E']\n",
    "aus_info_final.reset_index(inplace=True)\n",
    "aus_info_final.rename(columns={'index': 'row_name'}, inplace=True)\n",
    "aus_info_py = spark.createDataFrame(aus_info_final)"
   ]
  },
  {
   "cell_type": "markdown",
   "id": "4ef039d8",
   "metadata": {},
   "source": [
    "## Obtain all features for score ranking"
   ]
  },
  {
   "cell_type": "code",
   "execution_count": 33,
   "id": "a68e7170",
   "metadata": {},
   "outputs": [],
   "source": [
    "#obtain a match dataframe from transaction with merchant_abn and consumer_id only\n",
    "m_c_match = transaction.drop('dollar_value', 'order_datetime')\n",
    "m_c_match = m_c_match.dropDuplicates()"
   ]
  },
  {
   "cell_type": "code",
   "execution_count": 34,
   "id": "0bec3015",
   "metadata": {},
   "outputs": [],
   "source": [
    "#join suberb productivity to consumer detail\n",
    "c_detail1 = c_detail.join(aus_info_py, on = 'postcode', how = 'left')\n",
    "c_detail2 = c_detail1.drop('Tot_P_P','P_Tot_E','avg_income','state')\n",
    "c_detail3 = c_detail2.drop('postcode')"
   ]
  },
  {
   "cell_type": "code",
   "execution_count": 35,
   "id": "f0498072",
   "metadata": {},
   "outputs": [],
   "source": [
    "#match consumer detail with productivity to transaction\n",
    "tran_prod = transaction.join(c_detail3, on = 'user_id', how = 'left').drop('order_datetime', 'dollar_value')\n",
    "tran_prod = tran_prod.dropna(subset = ['productivity'])"
   ]
  },
  {
   "cell_type": "code",
   "execution_count": 36,
   "id": "e332973d",
   "metadata": {},
   "outputs": [],
   "source": [
    "#find the average productivity of consumers for each merchant\n",
    "average_productivity = tran_prod.groupBy(\"merchant_abn\").agg(F.avg(\"productivity\").alias(\"avg_productivity\"))\n",
    "m_detail_final = m_detail_final.join(average_productivity, on=\"merchant_abn\", how='left')\n",
    "\n",
    "#take a logarithm of base 10 so we it's more convenient to be used to rank\n",
    "m_detail_final = m_detail_final.withColumn('log_prod', F.log(\"avg_productivity\")/F.log(F.lit(10)))\n",
    "\n",
    "m_detail_final_log = m_detail_final.drop(\"avg_productivity\", 'tag', 'tags')"
   ]
  },
  {
   "cell_type": "code",
   "execution_count": 37,
   "id": "06a157de",
   "metadata": {},
   "outputs": [],
   "source": [
    "#find the total sales amount of each merchant\n",
    "sales_per_merchant = transaction.groupBy('merchant_abn') \\\n",
    "    .agg(\n",
    "        F.sum('dollar_value').alias('total_sales'),\n",
    "        F.countDistinct('user_id').alias('customer_count')\n",
    "    )\n",
    "\n",
    "m_detail_final_revenue = m_detail_final_log.join(sales_per_merchant, on='merchant_abn', how='left')"
   ]
  },
  {
   "cell_type": "code",
   "execution_count": 38,
   "id": "5a35636f",
   "metadata": {},
   "outputs": [],
   "source": [
    "#find the number of transactions of each merchant\n",
    "transaction_count = transaction.groupBy(\"merchant_abn\").count()\n",
    "\n",
    "m_detail_final_counts = m_detail_final_revenue.join(transaction_count, on = \"merchant_abn\", how = 'inner')\n",
    "\n",
    "m_detail_final_counts = m_detail_final_counts.withColumnRenamed(\"count\", \"transaction_count\")"
   ]
  },
  {
   "cell_type": "code",
   "execution_count": 39,
   "id": "fe0c306e",
   "metadata": {},
   "outputs": [],
   "source": [
    "#find the number of frauds of each merchant with m_fraud\n",
    "m_fraud_count = m_fraud.groupBy(\"merchant_abn\").count()\n",
    "\n",
    "m_detail_final_m_counts = m_detail_final_counts.join(m_fraud_count, on = 'merchant_abn', how = 'left')\n",
    "\n",
    "m_detail_final_m_counts = m_detail_final_m_counts.na.fill({'count':0})\n",
    "\n",
    "m_detail_final_m_counts = m_detail_final_m_counts.withColumnRenamed('count', 'm_fraud_count')"
   ]
  },
  {
   "cell_type": "code",
   "execution_count": 40,
   "id": "23aba1c9",
   "metadata": {},
   "outputs": [],
   "source": [
    "#find the earliest date that a merchant appears in transaction to avoid errors in new merchant\n",
    "first_date_per_merchant = transaction.groupBy('merchant_abn') \\\n",
    "    .agg(F.min('order_datetime').alias('first_open_date'))\n",
    "\n",
    "end_date = F.lit(\"2022-08-28\").cast(T.DateType())\n",
    "\n",
    "first_date_per_merchant = first_date_per_merchant.withColumn(\n",
    "    'first_open_date', F.col('first_open_date').cast(T.DateType()))\n",
    "\n",
    "days_open = first_date_per_merchant.withColumn(\n",
    "    'days_open', F.datediff(end_date, F.col('first_open_date')))\n",
    "\n",
    "m_detail_final_day = m_detail_final_m_counts.join(days_open, on='merchant_abn', how='left')"
   ]
  },
  {
   "cell_type": "code",
   "execution_count": 41,
   "id": "ede00419",
   "metadata": {},
   "outputs": [],
   "source": [
    "#add the number of total fraud amount from c_fraud to m_detail\n",
    "m_detail_final_c_fraud_amount = m_detail_final_day.join(m_tot_c_fraud_amount, on = 'merchant_abn', how='left')\n",
    "\n",
    "m_detail_final_c_fraud_amount = m_detail_final_c_fraud_amount.withColumnRenamed('total_fraud_amount','c_fraud_amount')"
   ]
  },
  {
   "cell_type": "code",
   "execution_count": 42,
   "id": "db0a6348",
   "metadata": {},
   "outputs": [],
   "source": [
    "#define the total fraud amount of merchants using m_fraud and transaction\n",
    "aggregated_transactions = transaction.groupBy('merchant_abn', 'order_datetime') \\\n",
    "    .agg(\n",
    "        F.sum('dollar_value').alias('total_dollar_value')\n",
    "    )\n",
    "\n",
    "fraud_transactions = aggregated_transactions.join(m_fraud, on=['merchant_abn', 'order_datetime'], how='inner')\n",
    "\n",
    "fraud_transactions = fraud_transactions.withColumn(\n",
    "    'fraud_value', F.col('total_dollar_value') * F.col('fraud_probability') / 100 \n",
    ")\n",
    "\n",
    "aggregated_fraud = fraud_transactions.groupBy('merchant_abn') \\\n",
    "    .agg(\n",
    "        F.sum('fraud_value').alias('total_fraud_value')\n",
    "    )\n",
    "\n",
    "m_detail_final_m_fraud_amount = m_detail_final_c_fraud_amount.join(aggregated_fraud, on = 'merchant_abn', how = 'left')\n",
    "\n",
    "\n",
    "m_detail_final_m_fraud_amount = m_detail_final_m_fraud_amount.withColumnRenamed('total_fraud_value', 'm_fraud_amount')"
   ]
  },
  {
   "cell_type": "code",
   "execution_count": 43,
   "id": "8f7a643f",
   "metadata": {},
   "outputs": [],
   "source": [
    "#find the total number of consumers appear in c_fraud for each merchant\n",
    "c_fraud_count = c_fraud.groupBy('user_id').count()\n",
    "\n",
    "joined_df = c_fraud_count.join(m_c_match, on='user_id', how='inner')\n",
    "\n",
    "result_df = joined_df.groupBy('merchant_abn').agg(F.sum('count').alias('total_consumer_count'))\n",
    "\n",
    "m_c_fraud_count = c_fraud_count.join(m_c_match, on = 'user_id', how = 'inner')\n",
    "mc_fraud_count = m_c_fraud_count.groupBy('merchant_abn').agg(F.sum('count').alias('total_consumer_count'))\n",
    "\n",
    "m_detail_ult_raw = m_detail_final_m_fraud_amount.join(mc_fraud_count, on = 'merchant_abn', how = 'left')"
   ]
  },
  {
   "cell_type": "code",
   "execution_count": 44,
   "id": "6fbc8e71",
   "metadata": {},
   "outputs": [],
   "source": [
    "#c_fraud_count is the number of consumers who have fraud history for a merchant\n",
    "m_detail_ult_raw = m_detail_ult_raw.withColumnRenamed('total_consumer_count', 'c_fraud_count')\n",
    "\n",
    "#fill all NULL value as 0\n",
    "m_detail_ult_raw = m_detail_ult_raw.na.fill({'c_fraud_amount':0, 'm_fraud_amount':0, 'c_fraud_count':0})"
   ]
  },
  {
   "cell_type": "code",
   "execution_count": 45,
   "id": "4ca2dd18",
   "metadata": {},
   "outputs": [],
   "source": [
    "#define the fraud index for each merchant\n",
    "m_detail_ult_1 = m_detail_ult_raw.withColumn('m_fraud_index', when(m_detail_ult_raw['m_fraud_count']!=0,\n",
    "                                            F.pow((m_detail_ult_raw['m_fraud_amount']/m_detail_ult_raw['total_sales']), (1/m_detail_ult_raw['m_fraud_count']))).otherwise(0))\n",
    "\n",
    "m_detail_ult_2 = m_detail_ult_1.withColumn('c_fraud_index',\n",
    "                                            F.pow((m_detail_ult_1['c_fraud_amount']/m_detail_ult_1['total_sales']), (m_detail_ult_1['c_fraud_count']/m_detail_ult_1['transaction_count'])))"
   ]
  },
  {
   "cell_type": "code",
   "execution_count": 46,
   "id": "6e248903",
   "metadata": {},
   "outputs": [],
   "source": [
    "#determine the daily revenue of bnpl company for each merchant\n",
    "m_detail_daily = m_detail_ult_2.withColumn('daily_revenue', m_detail_ult_2['total_sales']/m_detail_ult_2['days_open'])\n",
    "\n",
    "m_detail_all = m_detail_daily.withColumn('bnpl_daily_revenue', m_detail_daily['daily_revenue']*m_detail_daily['take_rate'])"
   ]
  },
  {
   "cell_type": "code",
   "execution_count": 47,
   "id": "0df96a72",
   "metadata": {},
   "outputs": [],
   "source": [
    "#find the max and min of each feature used in the final model\n",
    "max_min = m_detail_all.agg(F.max('log_prod').alias('max_log_prod'), F.min('log_prod').alias('min_log_prod'),\n",
    "                            F.max('customer_count').alias('max_customer_count'), F.min('customer_count').alias('min_customer_count'),\n",
    "                            F.max('m_fraud_index').alias('max_m_fraud_index'), F.min('m_fraud_index').alias('min_m_fraud_index'),\n",
    "                            F.max('bnpl_daily_revenue').alias('max_bnpl_daily_revenue'), F.min('bnpl_daily_revenue').alias('min_bnpl_daily_revenue'),\n",
    "                            F.max('c_fraud_index').alias('max_c_fraud_index'), F.min('c_fraud_index').alias('min_c_fraud_index'))"
   ]
  },
  {
   "cell_type": "code",
   "execution_count": 48,
   "id": "23d63064",
   "metadata": {},
   "outputs": [],
   "source": [
    "#define the model for score calculation\n",
    "max_score_df = max_min.withColumn('max_score', max_min['max_log_prod'] + F.log(max_min['max_customer_count'])\n",
    "                                         + F.log(max_min['max_bnpl_daily_revenue']) * 2 + 10\n",
    "                                         + 5 + 40)\n",
    "max_score = max_score_df.collect()[0]['max_score']\n",
    "\n",
    "m_detail_score = m_detail_all.withColumn('score', (m_detail_all['log_prod'] + F.log(m_detail_all['customer_count'])\n",
    "                                         + F.log(m_detail_all['bnpl_daily_revenue']) * 2 + 10 * (1 - m_detail_all['m_fraud_index'])\n",
    "                                         + (5 - m_detail_all['c_fraud_index']) + 40)/max_score * 100)"
   ]
  },
  {
   "cell_type": "code",
   "execution_count": 71,
   "id": "2ae6df38",
   "metadata": {},
   "outputs": [
    {
     "name": "stdout",
     "output_type": "stream",
     "text": [
      "+------------+--------------------+-------------+---------+-----------------+-----------------+--------------+-----------------+-------------+---------------+---------+------------------+------------------+-------------+--------------------+--------------------+------------------+------------------+-----------------+----+\n",
      "|merchant_abn|                name|revenue_level|take_rate|         log_prod|      total_sales|customer_count|transaction_count|m_fraud_count|first_open_date|days_open|    c_fraud_amount|    m_fraud_amount|c_fraud_count|       m_fraud_index|       c_fraud_index|     daily_revenue|bnpl_daily_revenue|            score|rank|\n",
      "+------------+--------------------+-------------+---------+-----------------+-----------------+--------------+-----------------+-------------+---------------+---------+------------------+------------------+-------------+--------------------+--------------------+------------------+------------------+-----------------+----+\n",
      "| 32361057556|Orci In Consequat...|            a|     6.61|8.539770106459063|9434452.552354382|         23396|            85780|            0|     2021-02-28|      546| 4235.118475323331|               0.0|        33886|                 0.0|0.047586703119565074| 17279.21712885418|114215.62522172614|97.91111942811122|   1|\n",
      "| 21439773999|Mauris Non Institute|            a|     6.10| 8.55509819394689|9426656.544148415|         23914|           120624|            1|     2021-02-28|      546| 4467.334923643958|12055.868696471067|        34621|0.001278912479733308| 0.11114004664627454|17264.938725546548|105316.12622583394| 97.7075425655173|   2|\n",
      "| 64403598239|Lobortis Ultrices...|            a|     6.31|8.550041448924237| 8873434.48672716|         23875|           113541|            0|     2021-02-28|      546| 4668.347659784323|               0.0|        34592|                 0.0|   0.100236138943995|16251.711514152306|102548.29965430105| 97.6708818912486|   3|\n",
      "| 86578477987|   Leo In Consulting|            a|     6.43| 8.53803806394923|9539822.772870388|         24081|           272674|            0|     2021-02-28|      546| 4267.945113273035|               0.0|        34864|                 0.0|  0.3730413333895348|17472.202880714995|112346.26452299742|97.57613582524422|   4|\n",
      "| 45629217853|    Lacus Consulting|            a|     6.98| 8.54467111499512|8395062.462198067|         24081|           228255|            0|     2021-02-28|      546| 3387.303844282239|               0.0|        34864|                 0.0| 0.30308858616685425|15375.572275088036| 107321.4944801145|97.56104356732124|   5|\n",
      "| 96680767841|      Ornare Limited|            a|     5.91|8.552157252463795|9806731.153473794|         17471|            31134|            1|     2021-02-28|      546| 5858.304798128933|13575.517324176024|        25241|0.001384306055883...|0.002434641520835...|17961.046068633324|106149.78226562295|97.51196941993095|   6|\n",
      "| 94493496784|Dictum Phasellus ...|            a|     5.65|8.551362686246417|  9115635.9217922|         23660|            99176|            1|     2021-02-28|      546| 3731.423964184468|13784.523827093919|        34248|0.001512184552494...| 0.06761881043603023|  16695.3038860663|  94328.4669562746|97.51181750681957|   7|\n",
      "| 49322182190|Gravida Mauris In...|            a|     6.35|8.554121799530803|7854984.104789288|         21356|            51903|            0|     2021-02-28|      546|3755.1916119367816|               0.0|        30822|                 0.0|0.010669680030414718|14386.417774339356|  91353.7528670549|97.41909678586241|   8|\n",
      "| 89726005175| Est Nunc Consulting|            a|     6.01|8.545759562767437|8908822.661726555|         24079|           215963|            0|     2021-02-28|      546|3931.0354724464796|               0.0|        34862|                 0.0| 0.28732000064403446|16316.525021477206|   98062.315379078|97.39556270746742|   9|\n",
      "| 72472909171|   Nullam Consulting|            a|     6.33|8.558232161262945|7139097.983008994|         23747|           101791|            0|     2021-02-28|      546|3050.1212398925936|               0.0|        34364|                 0.0|   0.072867974653424|13075.271031152004| 82766.46562719218|97.26805364634339|  10|\n",
      "+------------+--------------------+-------------+---------+-----------------+-----------------+--------------+-----------------+-------------+---------------+---------+------------------+------------------+-------------+--------------------+--------------------+------------------+------------------+-----------------+----+\n",
      "only showing top 10 rows\n",
      "\n"
     ]
    }
   ],
   "source": [
    "from pyspark.sql import functions as F\n",
    "from pyspark.sql.window import Window\n",
    "\n",
    "# Step 1: Check for 'score' column existence and ensure it has no null values\n",
    "m_detail_score = m_detail_score.fillna({'score': 0})\n",
    "\n",
    "# Step 2: Add a dummy partition column\n",
    "m_detail_score = m_detail_score.withColumn(\"dummy_partition\", F.lit(1))\n",
    "\n",
    "# Step 3: Define the window specification based on the dummy partition and score column\n",
    "windowSpec = Window.partitionBy(\"dummy_partition\").orderBy(F.desc(\"score\"))\n",
    "\n",
    "# Step 4: Apply the ranking function over the defined window\n",
    "m_detail_ranked = m_detail_score.withColumn(\"rank\", F.rank().over(windowSpec))\n",
    "\n",
    "# Step 5: Drop the dummy partition column\n",
    "m_detail_ranked = m_detail_ranked.drop(\"dummy_partition\")\n",
    "\n",
    "# Step 6: Show the final ranked DataFrame\n",
    "m_detail_ranked.show(10)\n"
   ]
  },
  {
   "cell_type": "code",
   "execution_count": 72,
   "id": "a4b14e23",
   "metadata": {},
   "outputs": [
    {
     "name": "stdout",
     "output_type": "stream",
     "text": [
      "+------------+-----------------+----+\n",
      "|merchant_abn|            score|rank|\n",
      "+------------+-----------------+----+\n",
      "| 32361057556|97.91111942811122|   1|\n",
      "| 21439773999| 97.7075425655173|   2|\n",
      "| 64403598239| 97.6708818912486|   3|\n",
      "| 86578477987|97.57613582524422|   4|\n",
      "| 45629217853|97.56104356732124|   5|\n",
      "| 96680767841|97.51196941993095|   6|\n",
      "| 94493496784|97.51181750681957|   7|\n",
      "| 49322182190|97.41909678586241|   8|\n",
      "| 89726005175|97.39556270746742|   9|\n",
      "| 72472909171|97.26805364634339|  10|\n",
      "+------------+-----------------+----+\n",
      "only showing top 10 rows\n",
      "\n"
     ]
    }
   ],
   "source": [
    "m_detail_ranked.select(\"merchant_abn\", \"score\", \"rank\").show(10)"
   ]
  },
  {
   "cell_type": "code",
   "execution_count": 73,
   "id": "82838bee",
   "metadata": {},
   "outputs": [],
   "source": [
    "m_detail_with_cluster = m_detail_modified.select('merchant_abn', 'cluster')"
   ]
  },
  {
   "cell_type": "code",
   "execution_count": 74,
   "id": "36cfb1ce",
   "metadata": {},
   "outputs": [
    {
     "name": "stdout",
     "output_type": "stream",
     "text": [
      "+------------------------------+-----------------+----+------------------------------+\n",
      "|name                          |score            |rank|cluster                       |\n",
      "+------------------------------+-----------------+----+------------------------------+\n",
      "|Orci In Consequat Corporation |97.91111942811122|1   |Gift                          |\n",
      "|Mauris Non Institute          |97.7075425655173 |2   |Telecommunications            |\n",
      "|Lobortis Ultrices Company     |97.6708818912486 |3   |Music                         |\n",
      "|Leo In Consulting             |97.57613582524422|4   |Jewelry Repair                |\n",
      "|Lacus Consulting              |97.56104356732124|5   |Gift                          |\n",
      "|Ornare Limited                |97.51196941993095|6   |Automotive Sales              |\n",
      "|Dictum Phasellus In Institute |97.51181750681957|7   |Gift                          |\n",
      "|Gravida Mauris Incorporated   |97.41909678586241|8   |Jewelry Repair                |\n",
      "|Est Nunc Consulting           |97.39556270746742|9   |Outdoor Equipment and Supplies|\n",
      "|Nullam Consulting             |97.26805364634339|10  |Digital Goods                 |\n",
      "|Phasellus At Company          |97.25367548364638|11  |Gift                          |\n",
      "|Arcu Sed Eu Incorporated      |97.11058522481542|12  |Technology                    |\n",
      "|Phasellus At Limited          |97.07386642776318|13  |Furniture                     |\n",
      "|Ornare Fusce Inc.             |97.0005484485028 |14  |Toy and Game Retail           |\n",
      "|Ultricies Dignissim LLP       |96.90316642531464|15  |Gift                          |\n",
      "|Lorem Ipsum Sodales Industries|96.85218660140049|16  |Garden and Florist Retail     |\n",
      "|Non Vestibulum Industries     |96.82227215557089|17  |Outdoor Equipment and Supplies|\n",
      "|Odio Phasellus Institute      |96.82015019496866|18  |Art and Craft Supplies        |\n",
      "|Eu Placerat LLC               |96.73703799102279|19  |Technology                    |\n",
      "|Diam At Foundation            |96.68140544747284|20  |Technology                    |\n",
      "+------------------------------+-----------------+----+------------------------------+\n",
      "only showing top 20 rows\n",
      "\n"
     ]
    }
   ],
   "source": [
    "m_detail_ranked_category = m_detail_ranked.join(m_detail_with_cluster, on = 'merchant_abn', how = 'left')\n",
    "m_detail_ranked_category.select('name', 'score', 'rank', 'cluster').show(truncate = False)"
   ]
  },
  {
   "cell_type": "code",
   "execution_count": 75,
   "id": "2003685c",
   "metadata": {},
   "outputs": [
    {
     "name": "stdout",
     "output_type": "stream",
     "text": [
      "+--------------------------+-----------------+----+----------+\n",
      "|name                      |score            |rank|cluster   |\n",
      "+--------------------------+-----------------+----+----------+\n",
      "|Arcu Sed Eu Incorporated  |97.11058522481542|12  |Technology|\n",
      "|Eu Placerat LLC           |96.73703799102279|19  |Technology|\n",
      "|Diam At Foundation        |96.68140544747284|20  |Technology|\n",
      "|Eleifend PC               |96.53230090235776|24  |Technology|\n",
      "|Adipiscing Elit Foundation|96.42060410665896|28  |Technology|\n",
      "+--------------------------+-----------------+----+----------+\n",
      "only showing top 5 rows\n",
      "\n"
     ]
    }
   ],
   "source": [
    "technology_m_detail = m_detail_ranked_category.filter(m_detail_ranked_category['cluster']=='Technology')\n",
    "technology_m_detail.select('name', 'score', 'rank', 'cluster').show(5, truncate = False)"
   ]
  },
  {
   "cell_type": "code",
   "execution_count": 76,
   "id": "f981fc6c",
   "metadata": {},
   "outputs": [
    {
     "name": "stdout",
     "output_type": "stream",
     "text": [
      "+------------------------------+-----------------+----+-------------------------+\n",
      "|name                          |score            |rank|cluster                  |\n",
      "+------------------------------+-----------------+----+-------------------------+\n",
      "|Lorem Ipsum Sodales Industries|96.85218660140049|16  |Garden and Florist Retail|\n",
      "|Auctor Company                |96.6497632488988 |22  |Garden and Florist Retail|\n",
      "|Purus Gravida Sagittis Ltd    |96.49086217828457|25  |Garden and Florist Retail|\n",
      "|Eu Inc.                       |96.41845587680086|29  |Garden and Florist Retail|\n",
      "|Semper Corp.                  |96.18558484174244|39  |Garden and Florist Retail|\n",
      "+------------------------------+-----------------+----+-------------------------+\n",
      "only showing top 5 rows\n",
      "\n"
     ]
    }
   ],
   "source": [
    "gfr_m_detail = m_detail_ranked_category.filter(m_detail_ranked_category['cluster']=='Garden and Florist Retail')\n",
    "gfr_m_detail.select('name', 'score', 'rank', 'cluster').show(5, truncate = False)"
   ]
  },
  {
   "cell_type": "code",
   "execution_count": 77,
   "id": "71ef5899",
   "metadata": {},
   "outputs": [
    {
     "name": "stdout",
     "output_type": "stream",
     "text": [
      "+------------------------------+-----------------+----+---------+\n",
      "|name                          |score            |rank|cluster  |\n",
      "+------------------------------+-----------------+----+---------+\n",
      "|Phasellus At Limited          |97.07386642776318|13  |Furniture|\n",
      "|Interdum Feugiat Sed Inc.     |96.28460456041739|35  |Furniture|\n",
      "|Phasellus Dapibus Incorporated|95.79000587555493|47  |Furniture|\n",
      "|Amet Risus Inc.               |95.77089449073434|49  |Furniture|\n",
      "|Eget Laoreet Posuere PC       |94.80743756312145|76  |Furniture|\n",
      "+------------------------------+-----------------+----+---------+\n",
      "only showing top 5 rows\n",
      "\n"
     ]
    }
   ],
   "source": [
    "furniture_m_detail = m_detail_ranked_category.filter(m_detail_ranked_category['cluster']=='Furniture')\n",
    "furniture_m_detail.select('name', 'score', 'rank', 'cluster').show(5, truncate = False)"
   ]
  },
  {
   "cell_type": "code",
   "execution_count": 78,
   "id": "072aa105",
   "metadata": {},
   "outputs": [
    {
     "name": "stdout",
     "output_type": "stream",
     "text": [
      "+---------------------------------+-----------------+----+----------------------+\n",
      "|name                             |score            |rank|cluster               |\n",
      "+---------------------------------+-----------------+----+----------------------+\n",
      "|Odio Phasellus Institute         |96.82015019496866|18  |Art and Craft Supplies|\n",
      "|Elit Sed Consequat Associates    |96.48352280137196|26  |Art and Craft Supplies|\n",
      "|Magna Malesuada Corp.            |96.38263371430561|31  |Art and Craft Supplies|\n",
      "|Vehicula Pellentesque Corporation|96.18696610720247|38  |Art and Craft Supplies|\n",
      "|Magna Sed Industries             |95.40368320079345|62  |Art and Craft Supplies|\n",
      "+---------------------------------+-----------------+----+----------------------+\n",
      "only showing top 5 rows\n",
      "\n"
     ]
    }
   ],
   "source": [
    "acs_m_detail = m_detail_ranked_category.filter(m_detail_ranked_category['cluster']=='Art and Craft Supplies')\n",
    "acs_m_detail.select('name', 'score', 'rank', 'cluster').show(5, truncate = False)"
   ]
  },
  {
   "cell_type": "code",
   "execution_count": 79,
   "id": "6894eb66",
   "metadata": {},
   "outputs": [
    {
     "name": "stdout",
     "output_type": "stream",
     "text": [
      "+---------------------------------+-----------------+----+------------------+\n",
      "|name                             |score            |rank|cluster           |\n",
      "+---------------------------------+-----------------+----+------------------+\n",
      "|Mauris Non Institute             |97.7075425655173 |2   |Telecommunications|\n",
      "|Nec Incorporated                 |95.50819649519386|56  |Telecommunications|\n",
      "|Posuere Cubilia Curae Corporation|95.47144370517454|59  |Telecommunications|\n",
      "|Eu Dolor Egestas PC              |93.51764450444982|121 |Telecommunications|\n",
      "|At Sem Corp.                     |93.47733943551378|125 |Telecommunications|\n",
      "+---------------------------------+-----------------+----+------------------+\n",
      "only showing top 5 rows\n",
      "\n"
     ]
    }
   ],
   "source": [
    "telecommunications_m_detail = m_detail_ranked_category.filter(m_detail_ranked_category['cluster']=='Telecommunications')\n",
    "telecommunications_m_detail.select('name', 'score', 'rank', 'cluster').show(5, truncate = False)"
   ]
  },
  {
   "cell_type": "code",
   "execution_count": null,
   "id": "cfb90554",
   "metadata": {},
   "outputs": [],
   "source": []
  }
 ],
 "metadata": {
  "kernelspec": {
   "display_name": "base",
   "language": "python",
   "name": "python3"
  },
  "language_info": {
   "codemirror_mode": {
    "name": "ipython",
    "version": 3
   },
   "file_extension": ".py",
   "mimetype": "text/x-python",
   "name": "python",
   "nbconvert_exporter": "python",
   "pygments_lexer": "ipython3",
   "version": "3.7.3"
  }
 },
 "nbformat": 4,
 "nbformat_minor": 5
}
