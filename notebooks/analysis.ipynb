{
 "cells": [
  {
   "cell_type": "markdown",
   "metadata": {},
   "source": [
    "Sprint 1: Preliminary analysis and ETL pipeline construction"
   ]
  },
  {
   "cell_type": "markdown",
   "metadata": {},
   "source": [
    "EDA"
   ]
  },
  {
   "cell_type": "code",
   "execution_count": 2,
   "metadata": {},
   "outputs": [],
   "source": [
    "from pyspark.sql import SparkSession\n",
    "\n",
    "\n",
    "\n",
    "spark = (\n",
    "    SparkSession.builder.appName(\"MAST30034 project2\")\n",
    "    .config(\"spark.sql.repl.eagerEval.enabled\", True) \n",
    "    .config(\"spark.sql.parquet.cacheMetadata\", \"true\")\n",
    "    .config(\"spark.driver.memory\", \"4g\")\n",
    "    .config(\"spark.sql.session.timeZone\", \"Etc/UTC\")\n",
    "    .getOrCreate()\n",
    ")\n",
    "\n",
    "\n"
   ]
  },
  {
   "cell_type": "code",
   "execution_count": 3,
   "metadata": {},
   "outputs": [
    {
     "name": "stderr",
     "output_type": "stream",
     "text": [
      "d:\\anaconda\\lib\\site-packages\\pandas\\compat\\_optional.py:138: UserWarning: Pandas requires version '2.7.0' or newer of 'numexpr' (version '2.6.9' currently installed).\n",
      "  warnings.warn(msg, UserWarning)\n"
     ]
    }
   ],
   "source": [
    "import pandas as pd"
   ]
  },
  {
   "cell_type": "code",
   "execution_count": 4,
   "metadata": {},
   "outputs": [],
   "source": [
    "import os\n",
    "import sys\n",
    "\n",
    "from pyspark.sql import SparkSession\n",
    "import matplotlib.pyplot as plt\n",
    "import seaborn as sns\n",
    "import numpy as np\n",
    "from pyspark.sql.functions import when, count\n",
    "from pyspark.sql import functions as F\n",
    "from pyspark.sql.functions import col, regexp_extract \n",
    "from pyspark.sql.functions import sum, max\n",
    "from pyspark.sql.functions import split"
   ]
  },
  {
   "cell_type": "code",
   "execution_count": 5,
   "metadata": {},
   "outputs": [],
   "source": [
    "folder_path1 = '../data/tables/transactions_20210228_20210827_snapshot'\n",
    "df1 = spark.read.parquet(folder_path1)\n",
    "\n",
    "folder_path2 = '../data/tables/transactions_20210828_20220227_snapshot'\n",
    "df2 = spark.read.parquet(folder_path2)\n",
    "\n",
    "folder_path3 = '../data/tables/transactions_20220228_20220828_snapshot'\n",
    "df3 = spark.read.parquet(folder_path3)\n",
    "transaction = df1.union(df2).union(df3).drop(\"order_id\")\n",
    "\n",
    "\n",
    "\n"
   ]
  },
  {
   "cell_type": "code",
   "execution_count": 6,
   "metadata": {},
   "outputs": [
    {
     "data": {
      "text/plain": [
       "pyspark.sql.dataframe.DataFrame"
      ]
     },
     "execution_count": 6,
     "metadata": {},
     "output_type": "execute_result"
    }
   ],
   "source": [
    "type(transaction)"
   ]
  },
  {
   "cell_type": "code",
   "execution_count": 7,
   "metadata": {},
   "outputs": [
    {
     "name": "stdout",
     "output_type": "stream",
     "text": [
      "+-------+------------+------------------+--------------------+--------------+\n",
      "|user_id|merchant_abn|      dollar_value|            order_id|order_datetime|\n",
      "+-------+------------+------------------+--------------------+--------------+\n",
      "|  18478| 62191208634|63.255848959735246|949a63c8-29f7-4ab...|    2021-08-20|\n",
      "|      2| 15549624934| 130.3505283105634|6a84c3cf-612a-457...|    2021-08-20|\n",
      "|  18479| 64403598239|120.15860593212783|b10dcc33-e53f-425...|    2021-08-20|\n",
      "|      3| 60956456424| 136.6785200286976|0f09c5a5-784e-447...|    2021-08-20|\n",
      "|  18479| 94493496784| 72.96316578355305|f6c78c1a-4600-4c5...|    2021-08-20|\n",
      "+-------+------------+------------------+--------------------+--------------+\n",
      "only showing top 5 rows\n",
      "\n",
      "+-------+------------+------------------+--------------+\n",
      "|user_id|merchant_abn|      dollar_value|order_datetime|\n",
      "+-------+------------+------------------+--------------+\n",
      "|  18478| 62191208634|63.255848959735246|    2021-08-20|\n",
      "|      2| 15549624934| 130.3505283105634|    2021-08-20|\n",
      "|  18479| 64403598239|120.15860593212783|    2021-08-20|\n",
      "|      3| 60956456424| 136.6785200286976|    2021-08-20|\n",
      "|  18479| 94493496784| 72.96316578355305|    2021-08-20|\n",
      "+-------+------------+------------------+--------------+\n",
      "only showing top 5 rows\n",
      "\n"
     ]
    }
   ],
   "source": [
    "df1.show(5)\n",
    "transaction.show(5)"
   ]
  },
  {
   "cell_type": "code",
   "execution_count": 8,
   "metadata": {},
   "outputs": [],
   "source": [
    "# Loading the dataset\n",
    "\n",
    "c_match = spark.read.parquet(\"../data/tables/consumer_user_details.parquet\")\n",
    "c_raw_detail = spark.read.csv(\"../data/tables/tbl_consumer.csv\", header=True, sep = '|')\n",
    "m_detail = spark.read.parquet('../data/tables/tbl_merchants.parquet')\n",
    "m_fraud = spark.read.csv(\"../data/tables/merchant_fraud_probability.csv\", header=True)\n",
    "c_fraud = spark.read.csv(\"../data/tables/consumer_fraud_probability.csv\", header=True)\n",
    "c_detail = c_raw_detail.join(c_match, c_raw_detail[\"consumer_id\"]==c_match[\"consumer_id\"]).drop(\"consumer_id\",\"name\",\"address\",\"gender\")"
   ]
  },
  {
   "cell_type": "code",
   "execution_count": 9,
   "metadata": {},
   "outputs": [
    {
     "name": "stdout",
     "output_type": "stream",
     "text": [
      "+-------+--------------+-----------------+\n",
      "|user_id|order_datetime|fraud_probability|\n",
      "+-------+--------------+-----------------+\n",
      "|   6228|    2021-12-19| 97.6298077657765|\n",
      "|  21419|    2021-12-10|99.24738020302328|\n",
      "|   5606|    2021-10-17|84.05825045251777|\n",
      "|   3101|    2021-04-17|91.42192091901347|\n",
      "|  22239|    2021-10-19|94.70342477508035|\n",
      "+-------+--------------+-----------------+\n",
      "only showing top 5 rows\n",
      "\n"
     ]
    }
   ],
   "source": [
    "c_fraud.show(5)"
   ]
  },
  {
   "cell_type": "code",
   "execution_count": 10,
   "metadata": {},
   "outputs": [
    {
     "name": "stdout",
     "output_type": "stream",
     "text": [
      "+------------+--------------+------------------+\n",
      "|merchant_abn|order_datetime| fraud_probability|\n",
      "+------------+--------------+------------------+\n",
      "| 19492220327|    2021-11-28|44.403658647495355|\n",
      "| 31334588839|    2021-10-02| 42.75530083865367|\n",
      "| 19492220327|    2021-12-22|38.867790051131095|\n",
      "| 82999039227|    2021-12-19|  94.1347004808891|\n",
      "| 90918180829|    2021-09-02| 43.32551731714902|\n",
      "+------------+--------------+------------------+\n",
      "only showing top 5 rows\n",
      "\n"
     ]
    }
   ],
   "source": [
    "m_fraud.show(5)"
   ]
  },
  {
   "cell_type": "code",
   "execution_count": 11,
   "metadata": {},
   "outputs": [
    {
     "name": "stdout",
     "output_type": "stream",
     "text": [
      "+-----------------+--------------------+-----+--------+------+-----------+\n",
      "|             name|             address|state|postcode|gender|consumer_id|\n",
      "+-----------------+--------------------+-----+--------+------+-----------+\n",
      "| Yolanda Williams|413 Haney Gardens...|   WA|    6935|Female|    1195503|\n",
      "|       Mary Smith|     3764 Amber Oval|  NSW|    2782|Female|     179208|\n",
      "|    Jill Jones MD|  40693 Henry Greens|   NT|     862|Female|    1194530|\n",
      "|  Lindsay Jimenez|00653 Davenport C...|  NSW|    2780|Female|     154128|\n",
      "|Rebecca Blanchard|9271 Michael Mano...|   WA|    6355|Female|     712975|\n",
      "+-----------------+--------------------+-----+--------+------+-----------+\n",
      "only showing top 5 rows\n",
      "\n"
     ]
    }
   ],
   "source": [
    "c_raw_detail.show(5)"
   ]
  },
  {
   "cell_type": "code",
   "execution_count": 12,
   "metadata": {},
   "outputs": [
    {
     "name": "stdout",
     "output_type": "stream",
     "text": [
      "+-----+--------+-------+\n",
      "|state|postcode|user_id|\n",
      "+-----+--------+-------+\n",
      "|   WA|    6935|      1|\n",
      "|  NSW|    2782|      2|\n",
      "|   NT|     862|      3|\n",
      "|  NSW|    2780|      4|\n",
      "|   WA|    6355|      5|\n",
      "+-----+--------+-------+\n",
      "only showing top 5 rows\n",
      "\n"
     ]
    }
   ],
   "source": [
    "c_detail.show(5)"
   ]
  },
  {
   "cell_type": "code",
   "execution_count": 13,
   "metadata": {},
   "outputs": [
    {
     "name": "stdout",
     "output_type": "stream",
     "text": [
      "+--------------------+--------------------+------------+\n",
      "|                name|                tags|merchant_abn|\n",
      "+--------------------+--------------------+------------+\n",
      "|       Felis Limited|((furniture, home...| 10023283211|\n",
      "|Arcu Ac Orci Corp...|([cable, satellit...| 10142254217|\n",
      "|    Nunc Sed Company|([jewelry, watch,...| 10165489824|\n",
      "|Ultricies Digniss...|([wAtch, clock, a...| 10187291046|\n",
      "| Enim Condimentum PC|([music shops - m...| 10192359162|\n",
      "+--------------------+--------------------+------------+\n",
      "only showing top 5 rows\n",
      "\n"
     ]
    }
   ],
   "source": [
    "m_detail.show(5)"
   ]
  },
  {
   "cell_type": "code",
   "execution_count": 14,
   "metadata": {},
   "outputs": [
    {
     "name": "stdout",
     "output_type": "stream",
     "text": [
      "root\n",
      " |-- name: string (nullable = true)\n",
      " |-- tags: string (nullable = true)\n",
      " |-- merchant_abn: long (nullable = true)\n",
      "\n",
      "root\n",
      " |-- user_id: long (nullable = true)\n",
      " |-- merchant_abn: long (nullable = true)\n",
      " |-- dollar_value: double (nullable = true)\n",
      " |-- order_datetime: date (nullable = true)\n",
      "\n",
      "root\n",
      " |-- name: string (nullable = true)\n",
      " |-- address: string (nullable = true)\n",
      " |-- state: string (nullable = true)\n",
      " |-- postcode: string (nullable = true)\n",
      " |-- gender: string (nullable = true)\n",
      " |-- consumer_id: string (nullable = true)\n",
      "\n"
     ]
    }
   ],
   "source": [
    "# See basic information about the dataset\n",
    "m_detail.printSchema()\n",
    "transaction.printSchema()\n",
    "c_raw_detail.printSchema()"
   ]
  },
  {
   "cell_type": "code",
   "execution_count": 15,
   "metadata": {},
   "outputs": [
    {
     "name": "stdout",
     "output_type": "stream",
     "text": [
      "+------------------------------------+-----------------------------------------------------------------------------------------------------------------+\n",
      "|name                                |tag                                                                                                              |\n",
      "+------------------------------------+-----------------------------------------------------------------------------------------------------------------+\n",
      "|Felis Limited                       |((furniture, home furnishings and equipment shops, and manufacturers, except appliances), (e), (take rate: 0.18))|\n",
      "|Arcu Ac Orci Corporation            |([cable, satellite, and otHer pay television and radio services], [b], [take rate: 4.22])                        |\n",
      "|Nunc Sed Company                    |([jewelry, watch, clock, and silverware shops], [b], [take rate: 4.40])                                          |\n",
      "|Ultricies Dignissim Lacus Foundation|([wAtch, clock, and jewelry repair shops], [b], [take rate: 3.29])                                               |\n",
      "|Enim Condimentum PC                 |([music shops - musical instruments, pianos, and sheet music], [a], [take rate: 6.33])                           |\n",
      "|Fusce Company                       |[(gift, card, novelty, and souvenir shops), (a), (take rate: 6.34)]                                              |\n",
      "|Aliquam Enim Incorporated           |[(computers, comPUter peripheral equipment, and softwAre), (b), (take rate: 4.32)]                               |\n",
      "|Ipsum Primis Ltd                    |[[watch, clock, and jewelry repair shops], [c], [take rate: 2.39]]                                               |\n",
      "|Pede Ultrices Industries            |([computer programming , data processing, and integrated systems design services], [a], [take rate: 5.71])       |\n",
      "|Nunc Inc.                           |[(furniture, home furnishings and equipment shopS, and manufacturers, except appliances), (a), (take rate: 6.61)]|\n",
      "|Facilisis Facilisis Corp.           |([computers, computer peripheral equipment, and software], [a], [take rate: 6.34])                               |\n",
      "|Odio Institute                      |((equipment, tool, furniture, and appliance  rent al and leAsing), (b), (take rate: 3.57))                       |\n",
      "|Rutrum Justo Ltd                    |([music shops - musical instruments, pianos, and sheet music], [b], [take rate: 3.63])                           |\n",
      "|Tellus Foundation                   |[[artist supply and craft  shops], [b], [take rate: 3.17]]                                                       |\n",
      "|Sed Et Company                      |([florists supplies, nursery stock, and flowers], [a], [take rate: 6.61])                                        |\n",
      "|Id Ltd                              |([computers, computer peripheral  equipment, and software], [a], [take rate: 5.54])                              |\n",
      "|Consequat Foundation                |[[antique shops - sales, repairs, and restoration serVices], [a], [take rate: 6.93]]                             |\n",
      "|Sit Amet Nulla Corp.                |[[motor vehicle supplies and new parts], [b], [take rate: 4.97]]                                                 |\n",
      "|Massa Vestibulum Foundation         |[(moTor vehicle supplies and new parts), (a), (take rate: 5.77)]                                                 |\n",
      "|Ut Consulting                       |([gift, card, novelty, and souvenir shops], [c], [take rate: 2.95])                                              |\n",
      "+------------------------------------+-----------------------------------------------------------------------------------------------------------------+\n",
      "only showing top 20 rows\n",
      "\n"
     ]
    }
   ],
   "source": [
    "# 分割 'tags' 字段，并展开为多个列\n",
    "split_col = split(col(\"tags\"), \"\\\\|\")\n",
    "\n",
    "# 假设最多有三个标签，可以根据实际情况增减\n",
    "m_detail = m_detail.withColumn(\"tag\", split_col.getItem(0))\n",
    "# 展示更新后的DataFrame\n",
    "m_detail.select(\"name\", \"tag\").show(truncate=False)"
   ]
  },
  {
   "cell_type": "code",
   "execution_count": 16,
   "metadata": {},
   "outputs": [
    {
     "name": "stdout",
     "output_type": "stream",
     "text": [
      "+------------------------------------+-------------+---------+\n",
      "|name                                |revenue_level|take_rate|\n",
      "+------------------------------------+-------------+---------+\n",
      "|Felis Limited                       |e            |0.18     |\n",
      "|Arcu Ac Orci Corporation            |b            |4.22     |\n",
      "|Nunc Sed Company                    |b            |4.40     |\n",
      "|Ultricies Dignissim Lacus Foundation|b            |3.29     |\n",
      "|Enim Condimentum PC                 |a            |6.33     |\n",
      "|Fusce Company                       |a            |6.34     |\n",
      "|Aliquam Enim Incorporated           |b            |4.32     |\n",
      "|Ipsum Primis Ltd                    |c            |2.39     |\n",
      "|Pede Ultrices Industries            |a            |5.71     |\n",
      "|Nunc Inc.                           |a            |6.61     |\n",
      "|Facilisis Facilisis Corp.           |a            |6.34     |\n",
      "|Odio Institute                      |b            |3.57     |\n",
      "|Rutrum Justo Ltd                    |b            |3.63     |\n",
      "|Tellus Foundation                   |b            |3.17     |\n",
      "|Sed Et Company                      |a            |6.61     |\n",
      "|Id Ltd                              |a            |5.54     |\n",
      "|Consequat Foundation                |a            |6.93     |\n",
      "|Sit Amet Nulla Corp.                |b            |4.97     |\n",
      "|Massa Vestibulum Foundation         |a            |5.77     |\n",
      "|Ut Consulting                       |c            |2.95     |\n",
      "+------------------------------------+-------------+---------+\n",
      "only showing top 20 rows\n",
      "\n"
     ]
    }
   ],
   "source": [
    "from pyspark.sql.functions import col, regexp_replace, regexp_extract\n",
    "\n",
    "# 消除tags中的方括号和圆括号\n",
    "m_detail = m_detail.withColumn(\"tags\", regexp_replace(col(\"tags\"), \"\\\\[\", \"(\"))\n",
    "m_detail = m_detail.withColumn(\"tags\", regexp_replace(col(\"tags\"), \"\\\\]\", \")\"))\n",
    "\n",
    "# 提取revenue_level，使用正确的转义字符\n",
    "pattern = \"\\\\(([a-e])\\\\)\"  # 使用双反斜杠来转义圆括号\n",
    "m_detail = m_detail.withColumn(\"revenue_level\", regexp_extract(col(\"tags\"), pattern, 1))\n",
    "\n",
    "# 定义正则表达式匹配 take rate\n",
    "pattern_take_rate = \"take rate: (\\d+\\.\\d+)\"\n",
    "\n",
    "# 在 DataFrame 中添加 take_rate 列\n",
    "m_detail = m_detail.withColumn(\"take_rate\", regexp_extract(col(\"tags\"), pattern_take_rate, 1))\n",
    "\n",
    "# 显示 name, revenue_level, 和 take_rate\n",
    "m_detail.select(\"name\", \"revenue_level\", \"take_rate\").show(truncate=False)"
   ]
  },
  {
   "cell_type": "code",
   "execution_count": 17,
   "metadata": {},
   "outputs": [
    {
     "name": "stdout",
     "output_type": "stream",
     "text": [
      "  revenue_level  min_take_rate  max_take_rate\n",
      "0             e           0.10           0.48\n",
      "1             d           0.52           1.40\n",
      "2             c           1.40           3.10\n",
      "3             b           3.10           5.10\n",
      "4             a           5.50           7.00\n"
     ]
    }
   ],
   "source": [
    "from pyspark.sql import functions as F\n",
    "\n",
    "# 假设 m_detail 是你的 DataFrame，已经包含正确的 revenue_level 和 take_rate 列\n",
    "# 首先，确保 take_rate 是数值类型\n",
    "m_detail = m_detail.withColumn(\"take_rate\", m_detail[\"take_rate\"].cast(\"float\"))\n",
    "\n",
    "# 使用 groupBy 和 agg 方法计算每个 revenue_level 的最小和最大 take_rate\n",
    "stats_df = m_detail.groupBy(\"revenue_level\").agg(\n",
    "    F.min(\"take_rate\").alias(\"min_take_rate\"),\n",
    "    F.max(\"take_rate\").alias(\"max_take_rate\")\n",
    ")\n",
    "\n",
    "# 转换为 Pandas DataFrame 以便查看结果\n",
    "pandas_df = stats_df.toPandas()\n",
    "print(pandas_df)\n"
   ]
  },
  {
   "cell_type": "code",
   "execution_count": 18,
   "metadata": {},
   "outputs": [
    {
     "name": "stdout",
     "output_type": "stream",
     "text": [
      "+------------+------------------+\n",
      "|merchant_abn|     total_revenue|\n",
      "+------------+------------------+\n",
      "| 38700038932| 9546185.360697314|\n",
      "| 83412691377| 498536.5816973136|\n",
      "| 15613631617| 543030.5313328261|\n",
      "| 19839532017|          113982.0|\n",
      "| 73256306726| 1496967.159114219|\n",
      "| 35344855546|134737.25046268434|\n",
      "| 24406529929|  280125.230897664|\n",
      "| 73841664453| 83314.29045077678|\n",
      "| 78916025936|21015.671086215083|\n",
      "| 60654402457| 17030.97660860815|\n",
      "+------------+------------------+\n",
      "only showing top 10 rows\n",
      "\n"
     ]
    }
   ],
   "source": [
    "# Calculate total revenue for each merchant\n",
    "merchant_revenue = transaction.groupBy(\"merchant_abn\").agg({\"dollar_value\": \"sum\"})\n",
    "\n",
    "# Rename the aggregated column to 'total_revenue'\n",
    "merchant_revenue = merchant_revenue.withColumnRenamed(\"sum(dollar_value)\", \"total_revenue\")\n",
    "\n",
    "# Show the result\n",
    "merchant_revenue.show(10)  # Display the top 10 results\n"
   ]
  },
  {
   "cell_type": "code",
   "execution_count": 19,
   "metadata": {},
   "outputs": [
    {
     "name": "stdout",
     "output_type": "stream",
     "text": [
      "+------------+--------------------+--------------------+--------------------+-------------+---------+--------------+------------------+--------------------+\n",
      "|merchant_abn|                name|                tags|                 tag|revenue_level|take_rate|customer_count|     total_revenue|revenue_per_customer|\n",
      "+------------+--------------------+--------------------+--------------------+-------------+---------+--------------+------------------+--------------------+\n",
      "| 12516851436|        Mollis Corp.|((watch, clock, a...|((watch, clock, a...|            a|     6.71|           210|32325.484349738046|  153.93087785589546|\n",
      "| 15613631617|     Ante Industries|((motor vehicle s...|[[motor vehicle s...|            e|     0.35|          1714| 543030.5313328261|  316.82061337971186|\n",
      "| 19839532017|Pellentesque Habi...|((cable, Satellit...|([cable, Satellit...|            b|     4.94|           714|          113982.0|   159.6386554621849|\n",
      "| 34440496342|Mauris Nulla Inte...|((opticians, opti...|((opticians, opti...|            c|     2.85|           215|19425.358828709985|   90.35050618004644|\n",
      "| 35344855546|Quis Tristique Ac...|((watch, clock, a...|[(watch, clock, a...|            c|     2.92|          1477|134737.25046268434|   91.22359543851344|\n",
      "| 37935728745|Laoreet Lectus Qu...|((antique shops -...|[[antique shops -...|            b|     4.12|            14| 153026.9171984172|  10930.494085601229|\n",
      "| 38700038932|Etiam Bibendum In...|((tent and awning...|[(tent and awning...|            a|     6.31|          6170| 9546185.360697314|  1547.1937375522389|\n",
      "| 38986645707|    Lectus Justo LLC|((bicycle shops -...|([bicycle shops -...|            c|     1.72|            42| 40345.99779195585|   960.6189950465679|\n",
      "| 41956465747|       Pede Cras LLP|((motor Vehicle s...|[[motor Vehicle s...|            b|     3.79|           278|63674.266719753636|  229.04412489120014|\n",
      "| 48214071373|       Ridiculus LLC|((motor vehiCle s...|((motor vehiCle s...|            b|     4.02|           535|162100.66187954217|   302.9918913636302|\n",
      "+------------+--------------------+--------------------+--------------------+-------------+---------+--------------+------------------+--------------------+\n",
      "only showing top 10 rows\n",
      "\n"
     ]
    }
   ],
   "source": [
    "# Step 1: Calculate customer count by counting distinct 'user_id' from `transaction`\n",
    "customer_count_df = transaction.groupBy(\"merchant_abn\").agg(F.countDistinct(\"user_id\").alias(\"customer_count\"))\n",
    "\n",
    "# Step 2: Calculate total revenue by summing 'dollar_value' for each 'merchant_abn'\n",
    "merchant_revenue = transaction.groupBy(\"merchant_abn\").agg(F.sum(\"dollar_value\").alias(\"total_revenue\"))\n",
    "\n",
    "# Step 3: Join the customer_count and total_revenue back to the `merchants` DataFrame (m_detail)\n",
    "# Ensure `merchant_abn` column types match in `customer_count_df` and `merchant_revenue`\n",
    "m_detail = m_detail.withColumn(\"merchant_abn\", m_detail[\"merchant_abn\"].cast(\"long\"))\n",
    "merchants = m_detail.join(customer_count_df, on=\"merchant_abn\", how=\"left\").join(merchant_revenue, on=\"merchant_abn\", how=\"left\")\n",
    "\n",
    "# Step 4: Fill any missing values for `customer_count` and `total_revenue`\n",
    "merchants = merchants.fillna({\"customer_count\": 0, \"total_revenue\": 0.0})\n",
    "\n",
    "# Step 5: Calculate new feature: revenue per customer\n",
    "merchants = merchants.withColumn(\"revenue_per_customer\", merchants[\"total_revenue\"] / merchants[\"customer_count\"])\n",
    "\n",
    "# Handle division by zero (when customer_count is zero, set revenue_per_customer to 0)\n",
    "merchants = merchants.withColumn(\"revenue_per_customer\", F.when(F.col(\"customer_count\") == 0, 0).otherwise(F.col(\"revenue_per_customer\")))\n",
    "\n",
    "# Display the final result\n",
    "merchants.show(10)"
   ]
  },
  {
   "cell_type": "code",
   "execution_count": 20,
   "metadata": {},
   "outputs": [
    {
     "data": {
      "image/png": "[encoded data removed]",
      "text/plain": [
       "<Figure size 640x480 with 1 Axes>"
      ]
     },
     "metadata": {},
     "output_type": "display_data"
    }
   ],
   "source": [
    "merchant_revenue_pd = merchant_revenue.toPandas()\n",
    "\n",
    "# Overview of the data distribution\n",
    "\n",
    "plt.hist(merchant_revenue_pd[\"total_revenue\"], bins=20, edgecolor='black')\n",
    "plt.title('Total Revenue Distribution')\n",
    "plt.xlabel('Total Revenue')\n",
    "plt.ylabel('Frequency')\n",
    "plt.show()\n",
    "\n"
   ]
  },
  {
   "cell_type": "code",
   "execution_count": 21,
   "metadata": {},
   "outputs": [
    {
     "name": "stdout",
     "output_type": "stream",
     "text": [
      "+----+----+------------+---+-------------+---------+\n",
      "|name|tags|merchant_abn|tag|revenue_level|take_rate|\n",
      "+----+----+------------+---+-------------+---------+\n",
      "|   0|   0|           0|  0|            0|        0|\n",
      "+----+----+------------+---+-------------+---------+\n",
      "\n",
      "+-------+------------+------------+--------------+\n",
      "|user_id|merchant_abn|dollar_value|order_datetime|\n",
      "+-------+------------+------------+--------------+\n",
      "|      0|           0|           0|             0|\n",
      "+-------+------------+------------+--------------+\n",
      "\n",
      "+----+-------+-----+--------+------+-----------+\n",
      "|name|address|state|postcode|gender|consumer_id|\n",
      "+----+-------+-----+--------+------+-----------+\n",
      "|   0|      0|    0|       0|     0|          0|\n",
      "+----+-------+-----+--------+------+-----------+\n",
      "\n"
     ]
    }
   ],
   "source": [
    "# Finding missing values\n",
    "from pyspark.sql.functions import col, sum\n",
    "\n",
    "# Check missing values in each column of m_detail\n",
    "m_detail.select([sum(col(column).isNull().cast(\"int\")).alias(column) for column in m_detail.columns]).show()\n",
    "\n",
    "# Check missing values in each column of transaction\n",
    "transaction.select([sum(col(column).isNull().cast(\"int\")).alias(column) for column in transaction.columns]).show()\n",
    "\n",
    "# Check missing values in each column of c_raw_detail\n",
    "c_raw_detail.select([sum(col(column).isNull().cast(\"int\")).alias(column) for column in c_raw_detail.columns]).show()\n",
    "\n"
   ]
  },
  {
   "cell_type": "code",
   "execution_count": 22,
   "metadata": {},
   "outputs": [],
   "source": [
    "# Save as a single CSV file\n",
    "\n",
    "# Convert the PySpark DataFrame to a Pandas DataFrame\n",
    "transaction_pd = transaction.toPandas()\n",
    "# Save the Pandas DataFrame as a CSV file\n",
    "#transaction_pd.to_csv('C:/Users/HuangHan/Desktop/transaction.csv', index=False)\n",
    "# Taking a sample of 10,000 rows\n",
    "transaction_sample = transaction.limit(20000).toPandas()\n",
    "transaction_sample.to_csv('../data/curated/transaction_sample.csv', index=False)\n",
    "\n",
    "\n"
   ]
  },
  {
   "cell_type": "code",
   "execution_count": 23,
   "metadata": {},
   "outputs": [],
   "source": [
    "m_detail = m_detail.withColumnRenamed(\"name\", \"merchant_name\")\n",
    "c_raw_detail = c_raw_detail.withColumnRenamed(\"name\", \"customer_name\")"
   ]
  },
  {
   "cell_type": "code",
   "execution_count": 24,
   "metadata": {},
   "outputs": [
    {
     "name": "stdout",
     "output_type": "stream",
     "text": [
      "+--------------------+--------------------+------------+--------------------+-------------+---------+\n",
      "|       merchant_name|                tags|merchant_abn|                 tag|revenue_level|take_rate|\n",
      "+--------------------+--------------------+------------+--------------------+-------------+---------+\n",
      "|       Felis Limited|((furniture, home...| 10023283211|((furniture, home...|            e|     0.18|\n",
      "|Arcu Ac Orci Corp...|((cable, satellit...| 10142254217|([cable, satellit...|            b|     4.22|\n",
      "|    Nunc Sed Company|((jewelry, watch,...| 10165489824|([jewelry, watch,...|            b|      4.4|\n",
      "|Ultricies Digniss...|((wAtch, clock, a...| 10187291046|([wAtch, clock, a...|            b|     3.29|\n",
      "| Enim Condimentum PC|((music shops - m...| 10192359162|([music shops - m...|            a|     6.33|\n",
      "+--------------------+--------------------+------------+--------------------+-------------+---------+\n",
      "only showing top 5 rows\n",
      "\n"
     ]
    }
   ],
   "source": [
    "m_detail.show(5)"
   ]
  },
  {
   "cell_type": "code",
   "execution_count": 25,
   "metadata": {},
   "outputs": [
    {
     "name": "stdout",
     "output_type": "stream",
     "text": [
      "root\n",
      " |-- merchant_name: string (nullable = true)\n",
      " |-- tags: string (nullable = true)\n",
      " |-- merchant_abn: long (nullable = true)\n",
      " |-- tag: string (nullable = true)\n",
      " |-- revenue_level: string (nullable = true)\n",
      " |-- take_rate: float (nullable = true)\n",
      "\n",
      "root\n",
      " |-- user_id: long (nullable = true)\n",
      " |-- merchant_abn: long (nullable = true)\n",
      " |-- dollar_value: double (nullable = true)\n",
      " |-- order_datetime: date (nullable = true)\n",
      "\n",
      "root\n",
      " |-- customer_name: string (nullable = true)\n",
      " |-- address: string (nullable = true)\n",
      " |-- state: string (nullable = true)\n",
      " |-- postcode: string (nullable = true)\n",
      " |-- gender: string (nullable = true)\n",
      " |-- consumer_id: string (nullable = true)\n",
      "\n"
     ]
    }
   ],
   "source": [
    "m_detail.printSchema()\n",
    "transaction.printSchema()\n",
    "c_raw_detail.printSchema()"
   ]
  },
  {
   "cell_type": "markdown",
   "metadata": {},
   "source": [
    "Develop an ETL pipeline"
   ]
  },
  {
   "cell_type": "code",
   "execution_count": 26,
   "metadata": {},
   "outputs": [
    {
     "name": "stdout",
     "output_type": "stream",
     "text": [
      "+------------+-------+------------------+--------------+------------+--------------------+--------------------+-------------+---------+--------------+------------------+--------------------+\n",
      "|merchant_abn|user_id|      dollar_value|order_datetime|        name|                tags|                 tag|revenue_level|take_rate|customer_count|     total_revenue|revenue_per_customer|\n",
      "+------------+-------+------------------+--------------+------------+--------------------+--------------------+-------------+---------+--------------+------------------+--------------------+\n",
      "| 12516851436|  14027| 49.77527691818967|    2021-08-16|Mollis Corp.|((watch, clock, a...|((watch, clock, a...|            a|     6.71|           210|32325.484349738046|  153.93087785589546|\n",
      "| 12516851436|   7649| 40.85182144169601|    2021-08-13|Mollis Corp.|((watch, clock, a...|((watch, clock, a...|            a|     6.71|           210|32325.484349738046|  153.93087785589546|\n",
      "| 12516851436|   1014|141.84165902875668|    2021-07-16|Mollis Corp.|((watch, clock, a...|((watch, clock, a...|            a|     6.71|           210|32325.484349738046|  153.93087785589546|\n",
      "| 12516851436|  13389|11.964481986172013|    2021-07-16|Mollis Corp.|((watch, clock, a...|((watch, clock, a...|            a|     6.71|           210|32325.484349738046|  153.93087785589546|\n",
      "| 12516851436|  19719| 71.41670304861367|    2021-07-23|Mollis Corp.|((watch, clock, a...|((watch, clock, a...|            a|     6.71|           210|32325.484349738046|  153.93087785589546|\n",
      "+------------+-------+------------------+--------------+------------+--------------------+--------------------+-------------+---------+--------------+------------------+--------------------+\n",
      "only showing top 5 rows\n",
      "\n"
     ]
    }
   ],
   "source": [
    "merged_data1 = transaction.join(merchants, on='merchant_abn', how='left')\n",
    "merged_data1.show(5)"
   ]
  },
  {
   "cell_type": "code",
   "execution_count": 27,
   "metadata": {},
   "outputs": [
    {
     "name": "stdout",
     "output_type": "stream",
     "text": [
      "+------------+-------+------------------+--------------+--------------------+--------------------+-------------+---------+--------------+------------------+--------------------+-------------+-----------------+-----+--------+------+\n",
      "|merchant_abn|user_id|      dollar_value|order_datetime|                name|                tags|revenue_level|take_rate|customer_count|     total_revenue|revenue_per_customer|customer_name|          address|state|postcode|gender|\n",
      "+------------+-------+------------------+--------------+--------------------+--------------------+-------------+---------+--------------+------------------+--------------------+-------------+-----------------+-----+--------+------+\n",
      "| 83412691377|     26|   51.124963532657|    2021-12-06|Suspendisse Sagit...|((watch, clock, a...|            c|     2.94|         10770| 498536.5816973136|  46.289376202164675|Chloe Walters|04666 Castro Hill|  VIC|    3026|Female|\n",
      "| 83412691377|     26| 37.59252664573718|    2022-06-15|Suspendisse Sagit...|((watch, clock, a...|            c|     2.94|         10770| 498536.5816973136|  46.289376202164675|Chloe Walters|04666 Castro Hill|  VIC|    3026|Female|\n",
      "| 10648956813|     26| 86.58263842410851|    2022-09-06|Proin Nisl Institute|((computeRs, comp...|            a|     6.66|         14380|1419600.2971491965|   98.72046572664787|Chloe Walters|04666 Castro Hill|  VIC|    3026|Female|\n",
      "| 18303734841|     26| 297.3395616122317|    2021-08-22|Sollicitudin Orci...|((health and beau...|            a|     6.61|          3457|1049286.5383955822|  303.52517743580626|Chloe Walters|04666 Castro Hill|  VIC|    3026|Female|\n",
      "| 45899477665|     26| 69.42521614881571|    2021-08-22|     At Incorporated|((books, periodic...|            a|     5.87|          5104|1413218.7581436625|  276.88455292783357|Chloe Walters|04666 Castro Hill|  VIC|    3026|Female|\n",
      "| 87802246756|     26|153.63717233711392|    2021-06-26|                null|                null|         null|     null|          null|              null|                null|Chloe Walters|04666 Castro Hill|  VIC|    3026|Female|\n",
      "| 90568944804|     26| 882.7000264839475|    2022-07-20|   Diam Eu Dolor LLC|((tent and awNing...|            b|      4.1|          8698| 9618324.530454509|   1105.808752639056|Chloe Walters|04666 Castro Hill|  VIC|    3026|Female|\n",
      "| 47484801038|     26|206.01534818958106|    2022-07-08| Risus A Corporation|((artist supply a...|            b|      4.3|           853|248825.87761776082|   291.7067732916305|Chloe Walters|04666 Castro Hill|  VIC|    3026|Female|\n",
      "| 75902032169|     26| 470.2574010946465|    2022-10-03|Accumsan Neque Co...|((motor vehicle s...|            b|     3.47|          3268| 916160.2890020397|   280.3428056921786|Chloe Walters|04666 Castro Hill|  VIC|    3026|Female|\n",
      "| 27093785141|     26|389.16154334296994|    2021-11-04|Placerat Orci Ins...|((stationery, off...|            c|     2.73|         15836| 9753403.834746337|   615.9007220728932|Chloe Walters|04666 Castro Hill|  VIC|    3026|Female|\n",
      "+------------+-------+------------------+--------------+--------------------+--------------------+-------------+---------+--------------+------------------+--------------------+-------------+-----------------+-----+--------+------+\n",
      "only showing top 10 rows\n",
      "\n"
     ]
    }
   ],
   "source": [
    "merged_data = transaction.join(merchants, on='merchant_abn', how='left')\n",
    "merged_data = merged_data.join(c_raw_detail, merged_data[\"user_id\"] == c_raw_detail[\"consumer_id\"], how='left') \n",
    "merged_data = merged_data.drop(\"consumer_id\")\n",
    "\n",
    "merged_data = merged_data.drop(\"tag\")\n",
    "merged_data.show(10)"
   ]
  },
  {
   "cell_type": "code",
   "execution_count": 28,
   "metadata": {},
   "outputs": [],
   "source": [
    "merchant_features = transaction.groupBy(\"merchant_abn\").agg(\n",
    "    F.sum(\"dollar_value\").alias(\"total_revenue\"),          # Ensure 'dollar_value' exists\n",
    "    F.countDistinct(\"user_id\").alias(\"unique_customers\"),  # Ensure 'consumer_id' exists\n",
    "    F.avg(\"dollar_value\").alias(\"average_transaction_value\")   # Ensure 'dollar_value' exists\n",
    ")"
   ]
  },
  {
   "cell_type": "code",
   "execution_count": 29,
   "metadata": {},
   "outputs": [
    {
     "name": "stdout",
     "output_type": "stream",
     "text": [
      "Collecting pyod\n",
      "Collecting scikit-learn>=0.22.0 (from pyod)\n",
      "  Using cached https://files.pythonhosted.org/packages/9d/20/0ffe8665a44bce7616bd33d4368a198fecad3b226bcafa38c63ef0f6286f/scikit_learn-1.0.2-cp37-cp37m-win_amd64.whl\n",
      "Requirement already satisfied: matplotlib in d:\\anaconda\\lib\\site-packages (from pyod) (3.1.0)\n",
      "Requirement already satisfied: joblib in d:\\anaconda\\lib\\site-packages (from pyod) (0.13.2)\n",
      "Collecting numba>=0.51 (from pyod)\n",
      "  Using cached https://files.pythonhosted.org/packages/ad/5a/b79eda6012461c4dea6c5c4122c7438843d617f960d2d635f044a97ab912/numba-0.56.4-cp37-cp37m-win_amd64.whl\n",
      "Requirement already satisfied: numpy>=1.19 in d:\\anaconda\\lib\\site-packages (from pyod) (1.21.6)\n",
      "Collecting scipy>=1.5.1 (from pyod)\n",
      "  Using cached https://files.pythonhosted.org/packages/40/69/4af412d078cef2298f7d90546fa0e03e65a032558bd85319239c72ae0c3c/scipy-1.7.3-cp37-cp37m-win_amd64.whl\n",
      "Collecting threadpoolctl>=2.0.0 (from scikit-learn>=0.22.0->pyod)\n",
      "  Using cached https://files.pythonhosted.org/packages/61/cf/6e354304bcb9c6413c4e02a747b600061c21d38ba51e7e544ac7bc66aecc/threadpoolctl-3.1.0-py3-none-any.whl\n",
      "Requirement already satisfied: cycler>=0.10 in d:\\anaconda\\lib\\site-packages (from matplotlib->pyod) (0.10.0)\n",
      "Requirement already satisfied: kiwisolver>=1.0.1 in d:\\anaconda\\lib\\site-packages (from matplotlib->pyod) (1.1.0)\n",
      "Requirement already satisfied: pyparsing!=2.0.4,!=2.1.2,!=2.1.6,>=2.0.1 in d:\\anaconda\\lib\\site-packages (from matplotlib->pyod) (2.4.0)\n",
      "Requirement already satisfied: python-dateutil>=2.1 in c:\\users\\huanghan\\appdata\\roaming\\python\\python37\\site-packages (from matplotlib->pyod) (2.8.2)\n",
      "Collecting llvmlite<0.40,>=0.39.0dev0 (from numba>=0.51->pyod)\n",
      "  Using cached https://files.pythonhosted.org/packages/be/05/af5fd325c52b73255a51691300f00b06177dfe1088b90ea20dd49c6e0c23/llvmlite-0.39.1-cp37-cp37m-win_amd64.whl\n",
      "Requirement already satisfied: setuptools in d:\\anaconda\\lib\\site-packages (from numba>=0.51->pyod) (41.0.1)\n",
      "Requirement already satisfied: importlib-metadata; python_version < \"3.9\" in d:\\anaconda\\lib\\site-packages (from numba>=0.51->pyod) (0.17)\n",
      "Requirement already satisfied: six in c:\\users\\huanghan\\appdata\\roaming\\python\\python37\\site-packages (from cycler>=0.10->matplotlib->pyod) (1.16.0)\n",
      "Requirement already satisfied: zipp>=0.5 in d:\\anaconda\\lib\\site-packages (from importlib-metadata; python_version < \"3.9\"->numba>=0.51->pyod) (0.5.1)\n",
      "Installing collected packages: threadpoolctl, scipy, scikit-learn, llvmlite, numba, pyod\n",
      "  Found existing installation: scipy 1.2.1\n",
      "    Uninstalling scipy-1.2.1:\n",
      "      Successfully uninstalled scipy-1.2.1\n",
      "  Found existing installation: scikit-learn 0.21.2\n",
      "    Uninstalling scikit-learn-0.21.2:\n",
      "      Successfully uninstalled scikit-learn-0.21.2\n",
      "  Found existing installation: llvmlite 0.29.0\n"
     ]
    },
    {
     "name": "stderr",
     "output_type": "stream",
     "text": [
      "ERROR: Cannot uninstall 'llvmlite'. It is a distutils installed project and thus we cannot accurately determine which files belong to it which would lead to only a partial uninstall.\n"
     ]
    },
    {
     "name": "stdout",
     "output_type": "stream",
     "text": [
      "Requirement already satisfied: statsmodels in d:\\anaconda\\lib\\site-packages (0.10.0)\n",
      "Requirement already satisfied: numpy>=1.11 in d:\\anaconda\\lib\\site-packages (from statsmodels) (1.21.6)\n",
      "Requirement already satisfied: scipy>=0.18 in d:\\anaconda\\lib\\site-packages (from statsmodels) (1.7.3)\n",
      "Requirement already satisfied: pandas>=0.19 in d:\\anaconda\\lib\\site-packages (from statsmodels) (1.3.5)\n",
      "Requirement already satisfied: patsy>=0.4.0 in d:\\anaconda\\lib\\site-packages (from statsmodels) (0.5.1)\n",
      "Requirement already satisfied: pytz>=2017.3 in d:\\anaconda\\lib\\site-packages (from pandas>=0.19->statsmodels) (2019.1)\n",
      "Requirement already satisfied: python-dateutil>=2.7.3 in c:\\users\\huanghan\\appdata\\roaming\\python\\python37\\site-packages (from pandas>=0.19->statsmodels) (2.8.2)\n",
      "Requirement already satisfied: six in c:\\users\\huanghan\\appdata\\roaming\\python\\python37\\site-packages (from patsy>=0.4.0->statsmodels) (1.16.0)\n"
     ]
    }
   ],
   "source": [
    "!pip install pyod\n",
    "!pip install statsmodels"
   ]
  },
  {
   "cell_type": "code",
   "execution_count": 39,
   "metadata": {},
   "outputs": [
    {
     "ename": "ImportError",
     "evalue": "DLL load failed: 找不到指定的模块。",
     "output_type": "error",
     "traceback": [
      "\u001b[1;31m---------------------------------------------------------------------------\u001b[0m",
      "\u001b[1;31mImportError\u001b[0m                               Traceback (most recent call last)",
      "\u001b[1;32m~\\AppData\\Local\\Temp\\ipykernel_6668\\645877835.py\u001b[0m in \u001b[0;36m<module>\u001b[1;34m\u001b[0m\n\u001b[0;32m      1\u001b[0m \u001b[1;32mfrom\u001b[0m \u001b[0mpyspark\u001b[0m\u001b[1;33m.\u001b[0m\u001b[0msql\u001b[0m \u001b[1;32mimport\u001b[0m \u001b[0mSparkSession\u001b[0m\u001b[1;33m\u001b[0m\u001b[1;33m\u001b[0m\u001b[0m\n\u001b[0;32m      2\u001b[0m \u001b[1;32mfrom\u001b[0m \u001b[0mpyspark\u001b[0m\u001b[1;33m.\u001b[0m\u001b[0msql\u001b[0m\u001b[1;33m.\u001b[0m\u001b[0mfunctions\u001b[0m \u001b[1;32mimport\u001b[0m \u001b[0mcol\u001b[0m\u001b[1;33m,\u001b[0m \u001b[0msum\u001b[0m\u001b[1;33m,\u001b[0m \u001b[0mcountDistinct\u001b[0m\u001b[1;33m,\u001b[0m \u001b[0mavg\u001b[0m\u001b[1;33m\u001b[0m\u001b[1;33m\u001b[0m\u001b[0m\n\u001b[1;32m----> 3\u001b[1;33m \u001b[1;32mfrom\u001b[0m \u001b[0msklearn\u001b[0m\u001b[1;33m.\u001b[0m\u001b[0mensemble\u001b[0m \u001b[1;32mimport\u001b[0m \u001b[0mIsolationForest\u001b[0m\u001b[1;33m\u001b[0m\u001b[1;33m\u001b[0m\u001b[0m\n\u001b[0m",
      "\u001b[1;32md:\\anaconda\\lib\\site-packages\\sklearn\\ensemble\\__init__.py\u001b[0m in \u001b[0;36m<module>\u001b[1;34m\u001b[0m\n\u001b[0;32m      3\u001b[0m \u001b[0mclassification\u001b[0m\u001b[1;33m,\u001b[0m \u001b[0mregression\u001b[0m \u001b[1;32mand\u001b[0m \u001b[0manomaly\u001b[0m \u001b[0mdetection\u001b[0m\u001b[1;33m.\u001b[0m\u001b[1;33m\u001b[0m\u001b[1;33m\u001b[0m\u001b[0m\n\u001b[0;32m      4\u001b[0m \"\"\"\n\u001b[1;32m----> 5\u001b[1;33m \u001b[1;32mfrom\u001b[0m \u001b[1;33m.\u001b[0m\u001b[0m_base\u001b[0m \u001b[1;32mimport\u001b[0m \u001b[0mBaseEnsemble\u001b[0m\u001b[1;33m\u001b[0m\u001b[1;33m\u001b[0m\u001b[0m\n\u001b[0m\u001b[0;32m      6\u001b[0m \u001b[1;32mfrom\u001b[0m \u001b[1;33m.\u001b[0m\u001b[0m_forest\u001b[0m \u001b[1;32mimport\u001b[0m \u001b[0mRandomForestClassifier\u001b[0m\u001b[1;33m\u001b[0m\u001b[1;33m\u001b[0m\u001b[0m\n\u001b[0;32m      7\u001b[0m \u001b[1;32mfrom\u001b[0m \u001b[1;33m.\u001b[0m\u001b[0m_forest\u001b[0m \u001b[1;32mimport\u001b[0m \u001b[0mRandomForestRegressor\u001b[0m\u001b[1;33m\u001b[0m\u001b[1;33m\u001b[0m\u001b[0m\n",
      "\u001b[1;32md:\\anaconda\\lib\\site-packages\\sklearn\\ensemble\\_base.py\u001b[0m in \u001b[0;36m<module>\u001b[1;34m\u001b[0m\n\u001b[0;32m     16\u001b[0m \u001b[1;32mfrom\u001b[0m \u001b[1;33m.\u001b[0m\u001b[1;33m.\u001b[0m\u001b[0mbase\u001b[0m \u001b[1;32mimport\u001b[0m \u001b[0mBaseEstimator\u001b[0m\u001b[1;33m\u001b[0m\u001b[1;33m\u001b[0m\u001b[0m\n\u001b[0;32m     17\u001b[0m \u001b[1;32mfrom\u001b[0m \u001b[1;33m.\u001b[0m\u001b[1;33m.\u001b[0m\u001b[0mbase\u001b[0m \u001b[1;32mimport\u001b[0m \u001b[0mMetaEstimatorMixin\u001b[0m\u001b[1;33m\u001b[0m\u001b[1;33m\u001b[0m\u001b[0m\n\u001b[1;32m---> 18\u001b[1;33m \u001b[1;32mfrom\u001b[0m \u001b[1;33m.\u001b[0m\u001b[1;33m.\u001b[0m\u001b[0mtree\u001b[0m \u001b[1;32mimport\u001b[0m \u001b[0mDecisionTreeRegressor\u001b[0m\u001b[1;33m,\u001b[0m \u001b[0mExtraTreeRegressor\u001b[0m\u001b[1;33m\u001b[0m\u001b[1;33m\u001b[0m\u001b[0m\n\u001b[0m\u001b[0;32m     19\u001b[0m \u001b[1;32mfrom\u001b[0m \u001b[1;33m.\u001b[0m\u001b[1;33m.\u001b[0m\u001b[0mutils\u001b[0m \u001b[1;32mimport\u001b[0m \u001b[0mBunch\u001b[0m\u001b[1;33m,\u001b[0m \u001b[0m_print_elapsed_time\u001b[0m\u001b[1;33m\u001b[0m\u001b[1;33m\u001b[0m\u001b[0m\n\u001b[0;32m     20\u001b[0m \u001b[1;32mfrom\u001b[0m \u001b[1;33m.\u001b[0m\u001b[1;33m.\u001b[0m\u001b[0mutils\u001b[0m \u001b[1;32mimport\u001b[0m \u001b[0mcheck_random_state\u001b[0m\u001b[1;33m\u001b[0m\u001b[1;33m\u001b[0m\u001b[0m\n",
      "\u001b[1;32md:\\anaconda\\lib\\site-packages\\sklearn\\tree\\__init__.py\u001b[0m in \u001b[0;36m<module>\u001b[1;34m\u001b[0m\n\u001b[0;32m      4\u001b[0m \"\"\"\n\u001b[0;32m      5\u001b[0m \u001b[1;33m\u001b[0m\u001b[0m\n\u001b[1;32m----> 6\u001b[1;33m \u001b[1;32mfrom\u001b[0m \u001b[1;33m.\u001b[0m\u001b[0m_classes\u001b[0m \u001b[1;32mimport\u001b[0m \u001b[0mBaseDecisionTree\u001b[0m\u001b[1;33m\u001b[0m\u001b[1;33m\u001b[0m\u001b[0m\n\u001b[0m\u001b[0;32m      7\u001b[0m \u001b[1;32mfrom\u001b[0m \u001b[1;33m.\u001b[0m\u001b[0m_classes\u001b[0m \u001b[1;32mimport\u001b[0m \u001b[0mDecisionTreeClassifier\u001b[0m\u001b[1;33m\u001b[0m\u001b[1;33m\u001b[0m\u001b[0m\n\u001b[0;32m      8\u001b[0m \u001b[1;32mfrom\u001b[0m \u001b[1;33m.\u001b[0m\u001b[0m_classes\u001b[0m \u001b[1;32mimport\u001b[0m \u001b[0mDecisionTreeRegressor\u001b[0m\u001b[1;33m\u001b[0m\u001b[1;33m\u001b[0m\u001b[0m\n",
      "\u001b[1;32md:\\anaconda\\lib\\site-packages\\sklearn\\tree\\_classes.py\u001b[0m in \u001b[0;36m<module>\u001b[1;34m\u001b[0m\n\u001b[0;32m     39\u001b[0m \u001b[1;32mfrom\u001b[0m \u001b[1;33m.\u001b[0m\u001b[1;33m.\u001b[0m\u001b[0mutils\u001b[0m\u001b[1;33m.\u001b[0m\u001b[0mvalidation\u001b[0m \u001b[1;32mimport\u001b[0m \u001b[0mcheck_is_fitted\u001b[0m\u001b[1;33m\u001b[0m\u001b[1;33m\u001b[0m\u001b[0m\n\u001b[0;32m     40\u001b[0m \u001b[1;33m\u001b[0m\u001b[0m\n\u001b[1;32m---> 41\u001b[1;33m \u001b[1;32mfrom\u001b[0m \u001b[1;33m.\u001b[0m\u001b[0m_criterion\u001b[0m \u001b[1;32mimport\u001b[0m \u001b[0mCriterion\u001b[0m\u001b[1;33m\u001b[0m\u001b[1;33m\u001b[0m\u001b[0m\n\u001b[0m\u001b[0;32m     42\u001b[0m \u001b[1;32mfrom\u001b[0m \u001b[1;33m.\u001b[0m\u001b[0m_splitter\u001b[0m \u001b[1;32mimport\u001b[0m \u001b[0mSplitter\u001b[0m\u001b[1;33m\u001b[0m\u001b[1;33m\u001b[0m\u001b[0m\n\u001b[0;32m     43\u001b[0m \u001b[1;32mfrom\u001b[0m \u001b[1;33m.\u001b[0m\u001b[0m_tree\u001b[0m \u001b[1;32mimport\u001b[0m \u001b[0mDepthFirstTreeBuilder\u001b[0m\u001b[1;33m\u001b[0m\u001b[1;33m\u001b[0m\u001b[0m\n",
      "\u001b[1;32msklearn\\tree\\_criterion.pyx\u001b[0m in \u001b[0;36minit sklearn.tree._criterion\u001b[1;34m()\u001b[0m\n",
      "\u001b[1;31mImportError\u001b[0m: DLL load failed: 找不到指定的模块。"
     ]
    }
   ],
   "source": [
    "from pyspark.sql import SparkSession\n",
    "from pyspark.sql.functions import col, sum, countDistinct, avg\n",
    "from sklearn.ensemble import IsolationForest"
   ]
  },
  {
   "cell_type": "code",
   "execution_count": 35,
   "metadata": {},
   "outputs": [
    {
     "ename": "ImportError",
     "evalue": "DLL load failed: 找不到指定的模块。",
     "output_type": "error",
     "traceback": [
      "\u001b[1;31m---------------------------------------------------------------------------\u001b[0m",
      "\u001b[1;31mImportError\u001b[0m                               Traceback (most recent call last)",
      "\u001b[1;32m~\\AppData\\Local\\Temp\\ipykernel_6668\\3397108082.py\u001b[0m in \u001b[0;36m<module>\u001b[1;34m\u001b[0m\n\u001b[0;32m      1\u001b[0m \u001b[1;32mfrom\u001b[0m \u001b[0mpyspark\u001b[0m\u001b[1;33m.\u001b[0m\u001b[0msql\u001b[0m \u001b[1;32mimport\u001b[0m \u001b[0mSparkSession\u001b[0m\u001b[1;33m\u001b[0m\u001b[1;33m\u001b[0m\u001b[0m\n\u001b[0;32m      2\u001b[0m \u001b[1;32mfrom\u001b[0m \u001b[0mpyspark\u001b[0m\u001b[1;33m.\u001b[0m\u001b[0msql\u001b[0m\u001b[1;33m.\u001b[0m\u001b[0mfunctions\u001b[0m \u001b[1;32mimport\u001b[0m \u001b[0mcol\u001b[0m\u001b[1;33m,\u001b[0m \u001b[0msum\u001b[0m\u001b[1;33m,\u001b[0m \u001b[0mcountDistinct\u001b[0m\u001b[1;33m,\u001b[0m \u001b[0mavg\u001b[0m\u001b[1;33m\u001b[0m\u001b[1;33m\u001b[0m\u001b[0m\n\u001b[1;32m----> 3\u001b[1;33m \u001b[1;32mfrom\u001b[0m \u001b[0msklearn\u001b[0m\u001b[1;33m.\u001b[0m\u001b[0mensemble\u001b[0m \u001b[1;32mimport\u001b[0m \u001b[0mIsolationForest\u001b[0m\u001b[1;33m\u001b[0m\u001b[1;33m\u001b[0m\u001b[0m\n\u001b[0m\u001b[0;32m      4\u001b[0m \u001b[1;33m\u001b[0m\u001b[0m\n\u001b[0;32m      5\u001b[0m \u001b[1;31m# Step 2: Feature Engineering for Merchant Anomaly Detection\u001b[0m\u001b[1;33m\u001b[0m\u001b[1;33m\u001b[0m\u001b[1;33m\u001b[0m\u001b[0m\n",
      "\u001b[1;32md:\\anaconda\\lib\\site-packages\\sklearn\\ensemble\\__init__.py\u001b[0m in \u001b[0;36m<module>\u001b[1;34m\u001b[0m\n\u001b[0;32m      3\u001b[0m \u001b[0mclassification\u001b[0m\u001b[1;33m,\u001b[0m \u001b[0mregression\u001b[0m \u001b[1;32mand\u001b[0m \u001b[0manomaly\u001b[0m \u001b[0mdetection\u001b[0m\u001b[1;33m.\u001b[0m\u001b[1;33m\u001b[0m\u001b[1;33m\u001b[0m\u001b[0m\n\u001b[0;32m      4\u001b[0m \"\"\"\n\u001b[1;32m----> 5\u001b[1;33m \u001b[1;32mfrom\u001b[0m \u001b[1;33m.\u001b[0m\u001b[0m_base\u001b[0m \u001b[1;32mimport\u001b[0m \u001b[0mBaseEnsemble\u001b[0m\u001b[1;33m\u001b[0m\u001b[1;33m\u001b[0m\u001b[0m\n\u001b[0m\u001b[0;32m      6\u001b[0m \u001b[1;32mfrom\u001b[0m \u001b[1;33m.\u001b[0m\u001b[0m_forest\u001b[0m \u001b[1;32mimport\u001b[0m \u001b[0mRandomForestClassifier\u001b[0m\u001b[1;33m\u001b[0m\u001b[1;33m\u001b[0m\u001b[0m\n\u001b[0;32m      7\u001b[0m \u001b[1;32mfrom\u001b[0m \u001b[1;33m.\u001b[0m\u001b[0m_forest\u001b[0m \u001b[1;32mimport\u001b[0m \u001b[0mRandomForestRegressor\u001b[0m\u001b[1;33m\u001b[0m\u001b[1;33m\u001b[0m\u001b[0m\n",
      "\u001b[1;32md:\\anaconda\\lib\\site-packages\\sklearn\\ensemble\\_base.py\u001b[0m in \u001b[0;36m<module>\u001b[1;34m\u001b[0m\n\u001b[0;32m     16\u001b[0m \u001b[1;32mfrom\u001b[0m \u001b[1;33m.\u001b[0m\u001b[1;33m.\u001b[0m\u001b[0mbase\u001b[0m \u001b[1;32mimport\u001b[0m \u001b[0mBaseEstimator\u001b[0m\u001b[1;33m\u001b[0m\u001b[1;33m\u001b[0m\u001b[0m\n\u001b[0;32m     17\u001b[0m \u001b[1;32mfrom\u001b[0m \u001b[1;33m.\u001b[0m\u001b[1;33m.\u001b[0m\u001b[0mbase\u001b[0m \u001b[1;32mimport\u001b[0m \u001b[0mMetaEstimatorMixin\u001b[0m\u001b[1;33m\u001b[0m\u001b[1;33m\u001b[0m\u001b[0m\n\u001b[1;32m---> 18\u001b[1;33m \u001b[1;32mfrom\u001b[0m \u001b[1;33m.\u001b[0m\u001b[1;33m.\u001b[0m\u001b[0mtree\u001b[0m \u001b[1;32mimport\u001b[0m \u001b[0mDecisionTreeRegressor\u001b[0m\u001b[1;33m,\u001b[0m \u001b[0mExtraTreeRegressor\u001b[0m\u001b[1;33m\u001b[0m\u001b[1;33m\u001b[0m\u001b[0m\n\u001b[0m\u001b[0;32m     19\u001b[0m \u001b[1;32mfrom\u001b[0m \u001b[1;33m.\u001b[0m\u001b[1;33m.\u001b[0m\u001b[0mutils\u001b[0m \u001b[1;32mimport\u001b[0m \u001b[0mBunch\u001b[0m\u001b[1;33m,\u001b[0m \u001b[0m_print_elapsed_time\u001b[0m\u001b[1;33m\u001b[0m\u001b[1;33m\u001b[0m\u001b[0m\n\u001b[0;32m     20\u001b[0m \u001b[1;32mfrom\u001b[0m \u001b[1;33m.\u001b[0m\u001b[1;33m.\u001b[0m\u001b[0mutils\u001b[0m \u001b[1;32mimport\u001b[0m \u001b[0mcheck_random_state\u001b[0m\u001b[1;33m\u001b[0m\u001b[1;33m\u001b[0m\u001b[0m\n",
      "\u001b[1;32md:\\anaconda\\lib\\site-packages\\sklearn\\tree\\__init__.py\u001b[0m in \u001b[0;36m<module>\u001b[1;34m\u001b[0m\n\u001b[0;32m      4\u001b[0m \"\"\"\n\u001b[0;32m      5\u001b[0m \u001b[1;33m\u001b[0m\u001b[0m\n\u001b[1;32m----> 6\u001b[1;33m \u001b[1;32mfrom\u001b[0m \u001b[1;33m.\u001b[0m\u001b[0m_classes\u001b[0m \u001b[1;32mimport\u001b[0m \u001b[0mBaseDecisionTree\u001b[0m\u001b[1;33m\u001b[0m\u001b[1;33m\u001b[0m\u001b[0m\n\u001b[0m\u001b[0;32m      7\u001b[0m \u001b[1;32mfrom\u001b[0m \u001b[1;33m.\u001b[0m\u001b[0m_classes\u001b[0m \u001b[1;32mimport\u001b[0m \u001b[0mDecisionTreeClassifier\u001b[0m\u001b[1;33m\u001b[0m\u001b[1;33m\u001b[0m\u001b[0m\n\u001b[0;32m      8\u001b[0m \u001b[1;32mfrom\u001b[0m \u001b[1;33m.\u001b[0m\u001b[0m_classes\u001b[0m \u001b[1;32mimport\u001b[0m \u001b[0mDecisionTreeRegressor\u001b[0m\u001b[1;33m\u001b[0m\u001b[1;33m\u001b[0m\u001b[0m\n",
      "\u001b[1;32md:\\anaconda\\lib\\site-packages\\sklearn\\tree\\_classes.py\u001b[0m in \u001b[0;36m<module>\u001b[1;34m\u001b[0m\n\u001b[0;32m     39\u001b[0m \u001b[1;32mfrom\u001b[0m \u001b[1;33m.\u001b[0m\u001b[1;33m.\u001b[0m\u001b[0mutils\u001b[0m\u001b[1;33m.\u001b[0m\u001b[0mvalidation\u001b[0m \u001b[1;32mimport\u001b[0m \u001b[0mcheck_is_fitted\u001b[0m\u001b[1;33m\u001b[0m\u001b[1;33m\u001b[0m\u001b[0m\n\u001b[0;32m     40\u001b[0m \u001b[1;33m\u001b[0m\u001b[0m\n\u001b[1;32m---> 41\u001b[1;33m \u001b[1;32mfrom\u001b[0m \u001b[1;33m.\u001b[0m\u001b[0m_criterion\u001b[0m \u001b[1;32mimport\u001b[0m \u001b[0mCriterion\u001b[0m\u001b[1;33m\u001b[0m\u001b[1;33m\u001b[0m\u001b[0m\n\u001b[0m\u001b[0;32m     42\u001b[0m \u001b[1;32mfrom\u001b[0m \u001b[1;33m.\u001b[0m\u001b[0m_splitter\u001b[0m \u001b[1;32mimport\u001b[0m \u001b[0mSplitter\u001b[0m\u001b[1;33m\u001b[0m\u001b[1;33m\u001b[0m\u001b[0m\n\u001b[0;32m     43\u001b[0m \u001b[1;32mfrom\u001b[0m \u001b[1;33m.\u001b[0m\u001b[0m_tree\u001b[0m \u001b[1;32mimport\u001b[0m \u001b[0mDepthFirstTreeBuilder\u001b[0m\u001b[1;33m\u001b[0m\u001b[1;33m\u001b[0m\u001b[0m\n",
      "\u001b[1;32msklearn\\tree\\_criterion.pyx\u001b[0m in \u001b[0;36minit sklearn.tree._criterion\u001b[1;34m()\u001b[0m\n",
      "\u001b[1;31mImportError\u001b[0m: DLL load failed: 找不到指定的模块。"
     ]
    }
   ],
   "source": [
    "from pyspark.sql import SparkSession\n",
    "from pyspark.sql.functions import col, sum, countDistinct, avg\n",
    "from sklearn.ensemble import IsolationForest\n",
    "\n",
    "# Step 2: Feature Engineering for Merchant Anomaly Detection\n",
    "# Calculate total revenue, number of unique customers, and average transaction value for each merchant\n",
    "merchant_features = transaction.groupBy(\"merchant_abn\").agg(\n",
    "    F.sum(\"dollar_value\").alias(\"total_revenue\"),  \n",
    "    F.countDistinct(\"user_id\").alias(\"unique_customers\"), \n",
    "    F.avg(\"dollar_value\").alias(\"average_transaction_value\") \n",
    ")\n",
    "\n",
    "# Convert to Pandas DataFrame for use with Scikit-learn\n",
    "merchant_features_pd = merchant_features.toPandas()\n",
    "\n",
    "# Step 3: Handle missing or infinite values (if any)\n",
    "merchant_features_pd = merchant_features_pd.fillna(0)\n",
    "merchant_features_pd = merchant_features_pd.replace([float('inf'), -float('inf')], 0)\n",
    "\n",
    "# Step 4: Anomaly Detection using Isolation Forest\n",
    "# Initialize and fit the Isolation Forest model\n",
    "merchant_model = IsolationForest(contamination=0.05, random_state=42)\n",
    "merchant_features_pd['anomaly'] = merchant_model.fit_predict(\n",
    "    merchant_features_pd[[\"total_revenue\", \"unique_customers\", \"average_transaction_value\"]]\n",
    ")\n",
    "\n",
    "# Convert predictions back to Spark DataFrame\n",
    "merchant_anomalies = spark.createDataFrame(merchant_features_pd)\n",
    "\n",
    "# Step 5: Show the results\n",
    "# Display the merchants classified as anomalies\n",
    "merchant_anomalies.filter(merchant_anomalies['anomaly'] == -1).show()\n",
    "\n",
    "# Optional: Save the results to a CSV or Parquet file for further analysis\n",
    "# merchant_anomalies.write.parquet(\"merchant_anomalies.parquet\", mode='overwrite')\n"
   ]
  },
  {
   "cell_type": "code",
   "execution_count": 36,
   "metadata": {},
   "outputs": [
    {
     "name": "stdout",
     "output_type": "stream",
     "text": [
      "   user_id    total_spent  transaction_count  average_transaction_value\n",
      "0       26   94290.066114                588                 160.357255\n",
      "1    18730   96322.244891                581                 165.786996\n",
      "2      474  114137.088671                597                 191.184403\n",
      "3    19141  109441.631247                597                 183.319315\n",
      "4    19158   96380.828902                582                 165.602799\n"
     ]
    },
    {
     "ename": "NameError",
     "evalue": "name 'IsolationForest' is not defined",
     "output_type": "error",
     "traceback": [
      "\u001b[1;31m---------------------------------------------------------------------------\u001b[0m",
      "\u001b[1;31mNameError\u001b[0m                                 Traceback (most recent call last)",
      "\u001b[1;32m~\\AppData\\Local\\Temp\\ipykernel_6668\\2427599307.py\u001b[0m in \u001b[0;36m<module>\u001b[1;34m\u001b[0m\n\u001b[0;32m     16\u001b[0m \u001b[1;33m\u001b[0m\u001b[0m\n\u001b[0;32m     17\u001b[0m \u001b[1;31m# Initialize the Isolation Forest model\u001b[0m\u001b[1;33m\u001b[0m\u001b[1;33m\u001b[0m\u001b[1;33m\u001b[0m\u001b[0m\n\u001b[1;32m---> 18\u001b[1;33m \u001b[0mcustomer_model\u001b[0m \u001b[1;33m=\u001b[0m \u001b[0mIsolationForest\u001b[0m\u001b[1;33m(\u001b[0m\u001b[0mcontamination\u001b[0m\u001b[1;33m=\u001b[0m\u001b[1;36m0.05\u001b[0m\u001b[1;33m,\u001b[0m \u001b[0mrandom_state\u001b[0m\u001b[1;33m=\u001b[0m\u001b[1;36m42\u001b[0m\u001b[1;33m)\u001b[0m\u001b[1;33m\u001b[0m\u001b[1;33m\u001b[0m\u001b[0m\n\u001b[0m\u001b[0;32m     19\u001b[0m \u001b[1;33m\u001b[0m\u001b[0m\n\u001b[0;32m     20\u001b[0m \u001b[1;31m# Train the Isolation Forest model on the customer features\u001b[0m\u001b[1;33m\u001b[0m\u001b[1;33m\u001b[0m\u001b[1;33m\u001b[0m\u001b[0m\n",
      "\u001b[1;31mNameError\u001b[0m: name 'IsolationForest' is not defined"
     ]
    }
   ],
   "source": [
    "customer_features = transaction.groupBy(\"user_id\").agg(\n",
    "    F.sum(\"dollar_value\").alias(\"total_spent\"),           # Total spending by the customer\n",
    "    F.count(\"dollar_value\").alias(\"transaction_count\"),   # Number of transactions\n",
    "    F.avg(\"dollar_value\").alias(\"average_transaction_value\")  # Average value of each transaction\n",
    ")\n",
    "\n",
    "# Convert the customer features Spark DataFrame to a Pandas DataFrame for use with Scikit-learn\n",
    "customer_features_pd = customer_features.toPandas()\n",
    "\n",
    "# Handle any missing or infinite values (if present)\n",
    "customer_features_pd = customer_features_pd.fillna(0)\n",
    "customer_features_pd = customer_features_pd.replace([float('inf'), -float('inf')], 0)\n",
    "\n",
    "# Display the first few rows to ensure proper conversion and handling\n",
    "print(customer_features_pd.head())\n",
    "\n",
    "# Initialize the Isolation Forest model\n",
    "customer_model = IsolationForest(contamination=0.05, random_state=42)\n",
    "\n",
    "# Train the Isolation Forest model on the customer features\n",
    "# We use total_spent, transaction_count, and average_transaction_value as the features\n",
    "customer_model.fit(customer_features_pd[[\"total_spent\", \"transaction_count\", \"average_transaction_value\"]])\n",
    "\n",
    "# Predict anomalies: -1 for outliers, 1 for inliers\n",
    "customer_features_pd[\"anomaly\"] = customer_model.predict(\n",
    "    customer_features_pd[[\"total_spent\", \"transaction_count\", \"average_transaction_value\"]]\n",
    ")\n",
    "\n",
    "# Display the number of anomalies detected\n",
    "print(\"Number of anomalies detected:\", (customer_features_pd[\"anomaly\"] == -1).sum())\n",
    "\n",
    "# Display a sample of the customers classified as anomalies\n",
    "print(customer_features_pd[customer_features_pd[\"anomaly\"] == -1].head())\n",
    "\n",
    "# Convert the Pandas DataFrame back to a Spark DataFrame for further processing or saving\n",
    "customer_anomalies = spark.createDataFrame(customer_features_pd)\n",
    "\n",
    "# Show the anomalies in the Spark DataFrame\n",
    "customer_anomalies.filter(customer_anomalies[\"anomaly\"] == -1).show(10)\n",
    "\n",
    "# Save the anomalies to a Parquet file for future analysis or reporting\n",
    "# customer_anomalies.write.parquet(\"customer_anomalies.parquet\", mode='overwrite')\n",
    "\n"
   ]
  },
  {
   "cell_type": "code",
   "execution_count": 40,
   "metadata": {},
   "outputs": [],
   "source": [
    "# Step 1: Calculate customer count by counting distinct 'user_id' from `transaction`\n",
    "customer_count_df = transaction.groupBy(\"merchant_abn\").agg(F.countDistinct(\"user_id\").alias(\"customer_count\"))\n",
    "\n",
    "# Step 2: Calculate total revenue by summing 'dollar_value' for each 'merchant_abn'\n",
    "merchant_revenue = transaction.groupBy(\"merchant_abn\").agg(F.sum(\"dollar_value\").alias(\"total_revenue\"))\n",
    "\n",
    "# Step 3: Join the customer_count and total_revenue back to the `merchants` DataFrame (m_detail)\n",
    "# Ensure `merchant_abn` column types match in `customer_count_df` and `merchant_revenue`\n",
    "m_detail = m_detail.withColumn(\"merchant_abn\", m_detail[\"merchant_abn\"].cast(\"long\"))\n",
    "merchants = m_detail.join(customer_count_df, on=\"merchant_abn\", how=\"left\").join(merchant_revenue, on=\"merchant_abn\", how=\"left\")\n",
    "\n",
    "# Step 4: Fill any missing values for `customer_count` and `total_revenue`\n",
    "merchants = merchants.fillna({\"customer_count\": 0, \"total_revenue\": 0.0})\n",
    "\n",
    "# Step 5: Calculate new feature: revenue per customer\n",
    "merchants = merchants.withColumn(\"revenue_per_customer\", merchants[\"total_revenue\"] / merchants[\"customer_count\"])\n",
    "\n",
    "# Handle division by zero (when customer_count is zero, set revenue_per_customer to 0)\n",
    "merchants = merchants.withColumn(\"revenue_per_customer\", F.when(F.col(\"customer_count\") == 0, 0).otherwise(F.col(\"revenue_per_customer\")))\n",
    "\n",
    "merchants = merchants.fillna({'total_revenue': merchants.agg(F.mean('total_revenue')).first()[0]})\n",
    "transaction = transaction.dropna(subset=[\"dollar_value\"])\n",
    "c_raw_detail = c_raw_detail.fillna('Unknown')\n",
    "\n",
    "# Data transformation: generate new features correctly using column expressions\n",
    "merchants = merchants.withColumn(\n",
    "    \"revenue_per_customer\", \n",
    "    F.col(\"total_revenue\") / F.col(\"customer_count\")\n",
    ")\n",
    "\n",
    "# Data merging: join DataFrames correctly using PySpark's join method\n",
    "m_detail = m_detail.withColumnRenamed(\"name\", \"merchant_name\")\n",
    "c_raw_detail = c_raw_detail.withColumnRenamed(\"name\", \"customer_name\")\n",
    "    \n",
    "merged_data = transaction.join(merchants, on=\"merchant_abn\", how=\"left\")\n",
    "merged_data = merged_data.join(c_raw_detail, merged_data[\"user_id\"] == c_raw_detail[\"consumer_id\"], how=\"left\")\n",
    "merged_data = merged_data.drop(\"consumer_id\")\n",
    "merged_data = merged_data.drop(\"tag\")"
   ]
  },
  {
   "cell_type": "code",
   "execution_count": 41,
   "metadata": {},
   "outputs": [
    {
     "name": "stdout",
     "output_type": "stream",
     "text": [
      "Columns in merged_data before saving: ['merchant_abn', 'user_id', 'dollar_value', 'order_datetime', 'merchant_name', 'tags', 'revenue_level', 'take_rate', 'customer_count', 'total_revenue', 'revenue_per_customer', 'customer_name', 'address', 'state', 'postcode', 'gender']\n"
     ]
    }
   ],
   "source": [
    "print(\"Columns in merged_data before saving:\", merged_data.columns)\n"
   ]
  },
  {
   "cell_type": "code",
   "execution_count": 42,
   "metadata": {},
   "outputs": [
    {
     "name": "stdout",
     "output_type": "stream",
     "text": [
      "+------------+-------+-----------------+--------------+--------------------+--------------------+-------------+---------+--------------+------------------+--------------------+-------------+-----------------+-----+--------+------+\n",
      "|merchant_abn|user_id|     dollar_value|order_datetime|       merchant_name|                tags|revenue_level|take_rate|customer_count|     total_revenue|revenue_per_customer|customer_name|          address|state|postcode|gender|\n",
      "+------------+-------+-----------------+--------------+--------------------+--------------------+-------------+---------+--------------+------------------+--------------------+-------------+-----------------+-----+--------+------+\n",
      "| 83412691377|     26|  51.124963532657|    2021-12-06|Suspendisse Sagit...|((watch, clock, a...|            c|     2.94|         10770| 498536.5816973136|  46.289376202164675|Chloe Walters|04666 Castro Hill|  VIC|    3026|Female|\n",
      "| 83412691377|     26|37.59252664573718|    2022-06-15|Suspendisse Sagit...|((watch, clock, a...|            c|     2.94|         10770| 498536.5816973136|  46.289376202164675|Chloe Walters|04666 Castro Hill|  VIC|    3026|Female|\n",
      "| 10648956813|     26|86.58263842410851|    2022-09-06|Proin Nisl Institute|((computeRs, comp...|            a|     6.66|         14380|1419600.2971491965|   98.72046572664787|Chloe Walters|04666 Castro Hill|  VIC|    3026|Female|\n",
      "| 18303734841|     26|297.3395616122317|    2021-08-22|Sollicitudin Orci...|((health and beau...|            a|     6.61|          3457|1049286.5383955822|  303.52517743580626|Chloe Walters|04666 Castro Hill|  VIC|    3026|Female|\n",
      "| 45899477665|     26|69.42521614881571|    2021-08-22|     At Incorporated|((books, periodic...|            a|     5.87|          5104|1413218.7581436625|  276.88455292783357|Chloe Walters|04666 Castro Hill|  VIC|    3026|Female|\n",
      "+------------+-------+-----------------+--------------+--------------------+--------------------+-------------+---------+--------------+------------------+--------------------+-------------+-----------------+-----+--------+------+\n",
      "only showing top 5 rows\n",
      "\n"
     ]
    }
   ],
   "source": [
    "merged_data.show(5)"
   ]
  },
  {
   "cell_type": "code",
   "execution_count": 43,
   "metadata": {},
   "outputs": [
    {
     "name": "stdout",
     "output_type": "stream",
     "text": [
      "root\n",
      " |-- merchant_abn: long (nullable = true)\n",
      " |-- user_id: long (nullable = true)\n",
      " |-- dollar_value: double (nullable = true)\n",
      " |-- order_datetime: date (nullable = true)\n",
      " |-- merchant_name: string (nullable = true)\n",
      " |-- tags: string (nullable = true)\n",
      " |-- revenue_level: string (nullable = true)\n",
      " |-- take_rate: float (nullable = true)\n",
      " |-- customer_count: long (nullable = true)\n",
      " |-- total_revenue: double (nullable = true)\n",
      " |-- revenue_per_customer: double (nullable = true)\n",
      " |-- customer_name: string (nullable = true)\n",
      " |-- address: string (nullable = true)\n",
      " |-- state: string (nullable = true)\n",
      " |-- postcode: string (nullable = true)\n",
      " |-- gender: string (nullable = true)\n",
      "\n"
     ]
    }
   ],
   "source": [
    "merged_data.printSchema()\n"
   ]
  },
  {
   "cell_type": "code",
   "execution_count": 126,
   "metadata": {},
   "outputs": [
    {
     "name": "stdout",
     "output_type": "stream",
     "text": [
      "+------------+-------+-----------------+--------------+--------------------+--------------------+-------------+---------+--------------+------------------+--------------------+-------------+-----------------+-----+--------+------+\n",
      "|merchant_abn|user_id|     dollar_value|order_datetime|       merchant_name|                tags|revenue_level|take_rate|customer_count|     total_revenue|revenue_per_customer|customer_name|          address|state|postcode|gender|\n",
      "+------------+-------+-----------------+--------------+--------------------+--------------------+-------------+---------+--------------+------------------+--------------------+-------------+-----------------+-----+--------+------+\n",
      "| 83412691377|     26|  51.124963532657|    2021-12-06|Suspendisse Sagit...|((watch, clock, a...|            c|     2.94|         10770| 498536.5816973136|  46.289376202164675|Chloe Walters|04666 Castro Hill|  VIC|    3026|Female|\n",
      "| 83412691377|     26|37.59252664573718|    2022-06-15|Suspendisse Sagit...|((watch, clock, a...|            c|     2.94|         10770| 498536.5816973136|  46.289376202164675|Chloe Walters|04666 Castro Hill|  VIC|    3026|Female|\n",
      "| 10648956813|     26|86.58263842410851|    2022-09-06|Proin Nisl Institute|((computeRs, comp...|            a|     6.66|         14380|1419600.2971491965|   98.72046572664787|Chloe Walters|04666 Castro Hill|  VIC|    3026|Female|\n",
      "| 18303734841|     26|297.3395616122317|    2021-08-22|Sollicitudin Orci...|((health and beau...|            a|     6.61|          3457|1049286.5383955822|  303.52517743580626|Chloe Walters|04666 Castro Hill|  VIC|    3026|Female|\n",
      "| 45899477665|     26|69.42521614881571|    2021-08-22|     At Incorporated|((books, periodic...|            a|     5.87|          5104|1413218.7581436625|  276.88455292783357|Chloe Walters|04666 Castro Hill|  VIC|    3026|Female|\n",
      "+------------+-------+-----------------+--------------+--------------------+--------------------+-------------+---------+--------------+------------------+--------------------+-------------+-----------------+-----+--------+------+\n",
      "only showing top 5 rows\n",
      "\n"
     ]
    }
   ],
   "source": [
    "merged_data.show(5)"
   ]
  },
  {
   "cell_type": "code",
   "execution_count": 44,
   "metadata": {},
   "outputs": [
    {
     "name": "stdout",
     "output_type": "stream",
     "text": [
      "Number of outliers: 1534230\n"
     ]
    }
   ],
   "source": [
    "# Outlier analysis (example: using IQR method to identify outliers)\n",
    "# Convert the column to a Pandas Series\n",
    "dollar_value_pd = merged_data.select('dollar_value').toPandas()\n",
    "\n",
    "# Calculate the quantiles using Pandas\n",
    "Q1 = dollar_value_pd['dollar_value'].quantile(0.25)\n",
    "Q3 = dollar_value_pd['dollar_value'].quantile(0.75)\n",
    "IQR = Q3 - Q1\n",
    "\n",
    "# Filter out the outliers in the Spark DataFrame\n",
    "outliers = merged_data.filter(\n",
    "    (merged_data['dollar_value'] < (Q1 - 1.5 * IQR)) | \n",
    "    (merged_data['dollar_value'] > (Q3 + 1.5 * IQR))\n",
    ")\n",
    "\n",
    "print(f\"Number of outliers: {outliers.count()}\")\n",
    "\n"
   ]
  },
  {
   "cell_type": "code",
   "execution_count": 45,
   "metadata": {},
   "outputs": [
    {
     "name": "stdout",
     "output_type": "stream",
     "text": [
      "+------------+-------+-----------------+--------------+--------------------+--------------------+-------------+---------+--------------+------------------+--------------------+-------------+-----------------+-----+--------+------+\n",
      "|merchant_abn|user_id|     dollar_value|order_datetime|       merchant_name|                tags|revenue_level|take_rate|customer_count|     total_revenue|revenue_per_customer|customer_name|          address|state|postcode|gender|\n",
      "+------------+-------+-----------------+--------------+--------------------+--------------------+-------------+---------+--------------+------------------+--------------------+-------------+-----------------+-----+--------+------+\n",
      "| 83412691377|     26|  51.124963532657|    2021-12-06|Suspendisse Sagit...|((watch, clock, a...|            c|     2.94|         10770| 498536.5816973136|  46.289376202164675|Chloe Walters|04666 Castro Hill|  VIC|    3026|Female|\n",
      "| 83412691377|     26|37.59252664573718|    2022-06-15|Suspendisse Sagit...|((watch, clock, a...|            c|     2.94|         10770| 498536.5816973136|  46.289376202164675|Chloe Walters|04666 Castro Hill|  VIC|    3026|Female|\n",
      "| 10648956813|     26|86.58263842410851|    2022-09-06|Proin Nisl Institute|((computeRs, comp...|            a|     6.66|         14380|1419600.2971491965|   98.72046572664787|Chloe Walters|04666 Castro Hill|  VIC|    3026|Female|\n",
      "| 18303734841|     26|297.3395616122317|    2021-08-22|Sollicitudin Orci...|((health and beau...|            a|     6.61|          3457|1049286.5383955822|  303.52517743580626|Chloe Walters|04666 Castro Hill|  VIC|    3026|Female|\n",
      "| 45899477665|     26|69.42521614881571|    2021-08-22|     At Incorporated|((books, periodic...|            a|     5.87|          5104|1413218.7581436625|  276.88455292783357|Chloe Walters|04666 Castro Hill|  VIC|    3026|Female|\n",
      "+------------+-------+-----------------+--------------+--------------------+--------------------+-------------+---------+--------------+------------------+--------------------+-------------+-----------------+-----+--------+------+\n",
      "only showing top 5 rows\n",
      "\n"
     ]
    }
   ],
   "source": [
    "# Handling missing values\n",
    "\n",
    "# Calculate the mean value for `dollar_value` column\n",
    "mean_dollar_value = merged_data.agg({\"dollar_value\": \"mean\"}).collect()[0][0]\n",
    "\n",
    "# Fill missing `dollar_value` with the mean value\n",
    "merged_data_filled = merged_data.fillna({\"dollar_value\": mean_dollar_value})\n",
    "\n",
    "\n",
    "merged_data_filled = merged_data_filled.fillna({\"merchant_name\": \"Unknown\", \"customer_name\": \"Unknown\"})\n",
    "\n",
    "merged_data_filled.show(5)\n"
   ]
  },
  {
   "cell_type": "code",
   "execution_count": 46,
   "metadata": {},
   "outputs": [
    {
     "name": "stdout",
     "output_type": "stream",
     "text": [
      "root\n",
      " |-- merchant_abn: long (nullable = true)\n",
      " |-- user_id: long (nullable = true)\n",
      " |-- dollar_value: double (nullable = false)\n",
      " |-- order_datetime: date (nullable = true)\n",
      " |-- merchant_name: string (nullable = false)\n",
      " |-- tags: string (nullable = true)\n",
      " |-- revenue_level: string (nullable = true)\n",
      " |-- take_rate: float (nullable = true)\n",
      " |-- customer_count: long (nullable = true)\n",
      " |-- total_revenue: double (nullable = true)\n",
      " |-- revenue_per_customer: double (nullable = true)\n",
      " |-- customer_name: string (nullable = false)\n",
      " |-- address: string (nullable = true)\n",
      " |-- state: string (nullable = true)\n",
      " |-- postcode: string (nullable = true)\n",
      " |-- gender: string (nullable = true)\n",
      "\n"
     ]
    }
   ],
   "source": [
    "merged_data_filled.printSchema()"
   ]
  },
  {
   "cell_type": "code",
   "execution_count": 47,
   "metadata": {},
   "outputs": [
    {
     "name": "stdout",
     "output_type": "stream",
     "text": [
      "Number of missing values in dollar_value column: 0\n"
     ]
    }
   ],
   "source": [
    "print(\"Number of missing values in dollar_value column:\", merged_data_filled.filter(merged_data_filled['dollar_value'].isNull()).count())\n"
   ]
  },
  {
   "cell_type": "code",
   "execution_count": 48,
   "metadata": {},
   "outputs": [
    {
     "ename": "Py4JJavaError",
     "evalue": "An error occurred while calling o470.collectToPython.\n: org.apache.spark.SparkException: Job 48 cancelled because SparkContext was shut down\r\n\tat org.apache.spark.scheduler.DAGScheduler.$anonfun$cleanUpAfterSchedulerStop$1(DAGScheduler.scala:956)\r\n\tat org.apache.spark.scheduler.DAGScheduler.$anonfun$cleanUpAfterSchedulerStop$1$adapted(DAGScheduler.scala:954)\r\n\tat scala.collection.mutable.HashSet.foreach(HashSet.scala:79)\r\n\tat org.apache.spark.scheduler.DAGScheduler.cleanUpAfterSchedulerStop(DAGScheduler.scala:954)\r\n\tat org.apache.spark.scheduler.DAGSchedulerEventProcessLoop.onStop(DAGScheduler.scala:2221)\r\n\tat org.apache.spark.util.EventLoop.stop(EventLoop.scala:84)\r\n\tat org.apache.spark.scheduler.DAGScheduler.stop(DAGScheduler.scala:2134)\r\n\tat org.apache.spark.SparkContext.$anonfun$stop$12(SparkContext.scala:1967)\r\n\tat org.apache.spark.util.Utils$.tryLogNonFatalError(Utils.scala:1357)\r\n\tat org.apache.spark.SparkContext.stop(SparkContext.scala:1967)\r\n\tat org.apache.spark.SparkContext$$anon$3.run(SparkContext.scala:1916)\r\n\tat org.apache.spark.scheduler.DAGScheduler.runJob(DAGScheduler.scala:752)\r\n\tat org.apache.spark.SparkContext.runJob(SparkContext.scala:2093)\r\n\tat org.apache.spark.SparkContext.runJob(SparkContext.scala:2114)\r\n\tat org.apache.spark.SparkContext.runJob(SparkContext.scala:2133)\r\n\tat org.apache.spark.sql.execution.SparkPlan.executeTake(SparkPlan.scala:467)\r\n\tat org.apache.spark.sql.execution.SparkPlan.executeTake(SparkPlan.scala:420)\r\n\tat org.apache.spark.sql.execution.CollectLimitExec.executeCollect(limit.scala:47)\r\n\tat org.apache.spark.sql.Dataset.$anonfun$collectToPython$1(Dataset.scala:3448)\r\n\tat org.apache.spark.sql.Dataset.$anonfun$withAction$1(Dataset.scala:3616)\r\n\tat org.apache.spark.sql.execution.SQLExecution$.$anonfun$withNewExecutionId$5(SQLExecution.scala:100)\r\n\tat org.apache.spark.sql.execution.SQLExecution$.withSQLConfPropagated(SQLExecution.scala:160)\r\n\tat org.apache.spark.sql.execution.SQLExecution$.$anonfun$withNewExecutionId$1(SQLExecution.scala:87)\r\n\tat org.apache.spark.sql.SparkSession.withActive(SparkSession.scala:763)\r\n\tat org.apache.spark.sql.execution.SQLExecution$.withNewExecutionId(SQLExecution.scala:64)\r\n\tat org.apache.spark.sql.Dataset.withAction(Dataset.scala:3614)\r\n\tat org.apache.spark.sql.Dataset.collectToPython(Dataset.scala:3445)\r\n\tat sun.reflect.NativeMethodAccessorImpl.invoke0(Native Method)\r\n\tat sun.reflect.NativeMethodAccessorImpl.invoke(NativeMethodAccessorImpl.java:62)\r\n\tat sun.reflect.DelegatingMethodAccessorImpl.invoke(DelegatingMethodAccessorImpl.java:43)\r\n\tat java.lang.reflect.Method.invoke(Method.java:498)\r\n\tat py4j.reflection.MethodInvoker.invoke(MethodInvoker.java:244)\r\n\tat py4j.reflection.ReflectionEngine.invoke(ReflectionEngine.java:357)\r\n\tat py4j.Gateway.invoke(Gateway.java:282)\r\n\tat py4j.commands.AbstractCommand.invokeMethod(AbstractCommand.java:132)\r\n\tat py4j.commands.CallCommand.execute(CallCommand.java:79)\r\n\tat py4j.GatewayConnection.run(GatewayConnection.java:238)\r\n\tat java.lang.Thread.run(Thread.java:745)\r\n",
     "output_type": "error",
     "traceback": [
      "\u001b[1;31m---------------------------------------------------------------------------\u001b[0m",
      "\u001b[1;31mPy4JJavaError\u001b[0m                             Traceback (most recent call last)",
      "\u001b[1;32m~\\AppData\\Local\\Temp\\ipykernel_6668\\461561407.py\u001b[0m in \u001b[0;36m<module>\u001b[1;34m\u001b[0m\n\u001b[0;32m      1\u001b[0m \u001b[1;31m# Visualize the data distribution before and after outlier processing\u001b[0m\u001b[1;33m\u001b[0m\u001b[1;33m\u001b[0m\u001b[1;33m\u001b[0m\u001b[0m\n\u001b[0;32m      2\u001b[0m \u001b[1;31m# Convert to Pandas DataFrame for visualization\u001b[0m\u001b[1;33m\u001b[0m\u001b[1;33m\u001b[0m\u001b[1;33m\u001b[0m\u001b[0m\n\u001b[1;32m----> 3\u001b[1;33m \u001b[0mmerged_data_filled_pd\u001b[0m \u001b[1;33m=\u001b[0m \u001b[0mmerged_data_filled\u001b[0m\u001b[1;33m.\u001b[0m\u001b[0mlimit\u001b[0m\u001b[1;33m(\u001b[0m\u001b[1;36m10000000\u001b[0m\u001b[1;33m)\u001b[0m\u001b[1;33m.\u001b[0m\u001b[0mtoPandas\u001b[0m\u001b[1;33m(\u001b[0m\u001b[1;33m)\u001b[0m\u001b[1;33m\u001b[0m\u001b[1;33m\u001b[0m\u001b[0m\n\u001b[0m\u001b[0;32m      4\u001b[0m \u001b[0mmerged_data_filled_reduced\u001b[0m \u001b[1;33m=\u001b[0m \u001b[0mmerged_data_filled\u001b[0m\u001b[1;33m.\u001b[0m\u001b[0mselect\u001b[0m\u001b[1;33m(\u001b[0m\u001b[1;34m\"dollar_value\"\u001b[0m\u001b[1;33m)\u001b[0m\u001b[1;33m\u001b[0m\u001b[1;33m\u001b[0m\u001b[0m\n\u001b[0;32m      5\u001b[0m \u001b[0mmerged_data_filled_pd\u001b[0m \u001b[1;33m=\u001b[0m \u001b[0mmerged_data_filled_reduced\u001b[0m\u001b[1;33m.\u001b[0m\u001b[0mtoPandas\u001b[0m\u001b[1;33m(\u001b[0m\u001b[1;33m)\u001b[0m\u001b[1;33m\u001b[0m\u001b[1;33m\u001b[0m\u001b[0m\n",
      "\u001b[1;32md:\\anaconda\\lib\\site-packages\\pyspark\\sql\\pandas\\conversion.py\u001b[0m in \u001b[0;36mtoPandas\u001b[1;34m(self)\u001b[0m\n\u001b[0;32m    136\u001b[0m \u001b[1;33m\u001b[0m\u001b[0m\n\u001b[0;32m    137\u001b[0m         \u001b[1;31m# Below is toPandas without Arrow optimization.\u001b[0m\u001b[1;33m\u001b[0m\u001b[1;33m\u001b[0m\u001b[1;33m\u001b[0m\u001b[0m\n\u001b[1;32m--> 138\u001b[1;33m         \u001b[0mpdf\u001b[0m \u001b[1;33m=\u001b[0m \u001b[0mpd\u001b[0m\u001b[1;33m.\u001b[0m\u001b[0mDataFrame\u001b[0m\u001b[1;33m.\u001b[0m\u001b[0mfrom_records\u001b[0m\u001b[1;33m(\u001b[0m\u001b[0mself\u001b[0m\u001b[1;33m.\u001b[0m\u001b[0mcollect\u001b[0m\u001b[1;33m(\u001b[0m\u001b[1;33m)\u001b[0m\u001b[1;33m,\u001b[0m \u001b[0mcolumns\u001b[0m\u001b[1;33m=\u001b[0m\u001b[0mself\u001b[0m\u001b[1;33m.\u001b[0m\u001b[0mcolumns\u001b[0m\u001b[1;33m)\u001b[0m\u001b[1;33m\u001b[0m\u001b[1;33m\u001b[0m\u001b[0m\n\u001b[0m\u001b[0;32m    139\u001b[0m         \u001b[0mcolumn_counter\u001b[0m \u001b[1;33m=\u001b[0m \u001b[0mCounter\u001b[0m\u001b[1;33m(\u001b[0m\u001b[0mself\u001b[0m\u001b[1;33m.\u001b[0m\u001b[0mcolumns\u001b[0m\u001b[1;33m)\u001b[0m\u001b[1;33m\u001b[0m\u001b[1;33m\u001b[0m\u001b[0m\n\u001b[0;32m    140\u001b[0m \u001b[1;33m\u001b[0m\u001b[0m\n",
      "\u001b[1;32md:\\anaconda\\lib\\site-packages\\pyspark\\sql\\dataframe.py\u001b[0m in \u001b[0;36mcollect\u001b[1;34m(self)\u001b[0m\n\u001b[0;32m    594\u001b[0m         \"\"\"\n\u001b[0;32m    595\u001b[0m         \u001b[1;32mwith\u001b[0m \u001b[0mSCCallSiteSync\u001b[0m\u001b[1;33m(\u001b[0m\u001b[0mself\u001b[0m\u001b[1;33m.\u001b[0m\u001b[0m_sc\u001b[0m\u001b[1;33m)\u001b[0m \u001b[1;32mas\u001b[0m \u001b[0mcss\u001b[0m\u001b[1;33m:\u001b[0m\u001b[1;33m\u001b[0m\u001b[1;33m\u001b[0m\u001b[0m\n\u001b[1;32m--> 596\u001b[1;33m             \u001b[0msock_info\u001b[0m \u001b[1;33m=\u001b[0m \u001b[0mself\u001b[0m\u001b[1;33m.\u001b[0m\u001b[0m_jdf\u001b[0m\u001b[1;33m.\u001b[0m\u001b[0mcollectToPython\u001b[0m\u001b[1;33m(\u001b[0m\u001b[1;33m)\u001b[0m\u001b[1;33m\u001b[0m\u001b[1;33m\u001b[0m\u001b[0m\n\u001b[0m\u001b[0;32m    597\u001b[0m         \u001b[1;32mreturn\u001b[0m \u001b[0mlist\u001b[0m\u001b[1;33m(\u001b[0m\u001b[0m_load_from_socket\u001b[0m\u001b[1;33m(\u001b[0m\u001b[0msock_info\u001b[0m\u001b[1;33m,\u001b[0m \u001b[0mBatchedSerializer\u001b[0m\u001b[1;33m(\u001b[0m\u001b[0mPickleSerializer\u001b[0m\u001b[1;33m(\u001b[0m\u001b[1;33m)\u001b[0m\u001b[1;33m)\u001b[0m\u001b[1;33m)\u001b[0m\u001b[1;33m)\u001b[0m\u001b[1;33m\u001b[0m\u001b[1;33m\u001b[0m\u001b[0m\n\u001b[0;32m    598\u001b[0m \u001b[1;33m\u001b[0m\u001b[0m\n",
      "\u001b[1;32md:\\anaconda\\lib\\site-packages\\py4j\\java_gateway.py\u001b[0m in \u001b[0;36m__call__\u001b[1;34m(self, *args)\u001b[0m\n\u001b[0;32m   1303\u001b[0m         \u001b[0manswer\u001b[0m \u001b[1;33m=\u001b[0m \u001b[0mself\u001b[0m\u001b[1;33m.\u001b[0m\u001b[0mgateway_client\u001b[0m\u001b[1;33m.\u001b[0m\u001b[0msend_command\u001b[0m\u001b[1;33m(\u001b[0m\u001b[0mcommand\u001b[0m\u001b[1;33m)\u001b[0m\u001b[1;33m\u001b[0m\u001b[1;33m\u001b[0m\u001b[0m\n\u001b[0;32m   1304\u001b[0m         return_value = get_return_value(\n\u001b[1;32m-> 1305\u001b[1;33m             answer, self.gateway_client, self.target_id, self.name)\n\u001b[0m\u001b[0;32m   1306\u001b[0m \u001b[1;33m\u001b[0m\u001b[0m\n\u001b[0;32m   1307\u001b[0m         \u001b[1;32mfor\u001b[0m \u001b[0mtemp_arg\u001b[0m \u001b[1;32min\u001b[0m \u001b[0mtemp_args\u001b[0m\u001b[1;33m:\u001b[0m\u001b[1;33m\u001b[0m\u001b[1;33m\u001b[0m\u001b[0m\n",
      "\u001b[1;32md:\\anaconda\\lib\\site-packages\\pyspark\\sql\\utils.py\u001b[0m in \u001b[0;36mdeco\u001b[1;34m(*a, **kw)\u001b[0m\n\u001b[0;32m    129\u001b[0m     \u001b[1;32mdef\u001b[0m \u001b[0mdeco\u001b[0m\u001b[1;33m(\u001b[0m\u001b[1;33m*\u001b[0m\u001b[0ma\u001b[0m\u001b[1;33m,\u001b[0m \u001b[1;33m**\u001b[0m\u001b[0mkw\u001b[0m\u001b[1;33m)\u001b[0m\u001b[1;33m:\u001b[0m\u001b[1;33m\u001b[0m\u001b[1;33m\u001b[0m\u001b[0m\n\u001b[0;32m    130\u001b[0m         \u001b[1;32mtry\u001b[0m\u001b[1;33m:\u001b[0m\u001b[1;33m\u001b[0m\u001b[1;33m\u001b[0m\u001b[0m\n\u001b[1;32m--> 131\u001b[1;33m             \u001b[1;32mreturn\u001b[0m \u001b[0mf\u001b[0m\u001b[1;33m(\u001b[0m\u001b[1;33m*\u001b[0m\u001b[0ma\u001b[0m\u001b[1;33m,\u001b[0m \u001b[1;33m**\u001b[0m\u001b[0mkw\u001b[0m\u001b[1;33m)\u001b[0m\u001b[1;33m\u001b[0m\u001b[1;33m\u001b[0m\u001b[0m\n\u001b[0m\u001b[0;32m    132\u001b[0m         \u001b[1;32mexcept\u001b[0m \u001b[0mpy4j\u001b[0m\u001b[1;33m.\u001b[0m\u001b[0mprotocol\u001b[0m\u001b[1;33m.\u001b[0m\u001b[0mPy4JJavaError\u001b[0m \u001b[1;32mas\u001b[0m \u001b[0me\u001b[0m\u001b[1;33m:\u001b[0m\u001b[1;33m\u001b[0m\u001b[1;33m\u001b[0m\u001b[0m\n\u001b[0;32m    133\u001b[0m             \u001b[0mconverted\u001b[0m \u001b[1;33m=\u001b[0m \u001b[0mconvert_exception\u001b[0m\u001b[1;33m(\u001b[0m\u001b[0me\u001b[0m\u001b[1;33m.\u001b[0m\u001b[0mjava_exception\u001b[0m\u001b[1;33m)\u001b[0m\u001b[1;33m\u001b[0m\u001b[1;33m\u001b[0m\u001b[0m\n",
      "\u001b[1;32md:\\anaconda\\lib\\site-packages\\py4j\\protocol.py\u001b[0m in \u001b[0;36mget_return_value\u001b[1;34m(answer, gateway_client, target_id, name)\u001b[0m\n\u001b[0;32m    326\u001b[0m                 raise Py4JJavaError(\n\u001b[0;32m    327\u001b[0m                     \u001b[1;34m\"An error occurred while calling {0}{1}{2}.\\n\"\u001b[0m\u001b[1;33m.\u001b[0m\u001b[1;33m\u001b[0m\u001b[1;33m\u001b[0m\u001b[0m\n\u001b[1;32m--> 328\u001b[1;33m                     format(target_id, \".\", name), value)\n\u001b[0m\u001b[0;32m    329\u001b[0m             \u001b[1;32melse\u001b[0m\u001b[1;33m:\u001b[0m\u001b[1;33m\u001b[0m\u001b[1;33m\u001b[0m\u001b[0m\n\u001b[0;32m    330\u001b[0m                 raise Py4JError(\n",
      "\u001b[1;31mPy4JJavaError\u001b[0m: An error occurred while calling o470.collectToPython.\n: org.apache.spark.SparkException: Job 48 cancelled because SparkContext was shut down\r\n\tat org.apache.spark.scheduler.DAGScheduler.$anonfun$cleanUpAfterSchedulerStop$1(DAGScheduler.scala:956)\r\n\tat org.apache.spark.scheduler.DAGScheduler.$anonfun$cleanUpAfterSchedulerStop$1$adapted(DAGScheduler.scala:954)\r\n\tat scala.collection.mutable.HashSet.foreach(HashSet.scala:79)\r\n\tat org.apache.spark.scheduler.DAGScheduler.cleanUpAfterSchedulerStop(DAGScheduler.scala:954)\r\n\tat org.apache.spark.scheduler.DAGSchedulerEventProcessLoop.onStop(DAGScheduler.scala:2221)\r\n\tat org.apache.spark.util.EventLoop.stop(EventLoop.scala:84)\r\n\tat org.apache.spark.scheduler.DAGScheduler.stop(DAGScheduler.scala:2134)\r\n\tat org.apache.spark.SparkContext.$anonfun$stop$12(SparkContext.scala:1967)\r\n\tat org.apache.spark.util.Utils$.tryLogNonFatalError(Utils.scala:1357)\r\n\tat org.apache.spark.SparkContext.stop(SparkContext.scala:1967)\r\n\tat org.apache.spark.SparkContext$$anon$3.run(SparkContext.scala:1916)\r\n\tat org.apache.spark.scheduler.DAGScheduler.runJob(DAGScheduler.scala:752)\r\n\tat org.apache.spark.SparkContext.runJob(SparkContext.scala:2093)\r\n\tat org.apache.spark.SparkContext.runJob(SparkContext.scala:2114)\r\n\tat org.apache.spark.SparkContext.runJob(SparkContext.scala:2133)\r\n\tat org.apache.spark.sql.execution.SparkPlan.executeTake(SparkPlan.scala:467)\r\n\tat org.apache.spark.sql.execution.SparkPlan.executeTake(SparkPlan.scala:420)\r\n\tat org.apache.spark.sql.execution.CollectLimitExec.executeCollect(limit.scala:47)\r\n\tat org.apache.spark.sql.Dataset.$anonfun$collectToPython$1(Dataset.scala:3448)\r\n\tat org.apache.spark.sql.Dataset.$anonfun$withAction$1(Dataset.scala:3616)\r\n\tat org.apache.spark.sql.execution.SQLExecution$.$anonfun$withNewExecutionId$5(SQLExecution.scala:100)\r\n\tat org.apache.spark.sql.execution.SQLExecution$.withSQLConfPropagated(SQLExecution.scala:160)\r\n\tat org.apache.spark.sql.execution.SQLExecution$.$anonfun$withNewExecutionId$1(SQLExecution.scala:87)\r\n\tat org.apache.spark.sql.SparkSession.withActive(SparkSession.scala:763)\r\n\tat org.apache.spark.sql.execution.SQLExecution$.withNewExecutionId(SQLExecution.scala:64)\r\n\tat org.apache.spark.sql.Dataset.withAction(Dataset.scala:3614)\r\n\tat org.apache.spark.sql.Dataset.collectToPython(Dataset.scala:3445)\r\n\tat sun.reflect.NativeMethodAccessorImpl.invoke0(Native Method)\r\n\tat sun.reflect.NativeMethodAccessorImpl.invoke(NativeMethodAccessorImpl.java:62)\r\n\tat sun.reflect.DelegatingMethodAccessorImpl.invoke(DelegatingMethodAccessorImpl.java:43)\r\n\tat java.lang.reflect.Method.invoke(Method.java:498)\r\n\tat py4j.reflection.MethodInvoker.invoke(MethodInvoker.java:244)\r\n\tat py4j.reflection.ReflectionEngine.invoke(ReflectionEngine.java:357)\r\n\tat py4j.Gateway.invoke(Gateway.java:282)\r\n\tat py4j.commands.AbstractCommand.invokeMethod(AbstractCommand.java:132)\r\n\tat py4j.commands.CallCommand.execute(CallCommand.java:79)\r\n\tat py4j.GatewayConnection.run(GatewayConnection.java:238)\r\n\tat java.lang.Thread.run(Thread.java:745)\r\n"
     ]
    }
   ],
   "source": [
    "# Visualize the data distribution before and after outlier processing\n",
    "# Convert to Pandas DataFrame for visualization\n",
    "merged_data_filled_pd = merged_data_filled.limit(10000000).toPandas()\n",
    "merged_data_filled_reduced = merged_data_filled.select(\"dollar_value\")\n",
    "merged_data_filled_pd = merged_data_filled_reduced.toPandas()\n",
    "\n",
    "\n",
    "sns.boxplot(x=merged_data_filled_pd['dollar_value'])\n",
    "plt.title('Transaction Amount Distribution After Outlier Removal')\n",
    "plt.show()"
   ]
  },
  {
   "cell_type": "code",
   "execution_count": 52,
   "metadata": {},
   "outputs": [
    {
     "name": "stderr",
     "output_type": "stream",
     "text": [
      "ERROR:py4j.java_gateway:An error occurred while trying to connect to the Java server (127.0.0.1:65286)\n",
      "Traceback (most recent call last):\n",
      "  File \"d:\\anaconda\\lib\\site-packages\\py4j\\java_gateway.py\", line 977, in _get_connection\n",
      "    connection = self.deque.pop()\n",
      "IndexError: pop from an empty deque\n",
      "\n",
      "During handling of the above exception, another exception occurred:\n",
      "\n",
      "Traceback (most recent call last):\n",
      "  File \"d:\\anaconda\\lib\\site-packages\\py4j\\java_gateway.py\", line 1115, in start\n",
      "    self.socket.connect((self.address, self.port))\n",
      "ConnectionRefusedError: [WinError 10061] 由于目标计算机积极拒绝，无法连接。\n"
     ]
    },
    {
     "ename": "Py4JNetworkError",
     "evalue": "An error occurred while trying to connect to the Java server (127.0.0.1:65286)",
     "output_type": "error",
     "traceback": [
      "\u001b[1;31m---------------------------------------------------------------------------\u001b[0m",
      "\u001b[1;31mIndexError\u001b[0m                                Traceback (most recent call last)",
      "\u001b[1;32md:\\anaconda\\lib\\site-packages\\py4j\\java_gateway.py\u001b[0m in \u001b[0;36m_get_connection\u001b[1;34m(self)\u001b[0m\n\u001b[0;32m    976\u001b[0m         \u001b[1;32mtry\u001b[0m\u001b[1;33m:\u001b[0m\u001b[1;33m\u001b[0m\u001b[1;33m\u001b[0m\u001b[0m\n\u001b[1;32m--> 977\u001b[1;33m             \u001b[0mconnection\u001b[0m \u001b[1;33m=\u001b[0m \u001b[0mself\u001b[0m\u001b[1;33m.\u001b[0m\u001b[0mdeque\u001b[0m\u001b[1;33m.\u001b[0m\u001b[0mpop\u001b[0m\u001b[1;33m(\u001b[0m\u001b[1;33m)\u001b[0m\u001b[1;33m\u001b[0m\u001b[1;33m\u001b[0m\u001b[0m\n\u001b[0m\u001b[0;32m    978\u001b[0m         \u001b[1;32mexcept\u001b[0m \u001b[0mIndexError\u001b[0m\u001b[1;33m:\u001b[0m\u001b[1;33m\u001b[0m\u001b[1;33m\u001b[0m\u001b[0m\n",
      "\u001b[1;31mIndexError\u001b[0m: pop from an empty deque",
      "\nDuring handling of the above exception, another exception occurred:\n",
      "\u001b[1;31mConnectionRefusedError\u001b[0m                    Traceback (most recent call last)",
      "\u001b[1;32md:\\anaconda\\lib\\site-packages\\py4j\\java_gateway.py\u001b[0m in \u001b[0;36mstart\u001b[1;34m(self)\u001b[0m\n\u001b[0;32m   1114\u001b[0m         \u001b[1;32mtry\u001b[0m\u001b[1;33m:\u001b[0m\u001b[1;33m\u001b[0m\u001b[1;33m\u001b[0m\u001b[0m\n\u001b[1;32m-> 1115\u001b[1;33m             \u001b[0mself\u001b[0m\u001b[1;33m.\u001b[0m\u001b[0msocket\u001b[0m\u001b[1;33m.\u001b[0m\u001b[0mconnect\u001b[0m\u001b[1;33m(\u001b[0m\u001b[1;33m(\u001b[0m\u001b[0mself\u001b[0m\u001b[1;33m.\u001b[0m\u001b[0maddress\u001b[0m\u001b[1;33m,\u001b[0m \u001b[0mself\u001b[0m\u001b[1;33m.\u001b[0m\u001b[0mport\u001b[0m\u001b[1;33m)\u001b[0m\u001b[1;33m)\u001b[0m\u001b[1;33m\u001b[0m\u001b[1;33m\u001b[0m\u001b[0m\n\u001b[0m\u001b[0;32m   1116\u001b[0m             \u001b[0mself\u001b[0m\u001b[1;33m.\u001b[0m\u001b[0mstream\u001b[0m \u001b[1;33m=\u001b[0m \u001b[0mself\u001b[0m\u001b[1;33m.\u001b[0m\u001b[0msocket\u001b[0m\u001b[1;33m.\u001b[0m\u001b[0mmakefile\u001b[0m\u001b[1;33m(\u001b[0m\u001b[1;34m\"rb\"\u001b[0m\u001b[1;33m)\u001b[0m\u001b[1;33m\u001b[0m\u001b[1;33m\u001b[0m\u001b[0m\n",
      "\u001b[1;31mConnectionRefusedError\u001b[0m: [WinError 10061] 由于目标计算机积极拒绝，无法连接。",
      "\nDuring handling of the above exception, another exception occurred:\n",
      "\u001b[1;31mPy4JNetworkError\u001b[0m                          Traceback (most recent call last)",
      "\u001b[1;32m~\\AppData\\Local\\Temp\\ipykernel_6668\\2100647545.py\u001b[0m in \u001b[0;36m<module>\u001b[1;34m\u001b[0m\n\u001b[0;32m      1\u001b[0m \u001b[1;31m# Look at the revenue distribution of merchants Look at the revenue distribution of merchants\u001b[0m\u001b[1;33m\u001b[0m\u001b[1;33m\u001b[0m\u001b[1;33m\u001b[0m\u001b[0m\n\u001b[1;32m----> 2\u001b[1;33m \u001b[0msns\u001b[0m\u001b[1;33m.\u001b[0m\u001b[0mhistplot\u001b[0m\u001b[1;33m(\u001b[0m\u001b[0mmerged_data_filled\u001b[0m\u001b[1;33m[\u001b[0m\u001b[1;34m'total_revenue'\u001b[0m\u001b[1;33m]\u001b[0m\u001b[1;33m,\u001b[0m \u001b[0mbins\u001b[0m\u001b[1;33m=\u001b[0m\u001b[1;36m30\u001b[0m\u001b[1;33m)\u001b[0m\u001b[1;33m\u001b[0m\u001b[1;33m\u001b[0m\u001b[0m\n\u001b[0m\u001b[0;32m      3\u001b[0m \u001b[0mplt\u001b[0m\u001b[1;33m.\u001b[0m\u001b[0mtitle\u001b[0m\u001b[1;33m(\u001b[0m\u001b[1;34m'Merchant Total Revenue Distribution'\u001b[0m\u001b[1;33m)\u001b[0m\u001b[1;33m\u001b[0m\u001b[1;33m\u001b[0m\u001b[0m\n\u001b[0;32m      4\u001b[0m \u001b[0mplt\u001b[0m\u001b[1;33m.\u001b[0m\u001b[0mshow\u001b[0m\u001b[1;33m(\u001b[0m\u001b[1;33m)\u001b[0m\u001b[1;33m\u001b[0m\u001b[1;33m\u001b[0m\u001b[0m\n",
      "\u001b[1;32md:\\anaconda\\lib\\site-packages\\pyspark\\sql\\dataframe.py\u001b[0m in \u001b[0;36m__getitem__\u001b[1;34m(self, item)\u001b[0m\n\u001b[0;32m   1378\u001b[0m         \"\"\"\n\u001b[0;32m   1379\u001b[0m         \u001b[1;32mif\u001b[0m \u001b[0misinstance\u001b[0m\u001b[1;33m(\u001b[0m\u001b[0mitem\u001b[0m\u001b[1;33m,\u001b[0m \u001b[0mbasestring\u001b[0m\u001b[1;33m)\u001b[0m\u001b[1;33m:\u001b[0m\u001b[1;33m\u001b[0m\u001b[1;33m\u001b[0m\u001b[0m\n\u001b[1;32m-> 1380\u001b[1;33m             \u001b[0mjc\u001b[0m \u001b[1;33m=\u001b[0m \u001b[0mself\u001b[0m\u001b[1;33m.\u001b[0m\u001b[0m_jdf\u001b[0m\u001b[1;33m.\u001b[0m\u001b[0mapply\u001b[0m\u001b[1;33m(\u001b[0m\u001b[0mitem\u001b[0m\u001b[1;33m)\u001b[0m\u001b[1;33m\u001b[0m\u001b[1;33m\u001b[0m\u001b[0m\n\u001b[0m\u001b[0;32m   1381\u001b[0m             \u001b[1;32mreturn\u001b[0m \u001b[0mColumn\u001b[0m\u001b[1;33m(\u001b[0m\u001b[0mjc\u001b[0m\u001b[1;33m)\u001b[0m\u001b[1;33m\u001b[0m\u001b[1;33m\u001b[0m\u001b[0m\n\u001b[0;32m   1382\u001b[0m         \u001b[1;32melif\u001b[0m \u001b[0misinstance\u001b[0m\u001b[1;33m(\u001b[0m\u001b[0mitem\u001b[0m\u001b[1;33m,\u001b[0m \u001b[0mColumn\u001b[0m\u001b[1;33m)\u001b[0m\u001b[1;33m:\u001b[0m\u001b[1;33m\u001b[0m\u001b[1;33m\u001b[0m\u001b[0m\n",
      "\u001b[1;32md:\\anaconda\\lib\\site-packages\\py4j\\java_gateway.py\u001b[0m in \u001b[0;36m__call__\u001b[1;34m(self, *args)\u001b[0m\n\u001b[0;32m   1301\u001b[0m             \u001b[0mproto\u001b[0m\u001b[1;33m.\u001b[0m\u001b[0mEND_COMMAND_PART\u001b[0m\u001b[1;33m\u001b[0m\u001b[1;33m\u001b[0m\u001b[0m\n\u001b[0;32m   1302\u001b[0m \u001b[1;33m\u001b[0m\u001b[0m\n\u001b[1;32m-> 1303\u001b[1;33m         \u001b[0manswer\u001b[0m \u001b[1;33m=\u001b[0m \u001b[0mself\u001b[0m\u001b[1;33m.\u001b[0m\u001b[0mgateway_client\u001b[0m\u001b[1;33m.\u001b[0m\u001b[0msend_command\u001b[0m\u001b[1;33m(\u001b[0m\u001b[0mcommand\u001b[0m\u001b[1;33m)\u001b[0m\u001b[1;33m\u001b[0m\u001b[1;33m\u001b[0m\u001b[0m\n\u001b[0m\u001b[0;32m   1304\u001b[0m         return_value = get_return_value(\n\u001b[0;32m   1305\u001b[0m             answer, self.gateway_client, self.target_id, self.name)\n",
      "\u001b[1;32md:\\anaconda\\lib\\site-packages\\py4j\\java_gateway.py\u001b[0m in \u001b[0;36msend_command\u001b[1;34m(self, command, retry, binary)\u001b[0m\n\u001b[0;32m   1029\u001b[0m          \u001b[1;32mif\u001b[0m\u001b[0;31m \u001b[0m\u001b[0;31m`\u001b[0m\u001b[0mbinary\u001b[0m\u001b[0;31m`\u001b[0m \u001b[1;32mis\u001b[0m\u001b[0;31m \u001b[0m\u001b[0;31m`\u001b[0m\u001b[1;32mTrue\u001b[0m\u001b[0;31m`\u001b[0m\u001b[1;33m.\u001b[0m\u001b[1;33m\u001b[0m\u001b[1;33m\u001b[0m\u001b[0m\n\u001b[0;32m   1030\u001b[0m         \"\"\"\n\u001b[1;32m-> 1031\u001b[1;33m         \u001b[0mconnection\u001b[0m \u001b[1;33m=\u001b[0m \u001b[0mself\u001b[0m\u001b[1;33m.\u001b[0m\u001b[0m_get_connection\u001b[0m\u001b[1;33m(\u001b[0m\u001b[1;33m)\u001b[0m\u001b[1;33m\u001b[0m\u001b[1;33m\u001b[0m\u001b[0m\n\u001b[0m\u001b[0;32m   1032\u001b[0m         \u001b[1;32mtry\u001b[0m\u001b[1;33m:\u001b[0m\u001b[1;33m\u001b[0m\u001b[1;33m\u001b[0m\u001b[0m\n\u001b[0;32m   1033\u001b[0m             \u001b[0mresponse\u001b[0m \u001b[1;33m=\u001b[0m \u001b[0mconnection\u001b[0m\u001b[1;33m.\u001b[0m\u001b[0msend_command\u001b[0m\u001b[1;33m(\u001b[0m\u001b[0mcommand\u001b[0m\u001b[1;33m)\u001b[0m\u001b[1;33m\u001b[0m\u001b[1;33m\u001b[0m\u001b[0m\n",
      "\u001b[1;32md:\\anaconda\\lib\\site-packages\\py4j\\java_gateway.py\u001b[0m in \u001b[0;36m_get_connection\u001b[1;34m(self)\u001b[0m\n\u001b[0;32m    977\u001b[0m             \u001b[0mconnection\u001b[0m \u001b[1;33m=\u001b[0m \u001b[0mself\u001b[0m\u001b[1;33m.\u001b[0m\u001b[0mdeque\u001b[0m\u001b[1;33m.\u001b[0m\u001b[0mpop\u001b[0m\u001b[1;33m(\u001b[0m\u001b[1;33m)\u001b[0m\u001b[1;33m\u001b[0m\u001b[1;33m\u001b[0m\u001b[0m\n\u001b[0;32m    978\u001b[0m         \u001b[1;32mexcept\u001b[0m \u001b[0mIndexError\u001b[0m\u001b[1;33m:\u001b[0m\u001b[1;33m\u001b[0m\u001b[1;33m\u001b[0m\u001b[0m\n\u001b[1;32m--> 979\u001b[1;33m             \u001b[0mconnection\u001b[0m \u001b[1;33m=\u001b[0m \u001b[0mself\u001b[0m\u001b[1;33m.\u001b[0m\u001b[0m_create_connection\u001b[0m\u001b[1;33m(\u001b[0m\u001b[1;33m)\u001b[0m\u001b[1;33m\u001b[0m\u001b[1;33m\u001b[0m\u001b[0m\n\u001b[0m\u001b[0;32m    980\u001b[0m         \u001b[1;32mreturn\u001b[0m \u001b[0mconnection\u001b[0m\u001b[1;33m\u001b[0m\u001b[1;33m\u001b[0m\u001b[0m\n\u001b[0;32m    981\u001b[0m \u001b[1;33m\u001b[0m\u001b[0m\n",
      "\u001b[1;32md:\\anaconda\\lib\\site-packages\\py4j\\java_gateway.py\u001b[0m in \u001b[0;36m_create_connection\u001b[1;34m(self)\u001b[0m\n\u001b[0;32m    983\u001b[0m         connection = GatewayConnection(\n\u001b[0;32m    984\u001b[0m             self.gateway_parameters, self.gateway_property)\n\u001b[1;32m--> 985\u001b[1;33m         \u001b[0mconnection\u001b[0m\u001b[1;33m.\u001b[0m\u001b[0mstart\u001b[0m\u001b[1;33m(\u001b[0m\u001b[1;33m)\u001b[0m\u001b[1;33m\u001b[0m\u001b[1;33m\u001b[0m\u001b[0m\n\u001b[0m\u001b[0;32m    986\u001b[0m         \u001b[1;32mreturn\u001b[0m \u001b[0mconnection\u001b[0m\u001b[1;33m\u001b[0m\u001b[1;33m\u001b[0m\u001b[0m\n\u001b[0;32m    987\u001b[0m \u001b[1;33m\u001b[0m\u001b[0m\n",
      "\u001b[1;32md:\\anaconda\\lib\\site-packages\\py4j\\java_gateway.py\u001b[0m in \u001b[0;36mstart\u001b[1;34m(self)\u001b[0m\n\u001b[0;32m   1125\u001b[0m                 \u001b[1;34m\"server ({0}:{1})\"\u001b[0m\u001b[1;33m.\u001b[0m\u001b[0mformat\u001b[0m\u001b[1;33m(\u001b[0m\u001b[0mself\u001b[0m\u001b[1;33m.\u001b[0m\u001b[0maddress\u001b[0m\u001b[1;33m,\u001b[0m \u001b[0mself\u001b[0m\u001b[1;33m.\u001b[0m\u001b[0mport\u001b[0m\u001b[1;33m)\u001b[0m\u001b[1;33m\u001b[0m\u001b[1;33m\u001b[0m\u001b[0m\n\u001b[0;32m   1126\u001b[0m             \u001b[0mlogger\u001b[0m\u001b[1;33m.\u001b[0m\u001b[0mexception\u001b[0m\u001b[1;33m(\u001b[0m\u001b[0mmsg\u001b[0m\u001b[1;33m)\u001b[0m\u001b[1;33m\u001b[0m\u001b[1;33m\u001b[0m\u001b[0m\n\u001b[1;32m-> 1127\u001b[1;33m             \u001b[1;32mraise\u001b[0m \u001b[0mPy4JNetworkError\u001b[0m\u001b[1;33m(\u001b[0m\u001b[0mmsg\u001b[0m\u001b[1;33m,\u001b[0m \u001b[0me\u001b[0m\u001b[1;33m)\u001b[0m\u001b[1;33m\u001b[0m\u001b[1;33m\u001b[0m\u001b[0m\n\u001b[0m\u001b[0;32m   1128\u001b[0m \u001b[1;33m\u001b[0m\u001b[0m\n\u001b[0;32m   1129\u001b[0m     \u001b[1;32mdef\u001b[0m \u001b[0m_authenticate_connection\u001b[0m\u001b[1;33m(\u001b[0m\u001b[0mself\u001b[0m\u001b[1;33m)\u001b[0m\u001b[1;33m:\u001b[0m\u001b[1;33m\u001b[0m\u001b[1;33m\u001b[0m\u001b[0m\n",
      "\u001b[1;31mPy4JNetworkError\u001b[0m: An error occurred while trying to connect to the Java server (127.0.0.1:65286)"
     ]
    }
   ],
   "source": [
    "# Look at the revenue distribution of merchants Look at the revenue distribution of merchants\n",
    "sns.histplot(merged_data_filled['total_revenue'], bins=30)\n",
    "plt.title('Merchant Total Revenue Distribution')\n",
    "plt.show()"
   ]
  },
  {
   "cell_type": "code",
   "execution_count": 51,
   "metadata": {},
   "outputs": [
    {
     "ename": "TypeError",
     "evalue": "corr() missing 2 required positional arguments: 'col1' and 'col2'",
     "output_type": "error",
     "traceback": [
      "\u001b[1;31m---------------------------------------------------------------------------\u001b[0m",
      "\u001b[1;31mTypeError\u001b[0m                                 Traceback (most recent call last)",
      "\u001b[1;32m~\\AppData\\Local\\Temp\\ipykernel_6668\\3707131953.py\u001b[0m in \u001b[0;36m<module>\u001b[1;34m\u001b[0m\n\u001b[0;32m      1\u001b[0m \u001b[1;31m# 初步洞察：哪些特征对商户排序影响最大\u001b[0m\u001b[1;33m\u001b[0m\u001b[1;33m\u001b[0m\u001b[1;33m\u001b[0m\u001b[0m\n\u001b[1;32m----> 2\u001b[1;33m \u001b[0mcorr_matrix\u001b[0m \u001b[1;33m=\u001b[0m \u001b[0mmerged_data_filled\u001b[0m\u001b[1;33m.\u001b[0m\u001b[0mcorr\u001b[0m\u001b[1;33m(\u001b[0m\u001b[1;33m)\u001b[0m\u001b[1;33m\u001b[0m\u001b[1;33m\u001b[0m\u001b[0m\n\u001b[0m\u001b[0;32m      3\u001b[0m \u001b[0msns\u001b[0m\u001b[1;33m.\u001b[0m\u001b[0mheatmap\u001b[0m\u001b[1;33m(\u001b[0m\u001b[0mcorr_matrix\u001b[0m\u001b[1;33m,\u001b[0m \u001b[0mannot\u001b[0m\u001b[1;33m=\u001b[0m\u001b[1;32mTrue\u001b[0m\u001b[1;33m,\u001b[0m \u001b[0mfmt\u001b[0m\u001b[1;33m=\u001b[0m\u001b[1;34m'.2f'\u001b[0m\u001b[1;33m,\u001b[0m \u001b[0mcmap\u001b[0m\u001b[1;33m=\u001b[0m\u001b[1;34m'coolwarm'\u001b[0m\u001b[1;33m)\u001b[0m\u001b[1;33m\u001b[0m\u001b[1;33m\u001b[0m\u001b[0m\n\u001b[0;32m      4\u001b[0m \u001b[0mplt\u001b[0m\u001b[1;33m.\u001b[0m\u001b[0mtitle\u001b[0m\u001b[1;33m(\u001b[0m\u001b[1;34m'Correlation Matrix'\u001b[0m\u001b[1;33m)\u001b[0m\u001b[1;33m\u001b[0m\u001b[1;33m\u001b[0m\u001b[0m\n\u001b[0;32m      5\u001b[0m \u001b[0mplt\u001b[0m\u001b[1;33m.\u001b[0m\u001b[0mshow\u001b[0m\u001b[1;33m(\u001b[0m\u001b[1;33m)\u001b[0m\u001b[1;33m\u001b[0m\u001b[1;33m\u001b[0m\u001b[0m\n",
      "\u001b[1;31mTypeError\u001b[0m: corr() missing 2 required positional arguments: 'col1' and 'col2'"
     ]
    }
   ],
   "source": [
    "\n",
    "# 初步洞察：哪些特征对商户排序影响最大\n",
    "corr_matrix = merged_data_filled.corr()\n",
    "sns.heatmap(corr_matrix, annot=True, fmt='.2f', cmap='coolwarm')\n",
    "plt.title('Correlation Matrix')\n",
    "plt.show()"
   ]
  },
  {
   "cell_type": "code",
   "execution_count": null,
   "metadata": {},
   "outputs": [],
   "source": []
  }
 ],
 "metadata": {
  "kernelspec": {
   "display_name": "base",
   "language": "python",
   "name": "python3"
  },
  "language_info": {
   "codemirror_mode": {
    "name": "ipython",
    "version": 3
   },
   "file_extension": ".py",
   "mimetype": "text/x-python",
   "name": "python",
   "nbconvert_exporter": "python",
   "pygments_lexer": "ipython3",
   "version": "3.7.3"
  }
 },
 "nbformat": 4,
 "nbformat_minor": 2
}
